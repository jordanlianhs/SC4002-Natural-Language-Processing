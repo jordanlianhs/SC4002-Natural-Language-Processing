{
 "cells": [
  {
   "cell_type": "markdown",
   "metadata": {},
   "source": [
    "# Part 1 Sequence Tagging: NER\n"
   ]
  },
  {
   "cell_type": "markdown",
   "metadata": {},
   "source": [
    "## Q1.1 Word Embedding\n"
   ]
  },
  {
   "cell_type": "markdown",
   "metadata": {},
   "source": [
    "### Q1.1.1 Download Dependency\n"
   ]
  },
  {
   "cell_type": "code",
   "execution_count": 1,
   "metadata": {},
   "outputs": [
    {
     "name": "stdout",
     "output_type": "stream",
     "text": [
      "Looking in indexes: https://pypi.org/simple, https://pypi.ngc.nvidia.com\n",
      "Requirement already satisfied: gensim in c:\\users\\woony\\anaconda3\\lib\\site-packages (4.3.2)\n",
      "Requirement already satisfied: numpy>=1.18.5 in c:\\users\\woony\\anaconda3\\lib\\site-packages (from gensim) (1.24.3)\n",
      "Requirement already satisfied: scipy>=1.7.0 in c:\\users\\woony\\anaconda3\\lib\\site-packages (from gensim) (1.11.1)\n",
      "Requirement already satisfied: smart-open>=1.8.1 in c:\\users\\woony\\anaconda3\\lib\\site-packages (from gensim) (5.2.1)\n"
     ]
    }
   ],
   "source": [
    "!pip install --upgrade gensim"
   ]
  },
  {
   "cell_type": "markdown",
   "metadata": {},
   "source": [
    "### Q1.1.2 Download the pretrained word2vec embeddings\n"
   ]
  },
  {
   "cell_type": "code",
   "execution_count": 1,
   "metadata": {},
   "outputs": [],
   "source": [
    "import gensim.downloader\n",
    "import numpy as np\n",
    "import pandas as pd\n",
    "import tqdm\n",
    "import time\n",
    "# Download the embeddings \"word2vec-google-news-300\"\n",
    "w2v = gensim.downloader.load('word2vec-google-news-300')"
   ]
  },
  {
   "cell_type": "markdown",
   "metadata": {},
   "source": [
    "# Part 2 Sentence-Level Categorization: Question Classification\n"
   ]
  },
  {
   "cell_type": "markdown",
   "metadata": {},
   "source": [
    "## Let us first pre-process the dataset, and create a development set\n"
   ]
  },
  {
   "cell_type": "code",
   "execution_count": 2,
   "metadata": {},
   "outputs": [],
   "source": [
    "random_seed = 42"
   ]
  },
  {
   "cell_type": "code",
   "execution_count": 3,
   "metadata": {},
   "outputs": [],
   "source": [
    "import pandas as pd\n",
    "from sklearn.model_selection import train_test_split\n",
    "\n",
    "# Define the file paths\n",
    "train_file = \"data/Part 2/train.csv\"\n",
    "test_file = \"data/Part 2/test.csv\"\n",
    "\n",
    "# Load the original training data\n",
    "original_train_df = pd.read_csv(train_file)\n",
    "\n",
    "# Split the original training data into train and validation sets\n",
    "train_df, validation_df = train_test_split(original_train_df, test_size=500, random_state=random_seed)\n",
    "\n",
    "# Load the test data\n",
    "test_df = pd.read_csv(test_file)"
   ]
  },
  {
   "cell_type": "code",
   "execution_count": 4,
   "metadata": {},
   "outputs": [
    {
     "name": "stdout",
     "output_type": "stream",
     "text": [
      "Original shape:    (5452, 3)\n",
      "Training shape:    (4952, 3)\n",
      "Validation shape:  (500, 3)\n",
      "Test shape:\t   (500, 3)\n"
     ]
    }
   ],
   "source": [
    "print(\"Original shape:   \", original_train_df.shape)\n",
    "print(\"Training shape:   \", train_df.shape)\n",
    "print(\"Validation shape: \", validation_df.shape)\n",
    "print(\"Test shape:\\t  \", test_df.shape)"
   ]
  },
  {
   "cell_type": "markdown",
   "metadata": {},
   "source": [
    "### Now let us randomly select 4 class from the 6 different coarse labels and combine the remaing labels to form a single class 'OTHERS'\n"
   ]
  },
  {
   "cell_type": "code",
   "execution_count": 5,
   "metadata": {},
   "outputs": [
    {
     "data": {
      "text/html": [
       "<div>\n",
       "<style scoped>\n",
       "    .dataframe tbody tr th:only-of-type {\n",
       "        vertical-align: middle;\n",
       "    }\n",
       "\n",
       "    .dataframe tbody tr th {\n",
       "        vertical-align: top;\n",
       "    }\n",
       "\n",
       "    .dataframe thead th {\n",
       "        text-align: right;\n",
       "    }\n",
       "</style>\n",
       "<table border=\"1\" class=\"dataframe\">\n",
       "  <thead>\n",
       "    <tr style=\"text-align: right;\">\n",
       "      <th></th>\n",
       "      <th>label-coarse</th>\n",
       "      <th>label-fine</th>\n",
       "      <th>text</th>\n",
       "    </tr>\n",
       "  </thead>\n",
       "  <tbody>\n",
       "    <tr>\n",
       "      <th>4943</th>\n",
       "      <td>2</td>\n",
       "      <td>34</td>\n",
       "      <td>What is Mikhail Gorbachev 's middle initial ?</td>\n",
       "    </tr>\n",
       "    <tr>\n",
       "      <th>2346</th>\n",
       "      <td>0</td>\n",
       "      <td>0</td>\n",
       "      <td>How does the tail affect the flight of a kite ?</td>\n",
       "    </tr>\n",
       "    <tr>\n",
       "      <th>1835</th>\n",
       "      <td>5</td>\n",
       "      <td>21</td>\n",
       "      <td>What were the first three cities to have a pop...</td>\n",
       "    </tr>\n",
       "    <tr>\n",
       "      <th>4047</th>\n",
       "      <td>1</td>\n",
       "      <td>1</td>\n",
       "      <td>What is the movie Jonathan Livingstone Seagull ?</td>\n",
       "    </tr>\n",
       "    <tr>\n",
       "      <th>5097</th>\n",
       "      <td>1</td>\n",
       "      <td>23</td>\n",
       "      <td>What is a fear of home surroundings ?</td>\n",
       "    </tr>\n",
       "    <tr>\n",
       "      <th>...</th>\n",
       "      <td>...</td>\n",
       "      <td>...</td>\n",
       "      <td>...</td>\n",
       "    </tr>\n",
       "    <tr>\n",
       "      <th>3772</th>\n",
       "      <td>4</td>\n",
       "      <td>13</td>\n",
       "      <td>How much Coca Cola is drunk in one day in the ...</td>\n",
       "    </tr>\n",
       "    <tr>\n",
       "      <th>5191</th>\n",
       "      <td>5</td>\n",
       "      <td>14</td>\n",
       "      <td>What cathedral was Thomas Becket murdered in ?</td>\n",
       "    </tr>\n",
       "    <tr>\n",
       "      <th>5226</th>\n",
       "      <td>3</td>\n",
       "      <td>4</td>\n",
       "      <td>What character in The Beverly Hillbillies has ...</td>\n",
       "    </tr>\n",
       "    <tr>\n",
       "      <th>5390</th>\n",
       "      <td>5</td>\n",
       "      <td>14</td>\n",
       "      <td>What does the River Seine empty into ?</td>\n",
       "    </tr>\n",
       "    <tr>\n",
       "      <th>860</th>\n",
       "      <td>3</td>\n",
       "      <td>4</td>\n",
       "      <td>What U.S. Congressman said : `` Keep the faith...</td>\n",
       "    </tr>\n",
       "  </tbody>\n",
       "</table>\n",
       "<p>4952 rows × 3 columns</p>\n",
       "</div>"
      ],
      "text/plain": [
       "      label-coarse  label-fine  \\\n",
       "4943             2          34   \n",
       "2346             0           0   \n",
       "1835             5          21   \n",
       "4047             1           1   \n",
       "5097             1          23   \n",
       "...            ...         ...   \n",
       "3772             4          13   \n",
       "5191             5          14   \n",
       "5226             3           4   \n",
       "5390             5          14   \n",
       "860              3           4   \n",
       "\n",
       "                                                   text  \n",
       "4943      What is Mikhail Gorbachev 's middle initial ?  \n",
       "2346    How does the tail affect the flight of a kite ?  \n",
       "1835  What were the first three cities to have a pop...  \n",
       "4047   What is the movie Jonathan Livingstone Seagull ?  \n",
       "5097              What is a fear of home surroundings ?  \n",
       "...                                                 ...  \n",
       "3772  How much Coca Cola is drunk in one day in the ...  \n",
       "5191     What cathedral was Thomas Becket murdered in ?  \n",
       "5226  What character in The Beverly Hillbillies has ...  \n",
       "5390             What does the River Seine empty into ?  \n",
       "860   What U.S. Congressman said : `` Keep the faith...  \n",
       "\n",
       "[4952 rows x 3 columns]"
      ]
     },
     "execution_count": 5,
     "metadata": {},
     "output_type": "execute_result"
    }
   ],
   "source": [
    "# Column name   \t Description\n",
    "# label-coarse  \t The coarse-grained label for the question. (String)\n",
    "# label-fine    \t The fine-grained label for the question. (String)\n",
    "# text          \t The text of the question. (String)\n",
    "# We will be focusing on the label-coarse, to use RNNs approach for classification of question labels.\n",
    "train_df"
   ]
  },
  {
   "cell_type": "code",
   "execution_count": 6,
   "metadata": {},
   "outputs": [
    {
     "data": {
      "text/plain": [
       "label-coarse\n",
       "1    1136\n",
       "3    1126\n",
       "0    1053\n",
       "4     807\n",
       "5     754\n",
       "2      76\n",
       "Name: count, dtype: int64"
      ]
     },
     "execution_count": 6,
     "metadata": {},
     "output_type": "execute_result"
    }
   ],
   "source": [
    "train_df['label-coarse'].value_counts()"
   ]
  },
  {
   "cell_type": "code",
   "execution_count": 7,
   "metadata": {},
   "outputs": [
    {
     "name": "stdout",
     "output_type": "stream",
     "text": [
      "[2 0 5 1 4 3]\n",
      "Selected classes: [5 2 4 1]\n",
      "Not selected classes: [0, 3]\n",
      "label-coarse\n",
      "OTHERS    2179\n",
      "1         1136\n",
      "4          807\n",
      "5          754\n",
      "2           76\n",
      "Name: count, dtype: int64\n",
      "label-coarse\n",
      "OTHERS    206\n",
      "1         114\n",
      "4          89\n",
      "5          81\n",
      "2          10\n",
      "Name: count, dtype: int64\n",
      "label-coarse\n",
      "OTHERS    203\n",
      "4         113\n",
      "1          94\n",
      "5          81\n",
      "2           9\n",
      "Name: count, dtype: int64\n"
     ]
    }
   ],
   "source": [
    "import pandas as pd\n",
    "import numpy as np\n",
    "\n",
    "\n",
    "# Define the original classes\n",
    "original_classes = train_df['label-coarse'].unique()\n",
    "print(original_classes)\n",
    "\n",
    "# Randomly select 4 classes from the original classes\n",
    "rng = np.random.default_rng(seed=random_seed)\n",
    "selected_classes = rng.choice(original_classes, size=4, replace=False)\n",
    "print('Selected classes:', selected_classes)\n",
    "not_selected_classes = [c for c in original_classes if c not in selected_classes]\n",
    "print('Not selected classes:', not_selected_classes)\n",
    "\n",
    "''' For training data '''\n",
    "# Combine the remaining classes into 'OTHERS'\n",
    "train_df['label-coarse'] = train_df['label-coarse'].astype('object')\n",
    "train_df.loc[~train_df['label-coarse'].isin(\n",
    "    selected_classes), 'label-coarse'] = 'OTHERS'\n",
    "print(train_df['label-coarse'].value_counts())\n",
    "\n",
    "''' For validation data '''\n",
    "# Combine the remaining classes into 'OTHERS'\n",
    "validation_df['label-coarse'] = validation_df['label-coarse'].astype('object')\n",
    "validation_df.loc[~validation_df['label-coarse'].isin(\n",
    "    selected_classes), 'label-coarse'] = 'OTHERS'\n",
    "print(validation_df['label-coarse'].value_counts())\n",
    "\n",
    "''' For test data '''\n",
    "# Combine the remaining classes into 'OTHERS'\n",
    "test_df['label-coarse'] = test_df['label-coarse'].astype('object')\n",
    "test_df.loc[~test_df['label-coarse'].isin(selected_classes),\n",
    "            'label-coarse'] = 'OTHERS'\n",
    "print(test_df['label-coarse'].value_counts())"
   ]
  },
  {
   "cell_type": "code",
   "execution_count": 8,
   "metadata": {},
   "outputs": [
    {
     "data": {
      "text/plain": [
       "label-coarse    object\n",
       "label-fine       int64\n",
       "text            object\n",
       "dtype: object"
      ]
     },
     "execution_count": 8,
     "metadata": {},
     "output_type": "execute_result"
    }
   ],
   "source": [
    "train_df.dtypes"
   ]
  },
  {
   "cell_type": "code",
   "execution_count": 9,
   "metadata": {},
   "outputs": [
    {
     "name": "stdout",
     "output_type": "stream",
     "text": [
      "['OTHERS', 1, 4, 5, 2]\n",
      "{'OTHERS': 0, 1: 1, 4: 2, 5: 3, 2: 4}\n",
      "Length of num_labels:  5\n"
     ]
    }
   ],
   "source": [
    "# Getting list of labels\n",
    "labels_list = train_df['label-coarse'].value_counts().index.tolist()\n",
    "print(labels_list)\n",
    "labels_dict = {label: i for i, label in enumerate(labels_list)}\n",
    "labels_dict_inverse = {i: label for i, label in enumerate(labels_list)}\n",
    "print(labels_dict)\n",
    "num_labels = len(labels_list)\n",
    "print(\"Length of num_labels: \", num_labels)"
   ]
  },
  {
   "cell_type": "markdown",
   "metadata": {},
   "source": [
    "### Append a zero vector to w2v to handle paddings\n"
   ]
  },
  {
   "cell_type": "code",
   "execution_count": 10,
   "metadata": {},
   "outputs": [],
   "source": [
    "import torch\n",
    "pretrained_embeddings = torch.FloatTensor(np.append(w2v.vectors, [np.zeros((300,))], axis=0))"
   ]
  },
  {
   "cell_type": "markdown",
   "metadata": {},
   "source": [
    "### Defining the data loaders and preprocessing of data\n"
   ]
  },
  {
   "cell_type": "code",
   "execution_count": 11,
   "metadata": {},
   "outputs": [],
   "source": [
    "import torch\n",
    "import torch.nn as nn\n",
    "from torch.utils.data import Dataset, DataLoader\n",
    "from torch.nn.utils.rnn import pad_sequence\n",
    "from collections import defaultdict\n",
    "import matplotlib.pyplot as plt\n",
    "\n",
    "# Set a specific random seed for reproducibility.\n",
    "torch.manual_seed(random_seed)\n",
    "\n",
    "class QuestionDataset(Dataset):\n",
    "    def __init__(self, x, y, s_len):\n",
    "        self.x = x\n",
    "        self.y = y\n",
    "        self.s_len = s_len\n",
    "\n",
    "    def __len__(self):\n",
    "        return len(self.x)\n",
    "\n",
    "    def __getitem__(self, idx):\n",
    "        return self.x[idx], self.y[idx], self.s_len[idx]\n",
    "\n",
    "def preprocess_data(df, w2v_model):\n",
    "    ''' Preprocessing the data and returning tokenized sentences filtered off by stop words.\n",
    "    Returns:\n",
    "        sentences: array[][str]\n",
    "        labels: array[int]\n",
    "    '''\n",
    "    sentences = []\n",
    "    labels = []\n",
    "    sentence_lengths = []\n",
    "    \n",
    "    for index, row in df.iterrows():\n",
    "        word_to_index = [w2v_model.key_to_index[word] if word in w2v_model.key_to_index else 3000000 for word in row['text'].split()]\n",
    "        sentences.append(word_to_index)\n",
    "        labels.append(labels_dict[row['label-coarse']])\n",
    "    \n",
    "    count_of_sentence_lengths = defaultdict(int)\n",
    "    for row in sentences:\n",
    "        count_of_sentence_lengths[len(row)] += 1\n",
    "    max_sentence_len = max(count_of_sentence_lengths)\n",
    "\n",
    "    for idx, row in enumerate(sentences):\n",
    "        sentence_lengths.append(len(row))\n",
    "        if len(row)!=max_sentence_len:\n",
    "            num_padding = max_sentence_len - len(row)\n",
    "            sentences[idx] += [3000000] * num_padding\n",
    "\n",
    "    return torch.tensor(sentences), torch.tensor(labels, dtype=torch.long), sentence_lengths\n",
    "\n",
    "def get_training_data(batch_size, w2v_model, train_df, validation_df, random_seed=random_seed):\n",
    "    x_train, y_train, train_seq_len = preprocess_data(train_df, w2v_model)\n",
    "    train_dataset = QuestionDataset(x_train, y_train, train_seq_len)\n",
    "    train_data_loader = DataLoader(train_dataset, batch_size=batch_size,\n",
    "                                   shuffle=True, generator=torch.Generator().manual_seed(random_seed))\n",
    "\n",
    "    x_validation, y_validation, validate_seq_len = preprocess_data(validation_df, w2v_model)\n",
    "    validation_dataset = QuestionDataset(x_validation, y_validation, validate_seq_len)\n",
    "    validation_data_loader = DataLoader(validation_dataset, batch_size=batch_size,\n",
    "                                        shuffle=True, generator=torch.Generator().manual_seed(random_seed))\n",
    "\n",
    "    return train_data_loader, validation_data_loader\n",
    "\n",
    "\n",
    "def get_test_data(batch_size, w2v_model ,random_seed=random_seed):\n",
    "    x_test, y_test, test_seq_len = preprocess_data(test_df, w2v_model)\n",
    "    test_dataset = QuestionDataset(x_test, y_test, test_seq_len)\n",
    "    test_data_loader = DataLoader(test_dataset, batch_size=batch_size,\n",
    "                                  shuffle=True, generator=torch.Generator().manual_seed(random_seed))\n",
    "\n",
    "    return test_data_loader"
   ]
  },
  {
   "cell_type": "markdown",
   "metadata": {},
   "source": [
    "### Defining the model for Q2, forward() has a parameter which allows us to specify which aggregation mode to use, etc mode, mean, rnn\n",
    "also defined the EarlyStopper\n",
    "\n",
    "We have also found out that ____ mode yielded us the greatest results"
   ]
  },
  {
   "cell_type": "code",
   "execution_count": 22,
   "metadata": {},
   "outputs": [],
   "source": [
    "class QuestionModel(nn.Module):\n",
    "    def __init__(self, embedding_dim, hidden_dim, num_labels, pretrained_embeddings, dropout_prob=0.2):\n",
    "        super(QuestionModel, self).__init__()\n",
    "        self.hidden_dim = hidden_dim\n",
    "        self.embedding = nn.Embedding.from_pretrained(pretrained_embeddings, freeze=True)  # Freeze the embeddings\n",
    "        self.lstm = nn.LSTM(embedding_dim, hidden_dim, batch_first=True)\n",
    "        self.rnn = nn.RNN(embedding_dim, hidden_dim, batch_first=True)\n",
    "        self.map_to_embedding_dim = nn.Linear(hidden_dim, embedding_dim)\n",
    "        self.linear = nn.Linear(hidden_dim, num_labels)\n",
    "        self.dropout = nn.Dropout(p=dropout_prob)\n",
    "        self.softmax = nn.Softmax(dim=1)\n",
    "\n",
    "    def forward(self, x, sentence_len=None, mode=None, random_initial_state=False, _device=\"cuda\"):\n",
    "        '''Inputs representation:\n",
    "            x: tozenized sentences,\n",
    "            mode: \"max\" pooling or \"average\" pooling for computing sentence vector representation,\n",
    "            h0, c0: initial hidden state; initial cell state for each batch, Default: None/0.\n",
    "        '''\n",
    "        # Convert indices to their word vector representations\n",
    "        word_vectors = self.embedding(x)\n",
    "\n",
    "        _vectors = []\n",
    "        if mode=='mean':\n",
    "            # Obtaining the mean of word vectors for each sentence using the mask of the actual sentence length before padded.\n",
    "            for idx, s in enumerate(word_vectors):\n",
    "                _vectors.append(torch.mean(s[:sentence_len[idx]], dim=0))\n",
    "            _vectors = torch.stack(_vectors).unsqueeze(1)\n",
    "        elif mode=='max':\n",
    "            # Obtaining the max vector representation of each sentence\n",
    "            _vectors, _ = torch.max(word_vectors, dim=1)\n",
    "            _vectors = _vectors.unsqueeze(1)\n",
    "        elif mode=='rnn':\n",
    "            # Use the RNN to aggregate the word vectors into a sentence representation\n",
    "            rnn_out, _ = self.rnn(word_vectors)\n",
    "            _vectors = rnn_out[:, -1, :]  # Use the final hidden state of the RNN as the sentence representation\n",
    "            _vectors = self.map_to_embedding_dim(_vectors)\n",
    "            # _vectors = self.dropout(_vectors)\n",
    "            _vectors = _vectors.unsqueeze(1)\n",
    "        else:\n",
    "            raise ValueError(\"mode not called!\")\n",
    "        \n",
    "        vectors_tensor = _vectors\n",
    "\n",
    "        if random_initial_state:\n",
    "            h0 = torch.randn(1, x.size(0), self.hidden_dim).to(_device)\n",
    "            c0 = torch.randn(1, x.size(0), self.hidden_dim).to(_device)\n",
    "            lstm_out, _ = self.lstm(vectors_tensor, (h0, c0))\n",
    "        else:\n",
    "            lstm_out, _ = self.lstm(vectors_tensor)\n",
    "        \n",
    "        logits = self.linear(lstm_out.squeeze(1))\n",
    "        drop_out = self.dropout(logits)\n",
    "        output = self.softmax(drop_out)\n",
    "        return output\n",
    "\n",
    "# Utility function to reinitialize model\n",
    "def get_model(embedding_dim, hidden_dim, num_labels, pretrained_embeddings, dropout_prob=0.2):\n",
    "    return QuestionModel(embedding_dim, hidden_dim, num_labels, pretrained_embeddings,dropout_prob)\n",
    "\n",
    "def get_device():\n",
    "    if torch.cuda.is_available():\n",
    "        print(\"$ GPU Activated $\")\n",
    "    return torch.device(\"cuda\" if torch.cuda.is_available() else \"cpu\")\n",
    "\n",
    "# Using Early stopper to stop when the F1Score prediction drops\n",
    "class EarlyStopper:\n",
    "    def __init__(self, patience=3, min_delta=0):\n",
    "        self.patience = patience\n",
    "        self.min_delta = min_delta\n",
    "        self.counter = 0\n",
    "        self.min_accuracy_ = 0\n",
    "\n",
    "    def early_stop(self, accuracy_):\n",
    "        if accuracy_ > self.min_accuracy_:\n",
    "            self.min_accuracy_ = accuracy_\n",
    "            self.counter = 0\n",
    "        elif accuracy_ < (self.min_accuracy_ + self.min_delta):\n",
    "            self.counter += 1\n",
    "            if self.counter >= self.patience:\n",
    "                return True\n",
    "        return False\n"
   ]
  },
  {
   "cell_type": "markdown",
   "metadata": {},
   "source": [
    "### Defining the train model and test model functions"
   ]
  },
  {
   "cell_type": "code",
   "execution_count": 25,
   "metadata": {},
   "outputs": [],
   "source": [
    "def train_model(model, train_data_loader, validation_data_loader, mode, device, epochs=50, \n",
    "                random_initial_state=False, learning_rate = 0.001, weights=None, early_stopper=None, debug=True):\n",
    "    # Lists to store train and test accuracies and losses\n",
    "    train_accuracies, validation_accuracies = [], []\n",
    "    train_losses, validation_losses = [], []\n",
    "\n",
    "    # Define loss function and optimizer\n",
    "    optimizer = torch.optim.Adam(model.parameters(), lr=learning_rate)\n",
    "    loss_fn = nn.CrossEntropyLoss(weight=weights)\n",
    "    model = model.to(device)\n",
    "\n",
    "    # Record the start time\n",
    "    start_time = time.time()\n",
    "\n",
    "    # Training loop\n",
    "    for epoch in tqdm.tqdm(range(epochs)):\n",
    "        # =======================Training=======================\n",
    "        model.train()\n",
    "        train_loss = 0.0\n",
    "        total_train, correct_train = 0, 0\n",
    "        for idx, batch in enumerate(train_data_loader):\n",
    "            batch_data, batch_labels, train_sentence_len = batch\n",
    "            batch_data, batch_labels = batch_data.to(device), batch_labels.to(device)\n",
    "            optimizer.zero_grad()\n",
    "\n",
    "            outputs = model(batch_data, sentence_len=train_sentence_len, mode=mode, \n",
    "                            random_initial_state=random_initial_state,\n",
    "                            _device=device)\n",
    "\n",
    "            loss = loss_fn(outputs.view(-1, outputs.size(-1)),batch_labels.view(-1))\n",
    "            loss.backward()\n",
    "            optimizer.step()\n",
    "            train_loss += loss.item()\n",
    "\n",
    "            # Calculate train accuracy\n",
    "            predicted = torch.argmax(outputs, dim=1)\n",
    "            total_train += batch_labels.size(0)\n",
    "            correct_train += (predicted == batch_labels).sum().item()\n",
    "            del batch_data, batch_labels\n",
    "            torch.cuda.empty_cache()\n",
    "\n",
    "        train_accuracy = correct_train / total_train\n",
    "        train_accuracies.append(train_accuracy)\n",
    "        train_losses.append(train_loss / len(train_data_loader))  # Store train loss\n",
    "\n",
    "    # =======================Validation=======================\n",
    "        model.eval()\n",
    "        val_loss = 0.0\n",
    "        correct_validation, total_validation = 0, 0\n",
    "\n",
    "        with torch.no_grad():\n",
    "            for batch_data, batch_labels, val_sentence_len in validation_data_loader:\n",
    "                batch_data, batch_labels = batch_data.to(device), batch_labels.to(device)\n",
    "\n",
    "                outputs =  model(batch_data, sentence_len=val_sentence_len, mode=mode, _device=device)\n",
    "                loss = loss_fn(outputs.view(-1, outputs.size(-1)),batch_labels.view(-1))\n",
    "                val_loss += loss.item()\n",
    "\n",
    "                # Calculate test accuracy\n",
    "                predicted = torch.argmax(outputs, dim=1)\n",
    "                total_validation += batch_labels.size(0)\n",
    "                correct_validation += (predicted == batch_labels).sum().item()\n",
    "\n",
    "        validation_accuracy = correct_validation / total_validation\n",
    "        validation_accuracies.append(validation_accuracy)\n",
    "        validation_losses.append(val_loss / len(validation_data_loader))  # Store test loss\n",
    "\n",
    "        # Print epoch results\n",
    "        if debug:\n",
    "            print(f\"Epoch {epoch + 1}/{epochs}, Train Loss: {train_losses[-1]:.4f}, Val Loss: {validation_losses[-1]:.4f}, Train Accuracy: {train_accuracy:.4f}, Validation Accuracy: {validation_accuracy:.4f}\")\n",
    "\n",
    "        # Check for early stopping\n",
    "        if early_stopper and early_stopper.early_stop(validation_accuracy):\n",
    "            print(f\"Early stopping at epoch ({epoch+1}) due to no improvement in accuracy.\")\n",
    "            break\n",
    "\n",
    "    time_taken = time.time() - start_time\n",
    "    print(f\"Time taken for the model to run finish: {time_taken:.2f} seconds\")\n",
    "    torch.cuda.empty_cache() # Release cache\n",
    "    return train_accuracies, validation_accuracies, train_losses, validation_losses, time_taken\n",
    "\n",
    "\n",
    "def test_model(model, test_data_loader, mode, device):\n",
    "    model = model.to(device)\n",
    "    model.eval()\n",
    "    # Variables to track accuracy\n",
    "    correct_test, total_test = 0, 0\n",
    "\n",
    "    # Record the start time\n",
    "    start_time = time.time()\n",
    "    # =======================Testing=======================\n",
    "    with torch.no_grad():\n",
    "        for batch_data, batch_labels, test_sentence_len in test_data_loader:\n",
    "            batch_data, batch_labels = batch_data.to(device), batch_labels.to(device)\n",
    "\n",
    "            outputs = model(batch_data, sentence_len=test_sentence_len, mode=mode, _device=device)\n",
    "            \n",
    "            # Calculate test accuracy\n",
    "            predicted = torch.argmax(outputs, dim=1)\n",
    "            total_test += batch_labels.size(0)\n",
    "            correct_test += (predicted == batch_labels).sum().item()\n",
    "\n",
    "    time_taken = time.time() - start_time\n",
    "\n",
    "    test_accuracy = correct_test / total_test\n",
    "    print(f\"Time taken to run finish the test: {time_taken:.2f} seconds\")\n",
    "    print(f\"Test Accuracy: {test_accuracy:.4f}\")\n",
    "    torch.cuda.empty_cache() # Release cache\n",
    "    return test_accuracy"
   ]
  },
  {
   "cell_type": "markdown",
   "metadata": {},
   "source": [
    "### Defining a graph plotter function"
   ]
  },
  {
   "cell_type": "code",
   "execution_count": 14,
   "metadata": {},
   "outputs": [],
   "source": [
    "def plot_findings(X_axis: list, Y_axis: list, X_label: str, Y_labels: list = [\"Accuracy\", \"Time Taken To Train Model(Seconds)\"], isoptimal=False):\n",
    "    # X_axis: constants, the variable u want to find\n",
    "    # Y_axis: measurement parameters: f1_score, accuracy, time\n",
    "    # X_label: variable name\n",
    "    # Y_lavel: Optional, default: (f1_score, accuracy, time)\n",
    "\n",
    "    # Create a line chart for accuracy with the exact X values\n",
    "    plt.figure(figsize=(10, 4))\n",
    "    color = ['r', 'g', 'b']\n",
    "\n",
    "    if not isoptimal:\n",
    "        for i in range(2):\n",
    "            plt.subplot(1, 2, i+1)\n",
    "            plt.plot(range(len(X_axis)), Y_axis[i], marker='o',linestyle='-', color=color[i], label=Y_labels[i])\n",
    "            plt.xticks(range(len(X_axis)), X_axis)\n",
    "            plt.xlabel(X_label)\n",
    "            plt.ylabel(Y_labels[i])\n",
    "            plt.title(f'{Y_labels[i]} vs. {X_label}')\n",
    "            plt.grid(True)\n",
    "            plt.legend()\n",
    "    else:\n",
    "        optimal_labels = [[\"Train_accuracy\", \"Validation_accuracy\"], [\"Train_losses\", \"Validation_losses\"]]\n",
    "        for i in range(2):\n",
    "            plt.subplot(1, 2, i+1)\n",
    "            plt.plot(range(1, X_axis+1),Y_axis[i][0], color='r', label=optimal_labels[i][0])\n",
    "            plt.plot(range(1, X_axis+1),Y_axis[i][1], color='g', label=optimal_labels[i][1])\n",
    "            Y_labels = [\"accuracy\", \"losses\"]\n",
    "            plt.xlabel(X_label)\n",
    "            plt.ylabel(Y_labels[i])\n",
    "            plt.title(f'{Y_labels[i]} vs. {X_label}')\n",
    "            plt.grid(True)\n",
    "            plt.legend()\n",
    "\n",
    "    plt.tight_layout()\n",
    "    plt.grid(True)\n",
    "    plt.show()"
   ]
  },
  {
   "cell_type": "markdown",
   "metadata": {},
   "source": [
    "### [Optimal] Here are the results from our optimal paramters"
   ]
  },
  {
   "cell_type": "code",
   "execution_count": 77,
   "metadata": {},
   "outputs": [
    {
     "name": "stdout",
     "output_type": "stream",
     "text": [
      "$ GPU Activated $\n",
      "['OTHERS', 1, 4, 5, 2]\n",
      "{'OTHERS': 0, 1: 1, 4: 2, 5: 3, 2: 4}\n",
      "Length of num_labels:  5\n"
     ]
    }
   ],
   "source": [
    "# # TO FIND OPTIMAL PARAMETERS\n",
    "batch_size = 128\n",
    "hidden_dim = 512\n",
    "embedding_dim = w2v.vector_size\n",
    "early_stopper = EarlyStopper(patience=3)\n",
    "device = get_device()\n",
    "epoch = 50\n",
    "learning_rate = 0.001\n",
    "dropout_prob = 0.2\n",
    "mode = \"mean\"\n",
    "\n",
    "# Getting list of labels\n",
    "labels_list = train_df['label-coarse'].value_counts().index.tolist()\n",
    "print(labels_list)\n",
    "labels_dict = {label: i for i, label in enumerate(labels_list)}\n",
    "labels_dict_inverse = {i: label for i, label in enumerate(labels_list)}\n",
    "print(labels_dict)\n",
    "num_labels = len(labels_list)\n",
    "print(\"Length of num_labels: \", num_labels)\n",
    "\n",
    "train_data_loader, validation_data_loader = get_training_data(batch_size, w2v, train_df, validation_df)\n",
    "test_data_loader = get_test_data(batch_size, w2v, random_seed=random_seed)"
   ]
  },
  {
   "cell_type": "code",
   "execution_count": 78,
   "metadata": {},
   "outputs": [
    {
     "name": "stderr",
     "output_type": "stream",
     "text": [
      "  2%|▏         | 1/50 [00:00<00:18,  2.58it/s]"
     ]
    },
    {
     "name": "stdout",
     "output_type": "stream",
     "text": [
      "Epoch 1/50, Train Loss: 1.5331, Val Loss: 1.4874, Train Accuracy: 0.4124, Validation Accuracy: 0.4120\n"
     ]
    },
    {
     "name": "stderr",
     "output_type": "stream",
     "text": [
      "  4%|▍         | 2/50 [00:00<00:18,  2.61it/s]"
     ]
    },
    {
     "name": "stdout",
     "output_type": "stream",
     "text": [
      "Epoch 2/50, Train Loss: 1.4732, Val Loss: 1.4824, Train Accuracy: 0.4400, Validation Accuracy: 0.4120\n"
     ]
    },
    {
     "name": "stderr",
     "output_type": "stream",
     "text": [
      "  6%|▌         | 3/50 [00:01<00:18,  2.49it/s]"
     ]
    },
    {
     "name": "stdout",
     "output_type": "stream",
     "text": [
      "Epoch 3/50, Train Loss: 1.4616, Val Loss: 1.4491, Train Accuracy: 0.4416, Validation Accuracy: 0.4340\n"
     ]
    },
    {
     "name": "stderr",
     "output_type": "stream",
     "text": [
      "  8%|▊         | 4/50 [00:01<00:17,  2.56it/s]"
     ]
    },
    {
     "name": "stdout",
     "output_type": "stream",
     "text": [
      "Epoch 4/50, Train Loss: 1.4077, Val Loss: 1.3690, Train Accuracy: 0.5301, Validation Accuracy: 0.6000\n"
     ]
    },
    {
     "name": "stderr",
     "output_type": "stream",
     "text": [
      " 10%|█         | 5/50 [00:01<00:17,  2.57it/s]"
     ]
    },
    {
     "name": "stdout",
     "output_type": "stream",
     "text": [
      "Epoch 5/50, Train Loss: 1.3293, Val Loss: 1.2880, Train Accuracy: 0.5987, Validation Accuracy: 0.6420\n"
     ]
    },
    {
     "name": "stderr",
     "output_type": "stream",
     "text": [
      " 12%|█▏        | 6/50 [00:02<00:16,  2.65it/s]"
     ]
    },
    {
     "name": "stdout",
     "output_type": "stream",
     "text": [
      "Epoch 6/50, Train Loss: 1.2782, Val Loss: 1.2446, Train Accuracy: 0.6490, Validation Accuracy: 0.6900\n"
     ]
    },
    {
     "name": "stderr",
     "output_type": "stream",
     "text": [
      " 14%|█▍        | 7/50 [00:02<00:16,  2.67it/s]"
     ]
    },
    {
     "name": "stdout",
     "output_type": "stream",
     "text": [
      "Epoch 7/50, Train Loss: 1.2445, Val Loss: 1.2169, Train Accuracy: 0.6834, Validation Accuracy: 0.7040\n"
     ]
    },
    {
     "name": "stderr",
     "output_type": "stream",
     "text": [
      " 16%|█▌        | 8/50 [00:03<00:15,  2.66it/s]"
     ]
    },
    {
     "name": "stdout",
     "output_type": "stream",
     "text": [
      "Epoch 8/50, Train Loss: 1.2319, Val Loss: 1.2009, Train Accuracy: 0.6965, Validation Accuracy: 0.7200\n"
     ]
    },
    {
     "name": "stderr",
     "output_type": "stream",
     "text": [
      " 18%|█▊        | 9/50 [00:03<00:15,  2.58it/s]"
     ]
    },
    {
     "name": "stdout",
     "output_type": "stream",
     "text": [
      "Epoch 9/50, Train Loss: 1.2092, Val Loss: 1.1831, Train Accuracy: 0.7207, Validation Accuracy: 0.7340\n"
     ]
    },
    {
     "name": "stderr",
     "output_type": "stream",
     "text": [
      " 20%|██        | 10/50 [00:03<00:15,  2.62it/s]"
     ]
    },
    {
     "name": "stdout",
     "output_type": "stream",
     "text": [
      "Epoch 10/50, Train Loss: 1.2024, Val Loss: 1.1866, Train Accuracy: 0.7290, Validation Accuracy: 0.7280\n"
     ]
    },
    {
     "name": "stderr",
     "output_type": "stream",
     "text": [
      " 22%|██▏       | 11/50 [00:04<00:14,  2.67it/s]"
     ]
    },
    {
     "name": "stdout",
     "output_type": "stream",
     "text": [
      "Epoch 11/50, Train Loss: 1.1934, Val Loss: 1.1682, Train Accuracy: 0.7351, Validation Accuracy: 0.7600\n"
     ]
    },
    {
     "name": "stderr",
     "output_type": "stream",
     "text": [
      " 24%|██▍       | 12/50 [00:04<00:14,  2.65it/s]"
     ]
    },
    {
     "name": "stdout",
     "output_type": "stream",
     "text": [
      "Epoch 12/50, Train Loss: 1.1818, Val Loss: 1.1674, Train Accuracy: 0.7397, Validation Accuracy: 0.7440\n"
     ]
    },
    {
     "name": "stderr",
     "output_type": "stream",
     "text": [
      " 26%|██▌       | 13/50 [00:04<00:13,  2.65it/s]"
     ]
    },
    {
     "name": "stdout",
     "output_type": "stream",
     "text": [
      "Epoch 13/50, Train Loss: 1.1808, Val Loss: 1.1678, Train Accuracy: 0.7510, Validation Accuracy: 0.7540\n"
     ]
    },
    {
     "name": "stderr",
     "output_type": "stream",
     "text": [
      " 26%|██▌       | 13/50 [00:05<00:15,  2.44it/s]"
     ]
    },
    {
     "name": "stdout",
     "output_type": "stream",
     "text": [
      "Epoch 14/50, Train Loss: 1.1725, Val Loss: 1.1581, Train Accuracy: 0.7534, Validation Accuracy: 0.7580\n",
      "Early stopping at epoch (14) due to no improvement in accuracy.\n",
      "Time taken for the model to run finish: 5.34 seconds\n",
      "Time taken to run finish the test: 0.03 seconds\n",
      "Test Accuracy: 0.7960\n"
     ]
    },
    {
     "name": "stderr",
     "output_type": "stream",
     "text": [
      "\n"
     ]
    }
   ],
   "source": [
    "# Set the aggreagation mode: mean or max or rnn\n",
    "mode = \"mean\"\n",
    "\n",
    "model = get_model(embedding_dim, hidden_dim, num_labels, pretrained_embeddings, dropout_prob=dropout_prob)\n",
    "\n",
    "# Train the model\n",
    "train_accuracies, validation_accuracies, train_losses, validation_losses, time_taken = train_model(\n",
    "    model= model, train_data_loader= train_data_loader, validation_data_loader= validation_data_loader,\n",
    "    mode=mode, device=device, epochs=epoch, random_initial_state=False, learning_rate=learning_rate,\n",
    "    early_stopper=early_stopper, debug=True)\n",
    "\n",
    "# Obtain the F1_score and accuracy of the model using test set\n",
    "test_accuracy = test_model(model=model, test_data_loader=test_data_loader, mode=mode, device=device)"
   ]
  },
  {
   "cell_type": "code",
   "execution_count": 79,
   "metadata": {},
   "outputs": [
    {
     "data": {
      "image/png": "[encoded data removed]",
      "text/plain": [
       "<Figure size 1000x400 with 2 Axes>"
      ]
     },
     "metadata": {},
     "output_type": "display_data"
    }
   ],
   "source": [
    "plot_findings(len(train_accuracies), [[train_accuracies, validation_accuracies], [train_losses, validation_losses]], \"Epoch\", isoptimal=True)"
   ]
  },
  {
   "cell_type": "markdown",
   "metadata": {},
   "source": [
    "### Defining a function to process a single sentence from the test df"
   ]
  },
  {
   "cell_type": "code",
   "execution_count": 80,
   "metadata": {},
   "outputs": [],
   "source": [
    "def preprocess_sentence(sentence, w2v_model, max_sentence_len):\n",
    "    # Tokenize the sentence and convert the tokens to their corresponding indices in the word2vec model\n",
    "    word_to_index = [w2v_model.key_to_index[word] if word in w2v_model.key_to_index else 3000000 for word in sentence.split()]\n",
    "    \n",
    "    # Save the actual length of the sentence\n",
    "    actual_len = len(word_to_index)\n",
    "    \n",
    "    # Pad the tokenized sentence to max_sentence_len\n",
    "    if len(word_to_index) < max_sentence_len:\n",
    "        num_padding = max_sentence_len - len(word_to_index)\n",
    "        word_to_index += [3000000] * num_padding\n",
    "\n",
    "    # Convert the tokenized sentence to a tensor and add an extra dimension to make it a batch\n",
    "    sentence_tensor = torch.tensor(word_to_index).unsqueeze(0).to(device)\n",
    "\n",
    "    return sentence_tensor, torch.tensor([actual_len])"
   ]
  },
  {
   "cell_type": "markdown",
   "metadata": {},
   "source": [
    "### Testing for a sentence in test.csv"
   ]
  },
  {
   "cell_type": "code",
   "execution_count": 81,
   "metadata": {},
   "outputs": [
    {
     "name": "stdout",
     "output_type": "stream",
     "text": [
      "OTHERS\n"
     ]
    }
   ],
   "source": [
    "sentence_index = 3\n",
    "# Test model on one sentence\n",
    "sentence = test_df.loc[sentence_index, 'text']\n",
    "max_sentence_len = max(test_df['text'].apply(lambda x: len(x.split())))\n",
    "preprocessed_input, sentence_len = preprocess_sentence(sentence,w2v,max_sentence_len)\n",
    "output = model(preprocessed_input, sentence_len=sentence_len, mode=mode, _device=device)\n",
    "\n",
    "# Get the predicted label\n",
    "predicted_label = torch.argmax(output, dim=1)\n",
    "\n",
    "# Convert the predicted label to its original string form\n",
    "predicted_label_str = labels_dict_inverse[predicted_label.item()]\n",
    "\n",
    "print(predicted_label_str)"
   ]
  },
  {
   "cell_type": "code",
   "execution_count": 82,
   "metadata": {},
   "outputs": [
    {
     "name": "stdout",
     "output_type": "stream",
     "text": [
      "label-coarse               OTHERS\n",
      "label-fine                      7\n",
      "text            What is an atom ?\n",
      "Name: 3, dtype: object\n"
     ]
    }
   ],
   "source": [
    "print(test_df.loc[sentence_index])"
   ]
  },
  {
   "cell_type": "code",
   "execution_count": null,
   "metadata": {},
   "outputs": [],
   "source": []
  },
  {
   "cell_type": "markdown",
   "metadata": {},
   "source": [
    "## Here lies the optimization for most of the hyperparameters and how we defined them"
   ]
  },
  {
   "cell_type": "markdown",
   "metadata": {},
   "source": [
    "### Different modes:"
   ]
  },
  {
   "cell_type": "markdown",
   "metadata": {},
   "source": [
    "#### Mean Mode"
   ]
  },
  {
   "cell_type": "code",
   "execution_count": 15,
   "metadata": {},
   "outputs": [
    {
     "name": "stdout",
     "output_type": "stream",
     "text": [
      "$ GPU Activated $\n",
      "['OTHERS', 1, 4, 5, 2]\n",
      "{'OTHERS': 0, 1: 1, 4: 2, 5: 3, 2: 4}\n",
      "Length of num_labels:  5\n"
     ]
    },
    {
     "name": "stderr",
     "output_type": "stream",
     "text": [
      " 26%|██▌       | 13/50 [00:06<00:18,  2.02it/s]"
     ]
    },
    {
     "name": "stdout",
     "output_type": "stream",
     "text": [
      "Early stopping at epoch (14) due to no improvement in accuracy.\n",
      "Time taken for the model to run finish: 6.45 seconds\n",
      "Time taken to run finish the test: 0.03 seconds\n",
      "Test Accuracy: 0.7960\n"
     ]
    },
    {
     "name": "stderr",
     "output_type": "stream",
     "text": [
      "\n",
      " 32%|███▏      | 16/50 [00:06<00:13,  2.45it/s]"
     ]
    },
    {
     "name": "stdout",
     "output_type": "stream",
     "text": [
      "Early stopping at epoch (17) due to no improvement in accuracy.\n",
      "Time taken for the model to run finish: 6.52 seconds\n",
      "Time taken to run finish the test: 0.02 seconds\n",
      "Test Accuracy: 0.7880\n"
     ]
    },
    {
     "name": "stderr",
     "output_type": "stream",
     "text": [
      "\n",
      " 32%|███▏      | 16/50 [00:06<00:13,  2.44it/s]"
     ]
    },
    {
     "name": "stdout",
     "output_type": "stream",
     "text": [
      "Early stopping at epoch (17) due to no improvement in accuracy.\n",
      "Time taken for the model to run finish: 6.56 seconds\n",
      "Time taken to run finish the test: 0.02 seconds\n",
      "Test Accuracy: 0.7760\n"
     ]
    },
    {
     "name": "stderr",
     "output_type": "stream",
     "text": [
      "\n",
      " 32%|███▏      | 16/50 [00:06<00:14,  2.41it/s]"
     ]
    },
    {
     "name": "stdout",
     "output_type": "stream",
     "text": [
      "Early stopping at epoch (17) due to no improvement in accuracy.\n",
      "Time taken for the model to run finish: 6.65 seconds\n",
      "Time taken to run finish the test: 0.05 seconds\n",
      "Test Accuracy: 0.7820\n"
     ]
    },
    {
     "name": "stderr",
     "output_type": "stream",
     "text": [
      "\n",
      " 32%|███▏      | 16/50 [00:06<00:14,  2.41it/s]"
     ]
    },
    {
     "name": "stdout",
     "output_type": "stream",
     "text": [
      "Early stopping at epoch (17) due to no improvement in accuracy.\n",
      "Time taken for the model to run finish: 6.64 seconds\n",
      "Time taken to run finish the test: 0.03 seconds\n",
      "Test Accuracy: 0.7820\n"
     ]
    },
    {
     "name": "stderr",
     "output_type": "stream",
     "text": [
      "\n",
      " 32%|███▏      | 16/50 [00:06<00:13,  2.48it/s]"
     ]
    },
    {
     "name": "stdout",
     "output_type": "stream",
     "text": [
      "Early stopping at epoch (17) due to no improvement in accuracy.\n",
      "Time taken for the model to run finish: 6.46 seconds\n",
      "Time taken to run finish the test: 0.02 seconds\n",
      "Test Accuracy: 0.7660\n"
     ]
    },
    {
     "name": "stderr",
     "output_type": "stream",
     "text": [
      "\n",
      " 32%|███▏      | 16/50 [00:06<00:13,  2.44it/s]\n"
     ]
    },
    {
     "name": "stdout",
     "output_type": "stream",
     "text": [
      "Early stopping at epoch (17) due to no improvement in accuracy.\n",
      "Time taken for the model to run finish: 6.56 seconds\n",
      "Time taken to run finish the test: 0.03 seconds\n",
      "Test Accuracy: 0.7780\n"
     ]
    },
    {
     "name": "stderr",
     "output_type": "stream",
     "text": [
      " 32%|███▏      | 16/50 [00:06<00:13,  2.47it/s]"
     ]
    },
    {
     "name": "stdout",
     "output_type": "stream",
     "text": [
      "Early stopping at epoch (17) due to no improvement in accuracy.\n",
      "Time taken for the model to run finish: 6.47 seconds\n",
      "Time taken to run finish the test: 0.03 seconds\n",
      "Test Accuracy: 0.7900\n"
     ]
    },
    {
     "name": "stderr",
     "output_type": "stream",
     "text": [
      "\n",
      " 32%|███▏      | 16/50 [00:06<00:14,  2.41it/s]"
     ]
    },
    {
     "name": "stdout",
     "output_type": "stream",
     "text": [
      "Early stopping at epoch (17) due to no improvement in accuracy.\n",
      "Time taken for the model to run finish: 6.64 seconds\n",
      "Time taken to run finish the test: 0.03 seconds\n",
      "Test Accuracy: 0.7860\n"
     ]
    },
    {
     "name": "stderr",
     "output_type": "stream",
     "text": [
      "\n",
      " 32%|███▏      | 16/50 [00:06<00:13,  2.47it/s]"
     ]
    },
    {
     "name": "stdout",
     "output_type": "stream",
     "text": [
      "Early stopping at epoch (17) due to no improvement in accuracy.\n",
      "Time taken for the model to run finish: 6.48 seconds\n",
      "Time taken to run finish the test: 0.02 seconds\n",
      "Test Accuracy: 0.7800\n"
     ]
    },
    {
     "name": "stderr",
     "output_type": "stream",
     "text": [
      "\n"
     ]
    },
    {
     "data": {
      "image/png": "[encoded data removed]",
      "text/plain": [
       "<Figure size 1000x400 with 2 Axes>"
      ]
     },
     "metadata": {},
     "output_type": "display_data"
    },
    {
     "name": "stdout",
     "output_type": "stream",
     "text": [
      "Best accuracy for All Mean Runs: 0, 0.796\n"
     ]
    }
   ],
   "source": [
    "batch_size = 128\n",
    "hidden_dim = 512\n",
    "embedding_dim = w2v.vector_size\n",
    "early_stopper = EarlyStopper(patience=3)\n",
    "device = get_device()\n",
    "epoch = 50\n",
    "learning_rate = 0.001\n",
    "dropout_prob = 0.2\n",
    "mode = \"mean\"\n",
    "\n",
    "# Getting list of labels\n",
    "labels_list = train_df['label-coarse'].value_counts().index.tolist()\n",
    "print(labels_list)\n",
    "labels_dict = {label: i for i, label in enumerate(labels_list)}\n",
    "labels_dict_inverse = {i: label for i, label in enumerate(labels_list)}\n",
    "print(labels_dict)\n",
    "num_labels = len(labels_list)\n",
    "print(\"Length of num_labels: \", num_labels)\n",
    "\n",
    "acc, tt = [], []\n",
    "mean_run_index = [i for i in range(10)]\n",
    "\n",
    "for run in mean_run_index:\n",
    "    train_data_loader, validation_data_loader = get_training_data(batch_size, w2v, train_df, validation_df)\n",
    "    test_data_loader = get_test_data(batch_size, w2v, random_seed=random_seed)\n",
    "    model = get_model(embedding_dim, hidden_dim, num_labels, pretrained_embeddings, dropout_prob=dropout_prob)\n",
    "    early_stopper = EarlyStopper(patience=3)\n",
    "\n",
    "    _, _, _, _, time_taken = train_model(model, train_data_loader, validation_data_loader, mode= mode,\n",
    "                                        device=device, epochs=epoch, random_initial_state=False, \n",
    "                                        learning_rate=learning_rate, early_stopper=early_stopper, debug=False)\n",
    "    test_accuracy = test_model(model=model, test_data_loader=test_data_loader, mode=mode, device=device)\n",
    "    acc.append(test_accuracy)\n",
    "    tt.append(time_taken)\n",
    "\n",
    "plot_findings(mean_run_index, [acc, tt], \"Index\")\n",
    "print(f\"Best accuracy for All Mean Runs: {mean_run_index[acc.index(max(acc))]}, {max(acc)}\")"
   ]
  },
  {
   "cell_type": "markdown",
   "metadata": {},
   "source": [
    "#### Max Mode"
   ]
  },
  {
   "cell_type": "code",
   "execution_count": 16,
   "metadata": {},
   "outputs": [
    {
     "name": "stdout",
     "output_type": "stream",
     "text": [
      "$ GPU Activated $\n",
      "['OTHERS', 1, 4, 5, 2]\n",
      "{'OTHERS': 0, 1: 1, 4: 2, 5: 3, 2: 4}\n",
      "Length of num_labels:  5\n"
     ]
    },
    {
     "name": "stderr",
     "output_type": "stream",
     "text": [
      " 32%|███▏      | 16/50 [00:02<00:06,  5.48it/s]\n"
     ]
    },
    {
     "name": "stdout",
     "output_type": "stream",
     "text": [
      "Early stopping at epoch (17) due to no improvement in accuracy.\n",
      "Time taken for the model to run finish: 2.92 seconds\n",
      "Time taken to run finish the test: 0.01 seconds\n",
      "Test Accuracy: 0.4400\n"
     ]
    },
    {
     "name": "stderr",
     "output_type": "stream",
     "text": [
      " 34%|███▍      | 17/50 [00:03<00:06,  5.48it/s]\n"
     ]
    },
    {
     "name": "stdout",
     "output_type": "stream",
     "text": [
      "Early stopping at epoch (18) due to no improvement in accuracy.\n",
      "Time taken for the model to run finish: 3.10 seconds\n",
      "Time taken to run finish the test: 0.01 seconds\n",
      "Test Accuracy: 0.4540\n"
     ]
    },
    {
     "name": "stderr",
     "output_type": "stream",
     "text": [
      " 40%|████      | 20/50 [00:03<00:05,  5.73it/s]\n"
     ]
    },
    {
     "name": "stdout",
     "output_type": "stream",
     "text": [
      "Early stopping at epoch (21) due to no improvement in accuracy.\n",
      "Time taken for the model to run finish: 3.49 seconds\n",
      "Time taken to run finish the test: 0.01 seconds\n",
      "Test Accuracy: 0.4640\n"
     ]
    },
    {
     "name": "stderr",
     "output_type": "stream",
     "text": [
      " 36%|███▌      | 18/50 [00:03<00:05,  5.74it/s]\n"
     ]
    },
    {
     "name": "stdout",
     "output_type": "stream",
     "text": [
      "Early stopping at epoch (19) due to no improvement in accuracy.\n",
      "Time taken for the model to run finish: 3.14 seconds\n",
      "Time taken to run finish the test: 0.01 seconds\n",
      "Test Accuracy: 0.4360\n"
     ]
    },
    {
     "name": "stderr",
     "output_type": "stream",
     "text": [
      " 38%|███▊      | 19/50 [00:03<00:05,  5.66it/s]\n"
     ]
    },
    {
     "name": "stdout",
     "output_type": "stream",
     "text": [
      "Early stopping at epoch (20) due to no improvement in accuracy.\n",
      "Time taken for the model to run finish: 3.36 seconds\n",
      "Time taken to run finish the test: 0.01 seconds\n",
      "Test Accuracy: 0.4560\n"
     ]
    },
    {
     "name": "stderr",
     "output_type": "stream",
     "text": [
      " 38%|███▊      | 19/50 [00:03<00:05,  5.83it/s]\n"
     ]
    },
    {
     "name": "stdout",
     "output_type": "stream",
     "text": [
      "Early stopping at epoch (20) due to no improvement in accuracy.\n",
      "Time taken for the model to run finish: 3.26 seconds\n",
      "Time taken to run finish the test: 0.01 seconds\n",
      "Test Accuracy: 0.4580\n"
     ]
    },
    {
     "name": "stderr",
     "output_type": "stream",
     "text": [
      " 62%|██████▏   | 31/50 [00:05<00:03,  5.87it/s]"
     ]
    },
    {
     "name": "stdout",
     "output_type": "stream",
     "text": [
      "Early stopping at epoch (32) due to no improvement in accuracy.\n",
      "Time taken for the model to run finish: 5.28 seconds\n",
      "Time taken to run finish the test: 0.01 seconds\n",
      "Test Accuracy: 0.7180\n"
     ]
    },
    {
     "name": "stderr",
     "output_type": "stream",
     "text": [
      "\n",
      " 60%|██████    | 30/50 [00:05<00:03,  5.89it/s]\n"
     ]
    },
    {
     "name": "stdout",
     "output_type": "stream",
     "text": [
      "Early stopping at epoch (31) due to no improvement in accuracy.\n",
      "Time taken for the model to run finish: 5.10 seconds\n",
      "Time taken to run finish the test: 0.01 seconds\n",
      "Test Accuracy: 0.6000\n"
     ]
    },
    {
     "name": "stderr",
     "output_type": "stream",
     "text": [
      " 58%|█████▊    | 29/50 [00:04<00:03,  6.00it/s]\n"
     ]
    },
    {
     "name": "stdout",
     "output_type": "stream",
     "text": [
      "Early stopping at epoch (30) due to no improvement in accuracy.\n",
      "Time taken for the model to run finish: 4.83 seconds\n",
      "Time taken to run finish the test: 0.01 seconds\n",
      "Test Accuracy: 0.7320\n"
     ]
    },
    {
     "name": "stderr",
     "output_type": "stream",
     "text": [
      " 46%|████▌     | 23/50 [00:03<00:04,  5.93it/s]\n"
     ]
    },
    {
     "name": "stdout",
     "output_type": "stream",
     "text": [
      "Early stopping at epoch (24) due to no improvement in accuracy.\n",
      "Time taken for the model to run finish: 3.88 seconds\n",
      "Time taken to run finish the test: 0.01 seconds\n",
      "Test Accuracy: 0.4400\n"
     ]
    },
    {
     "data": {
      "image/png": "[encoded data removed]",
      "text/plain": [
       "<Figure size 1000x400 with 2 Axes>"
      ]
     },
     "metadata": {},
     "output_type": "display_data"
    },
    {
     "name": "stdout",
     "output_type": "stream",
     "text": [
      "Best accuracy for All Max Size: 8, 0.732\n"
     ]
    }
   ],
   "source": [
    "batch_size = 128\n",
    "hidden_dim = 512\n",
    "embedding_dim = w2v.vector_size\n",
    "early_stopper = EarlyStopper(patience=3)\n",
    "device = get_device()\n",
    "epoch = 50\n",
    "learning_rate = 0.001\n",
    "dropout_prob = 0.2\n",
    "mode = \"max\"\n",
    "\n",
    "# Getting list of labels\n",
    "labels_list = train_df['label-coarse'].value_counts().index.tolist()\n",
    "print(labels_list)\n",
    "labels_dict = {label: i for i, label in enumerate(labels_list)}\n",
    "labels_dict_inverse = {i: label for i, label in enumerate(labels_list)}\n",
    "print(labels_dict)\n",
    "num_labels = len(labels_list)\n",
    "print(\"Length of num_labels: \", num_labels)\n",
    "\n",
    "acc, tt = [], []\n",
    "max_run_index = [i for i in range(10)]\n",
    "\n",
    "for run in max_run_index:\n",
    "    train_data_loader, validation_data_loader = get_training_data(batch_size, w2v, train_df, validation_df)\n",
    "    test_data_loader = get_test_data(batch_size, w2v, random_seed=random_seed)\n",
    "    model = get_model(embedding_dim, hidden_dim, num_labels, pretrained_embeddings, dropout_prob=dropout_prob)\n",
    "    early_stopper = EarlyStopper(patience=3)\n",
    "\n",
    "    _, _, _, _, time_taken = train_model(model, train_data_loader, validation_data_loader, mode= mode,\n",
    "                                        device=device, epochs=epoch, random_initial_state=False, \n",
    "                                        learning_rate=learning_rate, early_stopper=early_stopper, debug=False)\n",
    "    test_accuracy = test_model(model=model, test_data_loader=test_data_loader, mode=mode, device=device)\n",
    "    acc.append(test_accuracy)\n",
    "    tt.append(time_taken)\n",
    "\n",
    "plot_findings(max_run_index, [acc, tt], \"Index\")\n",
    "print(f\"Best accuracy for All Max Size: {max_run_index[acc.index(max(acc))]}, {max(acc)}\")"
   ]
  },
  {
   "cell_type": "markdown",
   "metadata": {},
   "source": [
    "#### RNN Mode"
   ]
  },
  {
   "cell_type": "code",
   "execution_count": 26,
   "metadata": {},
   "outputs": [
    {
     "name": "stdout",
     "output_type": "stream",
     "text": [
      "$ GPU Activated $\n",
      "['OTHERS', 1, 4, 5, 2]\n",
      "{'OTHERS': 0, 1: 1, 4: 2, 5: 3, 2: 4}\n",
      "Length of num_labels:  5\n"
     ]
    },
    {
     "name": "stderr",
     "output_type": "stream",
     "text": [
      "  2%|▏         | 1/50 [00:00<00:22,  2.14it/s]"
     ]
    },
    {
     "name": "stdout",
     "output_type": "stream",
     "text": [
      "Epoch 1/50, Train Loss: 1.4874, Val Loss: 1.4920, Train Accuracy: 0.4309, Validation Accuracy: 0.4120\n"
     ]
    },
    {
     "name": "stderr",
     "output_type": "stream",
     "text": [
      "  4%|▍         | 2/50 [00:00<00:20,  2.30it/s]"
     ]
    },
    {
     "name": "stdout",
     "output_type": "stream",
     "text": [
      "Epoch 2/50, Train Loss: 1.4765, Val Loss: 1.4908, Train Accuracy: 0.4400, Validation Accuracy: 0.4120\n"
     ]
    },
    {
     "name": "stderr",
     "output_type": "stream",
     "text": [
      "  6%|▌         | 3/50 [00:01<00:20,  2.25it/s]"
     ]
    },
    {
     "name": "stdout",
     "output_type": "stream",
     "text": [
      "Epoch 3/50, Train Loss: 1.4762, Val Loss: 1.4952, Train Accuracy: 0.4400, Validation Accuracy: 0.4120\n"
     ]
    },
    {
     "name": "stderr",
     "output_type": "stream",
     "text": [
      "  8%|▊         | 4/50 [00:01<00:19,  2.31it/s]"
     ]
    },
    {
     "name": "stdout",
     "output_type": "stream",
     "text": [
      "Epoch 4/50, Train Loss: 1.4761, Val Loss: 1.4926, Train Accuracy: 0.4400, Validation Accuracy: 0.4120\n"
     ]
    },
    {
     "name": "stderr",
     "output_type": "stream",
     "text": [
      " 10%|█         | 5/50 [00:02<00:18,  2.39it/s]"
     ]
    },
    {
     "name": "stdout",
     "output_type": "stream",
     "text": [
      "Epoch 5/50, Train Loss: 1.4721, Val Loss: 1.4924, Train Accuracy: 0.4400, Validation Accuracy: 0.4120\n"
     ]
    },
    {
     "name": "stderr",
     "output_type": "stream",
     "text": [
      " 12%|█▏        | 6/50 [00:02<00:18,  2.40it/s]"
     ]
    },
    {
     "name": "stdout",
     "output_type": "stream",
     "text": [
      "Epoch 6/50, Train Loss: 1.4771, Val Loss: 1.4936, Train Accuracy: 0.4400, Validation Accuracy: 0.4120\n"
     ]
    },
    {
     "name": "stderr",
     "output_type": "stream",
     "text": [
      " 14%|█▍        | 7/50 [00:02<00:17,  2.41it/s]"
     ]
    },
    {
     "name": "stdout",
     "output_type": "stream",
     "text": [
      "Epoch 7/50, Train Loss: 1.4776, Val Loss: 1.4934, Train Accuracy: 0.4400, Validation Accuracy: 0.4120\n"
     ]
    },
    {
     "name": "stderr",
     "output_type": "stream",
     "text": [
      " 16%|█▌        | 8/50 [00:03<00:17,  2.43it/s]"
     ]
    },
    {
     "name": "stdout",
     "output_type": "stream",
     "text": [
      "Epoch 8/50, Train Loss: 1.4778, Val Loss: 1.4936, Train Accuracy: 0.4400, Validation Accuracy: 0.4120\n"
     ]
    },
    {
     "name": "stderr",
     "output_type": "stream",
     "text": [
      " 18%|█▊        | 9/50 [00:03<00:16,  2.46it/s]"
     ]
    },
    {
     "name": "stdout",
     "output_type": "stream",
     "text": [
      "Epoch 9/50, Train Loss: 1.4735, Val Loss: 1.4918, Train Accuracy: 0.4400, Validation Accuracy: 0.4120\n"
     ]
    },
    {
     "name": "stderr",
     "output_type": "stream",
     "text": [
      " 20%|██        | 10/50 [00:04<00:16,  2.49it/s]"
     ]
    },
    {
     "name": "stdout",
     "output_type": "stream",
     "text": [
      "Epoch 10/50, Train Loss: 1.4752, Val Loss: 1.4932, Train Accuracy: 0.4400, Validation Accuracy: 0.4120\n"
     ]
    },
    {
     "name": "stderr",
     "output_type": "stream",
     "text": [
      " 22%|██▏       | 11/50 [00:04<00:15,  2.52it/s]"
     ]
    },
    {
     "name": "stdout",
     "output_type": "stream",
     "text": [
      "Epoch 11/50, Train Loss: 1.4769, Val Loss: 1.4948, Train Accuracy: 0.4400, Validation Accuracy: 0.4120\n"
     ]
    },
    {
     "name": "stderr",
     "output_type": "stream",
     "text": [
      " 24%|██▍       | 12/50 [00:04<00:15,  2.52it/s]"
     ]
    },
    {
     "name": "stdout",
     "output_type": "stream",
     "text": [
      "Epoch 12/50, Train Loss: 1.4775, Val Loss: 1.4934, Train Accuracy: 0.4400, Validation Accuracy: 0.4120\n"
     ]
    },
    {
     "name": "stderr",
     "output_type": "stream",
     "text": [
      " 26%|██▌       | 13/50 [00:05<00:14,  2.53it/s]"
     ]
    },
    {
     "name": "stdout",
     "output_type": "stream",
     "text": [
      "Epoch 13/50, Train Loss: 1.4750, Val Loss: 1.4924, Train Accuracy: 0.4400, Validation Accuracy: 0.4120\n"
     ]
    },
    {
     "name": "stderr",
     "output_type": "stream",
     "text": [
      " 28%|██▊       | 14/50 [00:05<00:14,  2.48it/s]"
     ]
    },
    {
     "name": "stdout",
     "output_type": "stream",
     "text": [
      "Epoch 14/50, Train Loss: 1.4785, Val Loss: 1.4910, Train Accuracy: 0.4400, Validation Accuracy: 0.4120\n"
     ]
    },
    {
     "name": "stderr",
     "output_type": "stream",
     "text": [
      " 30%|███       | 15/50 [00:06<00:14,  2.49it/s]"
     ]
    },
    {
     "name": "stdout",
     "output_type": "stream",
     "text": [
      "Epoch 15/50, Train Loss: 1.4780, Val Loss: 1.4920, Train Accuracy: 0.4400, Validation Accuracy: 0.4120\n"
     ]
    },
    {
     "name": "stderr",
     "output_type": "stream",
     "text": [
      " 32%|███▏      | 16/50 [00:06<00:13,  2.48it/s]"
     ]
    },
    {
     "name": "stdout",
     "output_type": "stream",
     "text": [
      "Epoch 16/50, Train Loss: 1.4782, Val Loss: 1.4928, Train Accuracy: 0.4400, Validation Accuracy: 0.4120\n"
     ]
    },
    {
     "name": "stderr",
     "output_type": "stream",
     "text": [
      " 34%|███▍      | 17/50 [00:06<00:13,  2.49it/s]"
     ]
    },
    {
     "name": "stdout",
     "output_type": "stream",
     "text": [
      "Epoch 17/50, Train Loss: 1.4738, Val Loss: 1.4938, Train Accuracy: 0.4400, Validation Accuracy: 0.4120\n"
     ]
    },
    {
     "name": "stderr",
     "output_type": "stream",
     "text": [
      " 36%|███▌      | 18/50 [00:07<00:12,  2.50it/s]"
     ]
    },
    {
     "name": "stdout",
     "output_type": "stream",
     "text": [
      "Epoch 18/50, Train Loss: 1.4775, Val Loss: 1.4930, Train Accuracy: 0.4400, Validation Accuracy: 0.4120\n"
     ]
    },
    {
     "name": "stderr",
     "output_type": "stream",
     "text": [
      " 38%|███▊      | 19/50 [00:07<00:12,  2.50it/s]"
     ]
    },
    {
     "name": "stdout",
     "output_type": "stream",
     "text": [
      "Epoch 19/50, Train Loss: 1.4753, Val Loss: 1.4908, Train Accuracy: 0.4400, Validation Accuracy: 0.4120\n"
     ]
    },
    {
     "name": "stderr",
     "output_type": "stream",
     "text": [
      " 40%|████      | 20/50 [00:08<00:12,  2.50it/s]"
     ]
    },
    {
     "name": "stdout",
     "output_type": "stream",
     "text": [
      "Epoch 20/50, Train Loss: 1.4786, Val Loss: 1.4928, Train Accuracy: 0.4400, Validation Accuracy: 0.4120\n"
     ]
    },
    {
     "name": "stderr",
     "output_type": "stream",
     "text": [
      " 42%|████▏     | 21/50 [00:08<00:11,  2.52it/s]"
     ]
    },
    {
     "name": "stdout",
     "output_type": "stream",
     "text": [
      "Epoch 21/50, Train Loss: 1.4769, Val Loss: 1.4940, Train Accuracy: 0.4400, Validation Accuracy: 0.4120\n"
     ]
    },
    {
     "name": "stderr",
     "output_type": "stream",
     "text": [
      " 44%|████▍     | 22/50 [00:08<00:11,  2.54it/s]"
     ]
    },
    {
     "name": "stdout",
     "output_type": "stream",
     "text": [
      "Epoch 22/50, Train Loss: 1.4779, Val Loss: 1.4924, Train Accuracy: 0.4400, Validation Accuracy: 0.4120\n"
     ]
    },
    {
     "name": "stderr",
     "output_type": "stream",
     "text": [
      " 46%|████▌     | 23/50 [00:09<00:10,  2.51it/s]"
     ]
    },
    {
     "name": "stdout",
     "output_type": "stream",
     "text": [
      "Epoch 23/50, Train Loss: 1.4762, Val Loss: 1.4920, Train Accuracy: 0.4400, Validation Accuracy: 0.4120\n"
     ]
    },
    {
     "name": "stderr",
     "output_type": "stream",
     "text": [
      " 48%|████▊     | 24/50 [00:09<00:10,  2.51it/s]"
     ]
    },
    {
     "name": "stdout",
     "output_type": "stream",
     "text": [
      "Epoch 24/50, Train Loss: 1.4756, Val Loss: 1.4926, Train Accuracy: 0.4400, Validation Accuracy: 0.4120\n"
     ]
    },
    {
     "name": "stderr",
     "output_type": "stream",
     "text": [
      " 50%|█████     | 25/50 [00:10<00:10,  2.45it/s]"
     ]
    },
    {
     "name": "stdout",
     "output_type": "stream",
     "text": [
      "Epoch 25/50, Train Loss: 1.4780, Val Loss: 1.4918, Train Accuracy: 0.4400, Validation Accuracy: 0.4120\n"
     ]
    },
    {
     "name": "stderr",
     "output_type": "stream",
     "text": [
      " 52%|█████▏    | 26/50 [00:10<00:09,  2.49it/s]"
     ]
    },
    {
     "name": "stdout",
     "output_type": "stream",
     "text": [
      "Epoch 26/50, Train Loss: 1.4805, Val Loss: 1.4930, Train Accuracy: 0.4400, Validation Accuracy: 0.4120\n"
     ]
    },
    {
     "name": "stderr",
     "output_type": "stream",
     "text": [
      " 54%|█████▍    | 27/50 [00:10<00:09,  2.47it/s]"
     ]
    },
    {
     "name": "stdout",
     "output_type": "stream",
     "text": [
      "Epoch 27/50, Train Loss: 1.4787, Val Loss: 1.4926, Train Accuracy: 0.4400, Validation Accuracy: 0.4120\n"
     ]
    },
    {
     "name": "stderr",
     "output_type": "stream",
     "text": [
      " 56%|█████▌    | 28/50 [00:11<00:09,  2.44it/s]"
     ]
    },
    {
     "name": "stdout",
     "output_type": "stream",
     "text": [
      "Epoch 28/50, Train Loss: 1.4765, Val Loss: 1.4924, Train Accuracy: 0.4400, Validation Accuracy: 0.4120\n"
     ]
    },
    {
     "name": "stderr",
     "output_type": "stream",
     "text": [
      " 58%|█████▊    | 29/50 [00:11<00:08,  2.46it/s]"
     ]
    },
    {
     "name": "stdout",
     "output_type": "stream",
     "text": [
      "Epoch 29/50, Train Loss: 1.4761, Val Loss: 1.4930, Train Accuracy: 0.4400, Validation Accuracy: 0.4120\n"
     ]
    },
    {
     "name": "stderr",
     "output_type": "stream",
     "text": [
      " 60%|██████    | 30/50 [00:12<00:08,  2.48it/s]"
     ]
    },
    {
     "name": "stdout",
     "output_type": "stream",
     "text": [
      "Epoch 30/50, Train Loss: 1.4744, Val Loss: 1.4906, Train Accuracy: 0.4400, Validation Accuracy: 0.4120\n"
     ]
    },
    {
     "name": "stderr",
     "output_type": "stream",
     "text": [
      " 62%|██████▏   | 31/50 [00:12<00:07,  2.44it/s]"
     ]
    },
    {
     "name": "stdout",
     "output_type": "stream",
     "text": [
      "Epoch 31/50, Train Loss: 1.4731, Val Loss: 1.4920, Train Accuracy: 0.4400, Validation Accuracy: 0.4120\n"
     ]
    },
    {
     "name": "stderr",
     "output_type": "stream",
     "text": [
      " 64%|██████▍   | 32/50 [00:13<00:07,  2.46it/s]"
     ]
    },
    {
     "name": "stdout",
     "output_type": "stream",
     "text": [
      "Epoch 32/50, Train Loss: 1.4760, Val Loss: 1.4942, Train Accuracy: 0.4400, Validation Accuracy: 0.4120\n"
     ]
    },
    {
     "name": "stderr",
     "output_type": "stream",
     "text": [
      " 66%|██████▌   | 33/50 [00:13<00:06,  2.49it/s]"
     ]
    },
    {
     "name": "stdout",
     "output_type": "stream",
     "text": [
      "Epoch 33/50, Train Loss: 1.4769, Val Loss: 1.4928, Train Accuracy: 0.4400, Validation Accuracy: 0.4120\n"
     ]
    },
    {
     "name": "stderr",
     "output_type": "stream",
     "text": [
      " 68%|██████▊   | 34/50 [00:13<00:06,  2.47it/s]"
     ]
    },
    {
     "name": "stdout",
     "output_type": "stream",
     "text": [
      "Epoch 34/50, Train Loss: 1.4767, Val Loss: 1.4926, Train Accuracy: 0.4400, Validation Accuracy: 0.4120\n"
     ]
    },
    {
     "name": "stderr",
     "output_type": "stream",
     "text": [
      " 70%|███████   | 35/50 [00:14<00:06,  2.50it/s]"
     ]
    },
    {
     "name": "stdout",
     "output_type": "stream",
     "text": [
      "Epoch 35/50, Train Loss: 1.4745, Val Loss: 1.4926, Train Accuracy: 0.4400, Validation Accuracy: 0.4120\n"
     ]
    },
    {
     "name": "stderr",
     "output_type": "stream",
     "text": [
      " 72%|███████▏  | 36/50 [00:14<00:05,  2.44it/s]"
     ]
    },
    {
     "name": "stdout",
     "output_type": "stream",
     "text": [
      "Epoch 36/50, Train Loss: 1.4761, Val Loss: 1.4938, Train Accuracy: 0.4390, Validation Accuracy: 0.4120\n"
     ]
    },
    {
     "name": "stderr",
     "output_type": "stream",
     "text": [
      " 74%|███████▍  | 37/50 [00:15<00:05,  2.37it/s]"
     ]
    },
    {
     "name": "stdout",
     "output_type": "stream",
     "text": [
      "Epoch 37/50, Train Loss: 1.4727, Val Loss: 1.4930, Train Accuracy: 0.4400, Validation Accuracy: 0.4120\n"
     ]
    },
    {
     "name": "stderr",
     "output_type": "stream",
     "text": [
      " 76%|███████▌  | 38/50 [00:15<00:05,  2.38it/s]"
     ]
    },
    {
     "name": "stdout",
     "output_type": "stream",
     "text": [
      "Epoch 38/50, Train Loss: 1.4794, Val Loss: 1.4916, Train Accuracy: 0.4400, Validation Accuracy: 0.4120\n"
     ]
    },
    {
     "name": "stderr",
     "output_type": "stream",
     "text": [
      " 78%|███████▊  | 39/50 [00:15<00:04,  2.38it/s]"
     ]
    },
    {
     "name": "stdout",
     "output_type": "stream",
     "text": [
      "Epoch 39/50, Train Loss: 1.4764, Val Loss: 1.4938, Train Accuracy: 0.4400, Validation Accuracy: 0.4120\n"
     ]
    },
    {
     "name": "stderr",
     "output_type": "stream",
     "text": [
      " 80%|████████  | 40/50 [00:16<00:04,  2.44it/s]"
     ]
    },
    {
     "name": "stdout",
     "output_type": "stream",
     "text": [
      "Epoch 40/50, Train Loss: 1.4799, Val Loss: 1.4922, Train Accuracy: 0.4400, Validation Accuracy: 0.4120\n"
     ]
    },
    {
     "name": "stderr",
     "output_type": "stream",
     "text": [
      " 82%|████████▏ | 41/50 [00:16<00:03,  2.43it/s]"
     ]
    },
    {
     "name": "stdout",
     "output_type": "stream",
     "text": [
      "Epoch 41/50, Train Loss: 1.4784, Val Loss: 1.4932, Train Accuracy: 0.4400, Validation Accuracy: 0.4120\n"
     ]
    },
    {
     "name": "stderr",
     "output_type": "stream",
     "text": [
      " 84%|████████▍ | 42/50 [00:17<00:03,  2.35it/s]"
     ]
    },
    {
     "name": "stdout",
     "output_type": "stream",
     "text": [
      "Epoch 42/50, Train Loss: 1.4762, Val Loss: 1.4932, Train Accuracy: 0.4400, Validation Accuracy: 0.4120\n"
     ]
    },
    {
     "name": "stderr",
     "output_type": "stream",
     "text": [
      " 86%|████████▌ | 43/50 [00:17<00:03,  2.24it/s]"
     ]
    },
    {
     "name": "stdout",
     "output_type": "stream",
     "text": [
      "Epoch 43/50, Train Loss: 1.4779, Val Loss: 1.4930, Train Accuracy: 0.4400, Validation Accuracy: 0.4120\n"
     ]
    },
    {
     "name": "stderr",
     "output_type": "stream",
     "text": [
      " 88%|████████▊ | 44/50 [00:18<00:02,  2.25it/s]"
     ]
    },
    {
     "name": "stdout",
     "output_type": "stream",
     "text": [
      "Epoch 44/50, Train Loss: 1.4778, Val Loss: 1.4924, Train Accuracy: 0.4400, Validation Accuracy: 0.4120\n"
     ]
    },
    {
     "name": "stderr",
     "output_type": "stream",
     "text": [
      " 90%|█████████ | 45/50 [00:18<00:02,  2.33it/s]"
     ]
    },
    {
     "name": "stdout",
     "output_type": "stream",
     "text": [
      "Epoch 45/50, Train Loss: 1.4723, Val Loss: 1.4940, Train Accuracy: 0.4400, Validation Accuracy: 0.4120\n"
     ]
    },
    {
     "name": "stderr",
     "output_type": "stream",
     "text": [
      " 92%|█████████▏| 46/50 [00:18<00:01,  2.34it/s]"
     ]
    },
    {
     "name": "stdout",
     "output_type": "stream",
     "text": [
      "Epoch 46/50, Train Loss: 1.4772, Val Loss: 1.4922, Train Accuracy: 0.4400, Validation Accuracy: 0.4120\n"
     ]
    },
    {
     "name": "stderr",
     "output_type": "stream",
     "text": [
      " 94%|█████████▍| 47/50 [00:19<00:01,  2.40it/s]"
     ]
    },
    {
     "name": "stdout",
     "output_type": "stream",
     "text": [
      "Epoch 47/50, Train Loss: 1.4788, Val Loss: 1.4928, Train Accuracy: 0.4400, Validation Accuracy: 0.4120\n"
     ]
    },
    {
     "name": "stderr",
     "output_type": "stream",
     "text": [
      " 96%|█████████▌| 48/50 [00:19<00:00,  2.45it/s]"
     ]
    },
    {
     "name": "stdout",
     "output_type": "stream",
     "text": [
      "Epoch 48/50, Train Loss: 1.4784, Val Loss: 1.4934, Train Accuracy: 0.4400, Validation Accuracy: 0.4120\n"
     ]
    },
    {
     "name": "stderr",
     "output_type": "stream",
     "text": [
      " 98%|█████████▊| 49/50 [00:20<00:00,  2.34it/s]"
     ]
    },
    {
     "name": "stdout",
     "output_type": "stream",
     "text": [
      "Epoch 49/50, Train Loss: 1.4765, Val Loss: 1.4932, Train Accuracy: 0.4400, Validation Accuracy: 0.4120\n"
     ]
    },
    {
     "name": "stderr",
     "output_type": "stream",
     "text": [
      "100%|██████████| 50/50 [00:20<00:00,  2.43it/s]"
     ]
    },
    {
     "name": "stdout",
     "output_type": "stream",
     "text": [
      "Epoch 50/50, Train Loss: 1.4764, Val Loss: 1.4930, Train Accuracy: 0.4400, Validation Accuracy: 0.4120\n",
      "Time taken for the model to run finish: 20.58 seconds\n",
      "Time taken to run finish the test: 0.01 seconds\n",
      "Test Accuracy: 0.4060\n"
     ]
    },
    {
     "name": "stderr",
     "output_type": "stream",
     "text": [
      "\n",
      "  2%|▏         | 1/50 [00:00<00:24,  1.97it/s]"
     ]
    },
    {
     "name": "stdout",
     "output_type": "stream",
     "text": [
      "Epoch 1/50, Train Loss: 1.4874, Val Loss: 1.4920, Train Accuracy: 0.4225, Validation Accuracy: 0.4120\n"
     ]
    },
    {
     "name": "stderr",
     "output_type": "stream",
     "text": [
      "  4%|▍         | 2/50 [00:00<00:22,  2.16it/s]"
     ]
    },
    {
     "name": "stdout",
     "output_type": "stream",
     "text": [
      "Epoch 2/50, Train Loss: 1.4759, Val Loss: 1.4908, Train Accuracy: 0.4400, Validation Accuracy: 0.4120\n"
     ]
    },
    {
     "name": "stderr",
     "output_type": "stream",
     "text": [
      "  6%|▌         | 3/50 [00:01<00:20,  2.26it/s]"
     ]
    },
    {
     "name": "stdout",
     "output_type": "stream",
     "text": [
      "Epoch 3/50, Train Loss: 1.4753, Val Loss: 1.4952, Train Accuracy: 0.4400, Validation Accuracy: 0.4120\n"
     ]
    },
    {
     "name": "stderr",
     "output_type": "stream",
     "text": [
      "  8%|▊         | 4/50 [00:01<00:19,  2.38it/s]"
     ]
    },
    {
     "name": "stdout",
     "output_type": "stream",
     "text": [
      "Epoch 4/50, Train Loss: 1.4750, Val Loss: 1.4926, Train Accuracy: 0.4400, Validation Accuracy: 0.4120\n"
     ]
    },
    {
     "name": "stderr",
     "output_type": "stream",
     "text": [
      " 10%|█         | 5/50 [00:02<00:18,  2.40it/s]"
     ]
    },
    {
     "name": "stdout",
     "output_type": "stream",
     "text": [
      "Epoch 5/50, Train Loss: 1.4745, Val Loss: 1.4924, Train Accuracy: 0.4400, Validation Accuracy: 0.4120\n"
     ]
    },
    {
     "name": "stderr",
     "output_type": "stream",
     "text": [
      " 12%|█▏        | 6/50 [00:02<00:17,  2.50it/s]"
     ]
    },
    {
     "name": "stdout",
     "output_type": "stream",
     "text": [
      "Epoch 6/50, Train Loss: 1.4775, Val Loss: 1.4936, Train Accuracy: 0.4400, Validation Accuracy: 0.4120\n"
     ]
    },
    {
     "name": "stderr",
     "output_type": "stream",
     "text": [
      " 14%|█▍        | 7/50 [00:02<00:16,  2.53it/s]"
     ]
    },
    {
     "name": "stdout",
     "output_type": "stream",
     "text": [
      "Epoch 7/50, Train Loss: 1.4768, Val Loss: 1.4934, Train Accuracy: 0.4400, Validation Accuracy: 0.4120\n"
     ]
    },
    {
     "name": "stderr",
     "output_type": "stream",
     "text": [
      " 16%|█▌        | 8/50 [00:03<00:16,  2.57it/s]"
     ]
    },
    {
     "name": "stdout",
     "output_type": "stream",
     "text": [
      "Epoch 8/50, Train Loss: 1.4763, Val Loss: 1.4936, Train Accuracy: 0.4400, Validation Accuracy: 0.4120\n"
     ]
    },
    {
     "name": "stderr",
     "output_type": "stream",
     "text": [
      " 18%|█▊        | 9/50 [00:03<00:15,  2.60it/s]"
     ]
    },
    {
     "name": "stdout",
     "output_type": "stream",
     "text": [
      "Epoch 9/50, Train Loss: 1.4746, Val Loss: 1.4918, Train Accuracy: 0.4400, Validation Accuracy: 0.4120\n"
     ]
    },
    {
     "name": "stderr",
     "output_type": "stream",
     "text": [
      " 20%|██        | 10/50 [00:04<00:15,  2.63it/s]"
     ]
    },
    {
     "name": "stdout",
     "output_type": "stream",
     "text": [
      "Epoch 10/50, Train Loss: 1.4763, Val Loss: 1.4932, Train Accuracy: 0.4400, Validation Accuracy: 0.4120\n"
     ]
    },
    {
     "name": "stderr",
     "output_type": "stream",
     "text": [
      " 22%|██▏       | 11/50 [00:04<00:14,  2.64it/s]"
     ]
    },
    {
     "name": "stdout",
     "output_type": "stream",
     "text": [
      "Epoch 11/50, Train Loss: 1.4769, Val Loss: 1.4948, Train Accuracy: 0.4400, Validation Accuracy: 0.4120\n"
     ]
    },
    {
     "name": "stderr",
     "output_type": "stream",
     "text": [
      " 24%|██▍       | 12/50 [00:04<00:14,  2.66it/s]"
     ]
    },
    {
     "name": "stdout",
     "output_type": "stream",
     "text": [
      "Epoch 12/50, Train Loss: 1.4756, Val Loss: 1.4934, Train Accuracy: 0.4400, Validation Accuracy: 0.4120\n"
     ]
    },
    {
     "name": "stderr",
     "output_type": "stream",
     "text": [
      " 26%|██▌       | 13/50 [00:05<00:14,  2.54it/s]"
     ]
    },
    {
     "name": "stdout",
     "output_type": "stream",
     "text": [
      "Epoch 13/50, Train Loss: 1.4773, Val Loss: 1.4924, Train Accuracy: 0.4400, Validation Accuracy: 0.4120\n"
     ]
    },
    {
     "name": "stderr",
     "output_type": "stream",
     "text": [
      " 28%|██▊       | 14/50 [00:05<00:15,  2.32it/s]"
     ]
    },
    {
     "name": "stdout",
     "output_type": "stream",
     "text": [
      "Epoch 14/50, Train Loss: 1.4799, Val Loss: 1.4910, Train Accuracy: 0.4400, Validation Accuracy: 0.4120\n"
     ]
    },
    {
     "name": "stderr",
     "output_type": "stream",
     "text": [
      " 30%|███       | 15/50 [00:06<00:15,  2.24it/s]"
     ]
    },
    {
     "name": "stdout",
     "output_type": "stream",
     "text": [
      "Epoch 15/50, Train Loss: 1.4741, Val Loss: 1.4920, Train Accuracy: 0.4400, Validation Accuracy: 0.4120\n"
     ]
    },
    {
     "name": "stderr",
     "output_type": "stream",
     "text": [
      " 32%|███▏      | 16/50 [00:06<00:15,  2.20it/s]"
     ]
    },
    {
     "name": "stdout",
     "output_type": "stream",
     "text": [
      "Epoch 16/50, Train Loss: 1.4769, Val Loss: 1.4928, Train Accuracy: 0.4400, Validation Accuracy: 0.4120\n"
     ]
    },
    {
     "name": "stderr",
     "output_type": "stream",
     "text": [
      " 34%|███▍      | 17/50 [00:07<00:14,  2.21it/s]"
     ]
    },
    {
     "name": "stdout",
     "output_type": "stream",
     "text": [
      "Epoch 17/50, Train Loss: 1.4738, Val Loss: 1.4938, Train Accuracy: 0.4400, Validation Accuracy: 0.4120\n"
     ]
    },
    {
     "name": "stderr",
     "output_type": "stream",
     "text": [
      " 36%|███▌      | 18/50 [00:07<00:14,  2.15it/s]"
     ]
    },
    {
     "name": "stdout",
     "output_type": "stream",
     "text": [
      "Epoch 18/50, Train Loss: 1.4750, Val Loss: 1.4930, Train Accuracy: 0.4400, Validation Accuracy: 0.4120\n"
     ]
    },
    {
     "name": "stderr",
     "output_type": "stream",
     "text": [
      " 38%|███▊      | 19/50 [00:08<00:14,  2.18it/s]"
     ]
    },
    {
     "name": "stdout",
     "output_type": "stream",
     "text": [
      "Epoch 19/50, Train Loss: 1.4754, Val Loss: 1.4908, Train Accuracy: 0.4400, Validation Accuracy: 0.4120\n"
     ]
    },
    {
     "name": "stderr",
     "output_type": "stream",
     "text": [
      " 40%|████      | 20/50 [00:08<00:13,  2.19it/s]"
     ]
    },
    {
     "name": "stdout",
     "output_type": "stream",
     "text": [
      "Epoch 20/50, Train Loss: 1.4758, Val Loss: 1.4928, Train Accuracy: 0.4400, Validation Accuracy: 0.4120\n"
     ]
    },
    {
     "name": "stderr",
     "output_type": "stream",
     "text": [
      " 42%|████▏     | 21/50 [00:08<00:13,  2.17it/s]"
     ]
    },
    {
     "name": "stdout",
     "output_type": "stream",
     "text": [
      "Epoch 21/50, Train Loss: 1.4751, Val Loss: 1.4940, Train Accuracy: 0.4400, Validation Accuracy: 0.4120\n"
     ]
    },
    {
     "name": "stderr",
     "output_type": "stream",
     "text": [
      " 44%|████▍     | 22/50 [00:09<00:13,  2.08it/s]"
     ]
    },
    {
     "name": "stdout",
     "output_type": "stream",
     "text": [
      "Epoch 22/50, Train Loss: 1.4779, Val Loss: 1.4924, Train Accuracy: 0.4400, Validation Accuracy: 0.4120\n"
     ]
    },
    {
     "name": "stderr",
     "output_type": "stream",
     "text": [
      " 46%|████▌     | 23/50 [00:10<00:13,  2.04it/s]"
     ]
    },
    {
     "name": "stdout",
     "output_type": "stream",
     "text": [
      "Epoch 23/50, Train Loss: 1.4752, Val Loss: 1.4920, Train Accuracy: 0.4400, Validation Accuracy: 0.4120\n"
     ]
    },
    {
     "name": "stderr",
     "output_type": "stream",
     "text": [
      " 48%|████▊     | 24/50 [00:10<00:12,  2.07it/s]"
     ]
    },
    {
     "name": "stdout",
     "output_type": "stream",
     "text": [
      "Epoch 24/50, Train Loss: 1.4772, Val Loss: 1.4926, Train Accuracy: 0.4400, Validation Accuracy: 0.4120\n"
     ]
    },
    {
     "name": "stderr",
     "output_type": "stream",
     "text": [
      " 50%|█████     | 25/50 [00:10<00:12,  2.05it/s]"
     ]
    },
    {
     "name": "stdout",
     "output_type": "stream",
     "text": [
      "Epoch 25/50, Train Loss: 1.4761, Val Loss: 1.4918, Train Accuracy: 0.4400, Validation Accuracy: 0.4120\n"
     ]
    },
    {
     "name": "stderr",
     "output_type": "stream",
     "text": [
      " 52%|█████▏    | 26/50 [00:11<00:11,  2.07it/s]"
     ]
    },
    {
     "name": "stdout",
     "output_type": "stream",
     "text": [
      "Epoch 26/50, Train Loss: 1.4737, Val Loss: 1.4930, Train Accuracy: 0.4400, Validation Accuracy: 0.4120\n"
     ]
    },
    {
     "name": "stderr",
     "output_type": "stream",
     "text": [
      " 54%|█████▍    | 27/50 [00:11<00:11,  2.09it/s]"
     ]
    },
    {
     "name": "stdout",
     "output_type": "stream",
     "text": [
      "Epoch 27/50, Train Loss: 1.4742, Val Loss: 1.4926, Train Accuracy: 0.4400, Validation Accuracy: 0.4120\n"
     ]
    },
    {
     "name": "stderr",
     "output_type": "stream",
     "text": [
      " 56%|█████▌    | 28/50 [00:12<00:10,  2.12it/s]"
     ]
    },
    {
     "name": "stdout",
     "output_type": "stream",
     "text": [
      "Epoch 28/50, Train Loss: 1.4775, Val Loss: 1.4924, Train Accuracy: 0.4400, Validation Accuracy: 0.4120\n"
     ]
    },
    {
     "name": "stderr",
     "output_type": "stream",
     "text": [
      " 58%|█████▊    | 29/50 [00:12<00:09,  2.17it/s]"
     ]
    },
    {
     "name": "stdout",
     "output_type": "stream",
     "text": [
      "Epoch 29/50, Train Loss: 1.4766, Val Loss: 1.4930, Train Accuracy: 0.4400, Validation Accuracy: 0.4120\n"
     ]
    },
    {
     "name": "stderr",
     "output_type": "stream",
     "text": [
      " 60%|██████    | 30/50 [00:13<00:09,  2.22it/s]"
     ]
    },
    {
     "name": "stdout",
     "output_type": "stream",
     "text": [
      "Epoch 30/50, Train Loss: 1.4722, Val Loss: 1.4906, Train Accuracy: 0.4400, Validation Accuracy: 0.4120\n"
     ]
    },
    {
     "name": "stderr",
     "output_type": "stream",
     "text": [
      " 62%|██████▏   | 31/50 [00:13<00:08,  2.18it/s]"
     ]
    },
    {
     "name": "stdout",
     "output_type": "stream",
     "text": [
      "Epoch 31/50, Train Loss: 1.4739, Val Loss: 1.4920, Train Accuracy: 0.4400, Validation Accuracy: 0.4120\n"
     ]
    },
    {
     "name": "stderr",
     "output_type": "stream",
     "text": [
      " 64%|██████▍   | 32/50 [00:14<00:08,  2.17it/s]"
     ]
    },
    {
     "name": "stdout",
     "output_type": "stream",
     "text": [
      "Epoch 32/50, Train Loss: 1.4742, Val Loss: 1.4942, Train Accuracy: 0.4400, Validation Accuracy: 0.4120\n"
     ]
    },
    {
     "name": "stderr",
     "output_type": "stream",
     "text": [
      " 66%|██████▌   | 33/50 [00:14<00:07,  2.19it/s]"
     ]
    },
    {
     "name": "stdout",
     "output_type": "stream",
     "text": [
      "Epoch 33/50, Train Loss: 1.4763, Val Loss: 1.4928, Train Accuracy: 0.4400, Validation Accuracy: 0.4120\n"
     ]
    },
    {
     "name": "stderr",
     "output_type": "stream",
     "text": [
      " 68%|██████▊   | 34/50 [00:15<00:07,  2.19it/s]"
     ]
    },
    {
     "name": "stdout",
     "output_type": "stream",
     "text": [
      "Epoch 34/50, Train Loss: 1.4788, Val Loss: 1.4926, Train Accuracy: 0.4400, Validation Accuracy: 0.4120\n"
     ]
    },
    {
     "name": "stderr",
     "output_type": "stream",
     "text": [
      " 70%|███████   | 35/50 [00:15<00:06,  2.21it/s]"
     ]
    },
    {
     "name": "stdout",
     "output_type": "stream",
     "text": [
      "Epoch 35/50, Train Loss: 1.4767, Val Loss: 1.4926, Train Accuracy: 0.4400, Validation Accuracy: 0.4120\n"
     ]
    },
    {
     "name": "stderr",
     "output_type": "stream",
     "text": [
      " 72%|███████▏  | 36/50 [00:15<00:06,  2.21it/s]"
     ]
    },
    {
     "name": "stdout",
     "output_type": "stream",
     "text": [
      "Epoch 36/50, Train Loss: 1.4762, Val Loss: 1.4938, Train Accuracy: 0.4400, Validation Accuracy: 0.4120\n"
     ]
    },
    {
     "name": "stderr",
     "output_type": "stream",
     "text": [
      " 74%|███████▍  | 37/50 [00:16<00:05,  2.18it/s]"
     ]
    },
    {
     "name": "stdout",
     "output_type": "stream",
     "text": [
      "Epoch 37/50, Train Loss: 1.4761, Val Loss: 1.4930, Train Accuracy: 0.4400, Validation Accuracy: 0.4120\n"
     ]
    },
    {
     "name": "stderr",
     "output_type": "stream",
     "text": [
      " 76%|███████▌  | 38/50 [00:16<00:05,  2.22it/s]"
     ]
    },
    {
     "name": "stdout",
     "output_type": "stream",
     "text": [
      "Epoch 38/50, Train Loss: 1.4789, Val Loss: 1.4916, Train Accuracy: 0.4400, Validation Accuracy: 0.4120\n"
     ]
    },
    {
     "name": "stderr",
     "output_type": "stream",
     "text": [
      " 78%|███████▊  | 39/50 [00:17<00:04,  2.26it/s]"
     ]
    },
    {
     "name": "stdout",
     "output_type": "stream",
     "text": [
      "Epoch 39/50, Train Loss: 1.4767, Val Loss: 1.4938, Train Accuracy: 0.4400, Validation Accuracy: 0.4120\n"
     ]
    },
    {
     "name": "stderr",
     "output_type": "stream",
     "text": [
      " 80%|████████  | 40/50 [00:17<00:04,  2.23it/s]"
     ]
    },
    {
     "name": "stdout",
     "output_type": "stream",
     "text": [
      "Epoch 40/50, Train Loss: 1.4787, Val Loss: 1.4922, Train Accuracy: 0.4400, Validation Accuracy: 0.4120\n"
     ]
    },
    {
     "name": "stderr",
     "output_type": "stream",
     "text": [
      " 82%|████████▏ | 41/50 [00:18<00:04,  2.22it/s]"
     ]
    },
    {
     "name": "stdout",
     "output_type": "stream",
     "text": [
      "Epoch 41/50, Train Loss: 1.4774, Val Loss: 1.4932, Train Accuracy: 0.4400, Validation Accuracy: 0.4120\n"
     ]
    },
    {
     "name": "stderr",
     "output_type": "stream",
     "text": [
      " 84%|████████▍ | 42/50 [00:18<00:03,  2.23it/s]"
     ]
    },
    {
     "name": "stdout",
     "output_type": "stream",
     "text": [
      "Epoch 42/50, Train Loss: 1.4776, Val Loss: 1.4932, Train Accuracy: 0.4400, Validation Accuracy: 0.4120\n"
     ]
    },
    {
     "name": "stderr",
     "output_type": "stream",
     "text": [
      " 86%|████████▌ | 43/50 [00:19<00:03,  2.21it/s]"
     ]
    },
    {
     "name": "stdout",
     "output_type": "stream",
     "text": [
      "Epoch 43/50, Train Loss: 1.4771, Val Loss: 1.4930, Train Accuracy: 0.4400, Validation Accuracy: 0.4120\n"
     ]
    },
    {
     "name": "stderr",
     "output_type": "stream",
     "text": [
      " 88%|████████▊ | 44/50 [00:19<00:02,  2.24it/s]"
     ]
    },
    {
     "name": "stdout",
     "output_type": "stream",
     "text": [
      "Epoch 44/50, Train Loss: 1.4770, Val Loss: 1.4924, Train Accuracy: 0.4400, Validation Accuracy: 0.4120\n"
     ]
    },
    {
     "name": "stderr",
     "output_type": "stream",
     "text": [
      " 90%|█████████ | 45/50 [00:20<00:02,  2.25it/s]"
     ]
    },
    {
     "name": "stdout",
     "output_type": "stream",
     "text": [
      "Epoch 45/50, Train Loss: 1.4772, Val Loss: 1.4940, Train Accuracy: 0.4400, Validation Accuracy: 0.4120\n"
     ]
    },
    {
     "name": "stderr",
     "output_type": "stream",
     "text": [
      " 92%|█████████▏| 46/50 [00:20<00:01,  2.27it/s]"
     ]
    },
    {
     "name": "stdout",
     "output_type": "stream",
     "text": [
      "Epoch 46/50, Train Loss: 1.4765, Val Loss: 1.4922, Train Accuracy: 0.4400, Validation Accuracy: 0.4120\n"
     ]
    },
    {
     "name": "stderr",
     "output_type": "stream",
     "text": [
      " 94%|█████████▍| 47/50 [00:20<00:01,  2.20it/s]"
     ]
    },
    {
     "name": "stdout",
     "output_type": "stream",
     "text": [
      "Epoch 47/50, Train Loss: 1.4790, Val Loss: 1.4928, Train Accuracy: 0.4400, Validation Accuracy: 0.4120\n"
     ]
    },
    {
     "name": "stderr",
     "output_type": "stream",
     "text": [
      " 96%|█████████▌| 48/50 [00:21<00:00,  2.21it/s]"
     ]
    },
    {
     "name": "stdout",
     "output_type": "stream",
     "text": [
      "Epoch 48/50, Train Loss: 1.4762, Val Loss: 1.4934, Train Accuracy: 0.4400, Validation Accuracy: 0.4120\n"
     ]
    },
    {
     "name": "stderr",
     "output_type": "stream",
     "text": [
      " 98%|█████████▊| 49/50 [00:21<00:00,  2.10it/s]"
     ]
    },
    {
     "name": "stdout",
     "output_type": "stream",
     "text": [
      "Epoch 49/50, Train Loss: 1.4746, Val Loss: 1.4932, Train Accuracy: 0.4400, Validation Accuracy: 0.4120\n"
     ]
    },
    {
     "name": "stderr",
     "output_type": "stream",
     "text": [
      "100%|██████████| 50/50 [00:22<00:00,  2.24it/s]"
     ]
    },
    {
     "name": "stdout",
     "output_type": "stream",
     "text": [
      "Epoch 50/50, Train Loss: 1.4750, Val Loss: 1.4930, Train Accuracy: 0.4388, Validation Accuracy: 0.4120\n",
      "Time taken for the model to run finish: 22.36 seconds\n",
      "Time taken to run finish the test: 0.01 seconds\n",
      "Test Accuracy: 0.4060\n"
     ]
    },
    {
     "name": "stderr",
     "output_type": "stream",
     "text": [
      "\n",
      "  2%|▏         | 1/50 [00:00<00:22,  2.13it/s]"
     ]
    },
    {
     "name": "stdout",
     "output_type": "stream",
     "text": [
      "Epoch 1/50, Train Loss: 1.4860, Val Loss: 1.4920, Train Accuracy: 0.4340, Validation Accuracy: 0.4120\n"
     ]
    },
    {
     "name": "stderr",
     "output_type": "stream",
     "text": [
      "  4%|▍         | 2/50 [00:00<00:20,  2.29it/s]"
     ]
    },
    {
     "name": "stdout",
     "output_type": "stream",
     "text": [
      "Epoch 2/50, Train Loss: 1.4749, Val Loss: 1.4908, Train Accuracy: 0.4400, Validation Accuracy: 0.4120\n"
     ]
    },
    {
     "name": "stderr",
     "output_type": "stream",
     "text": [
      "  6%|▌         | 3/50 [00:01<00:19,  2.38it/s]"
     ]
    },
    {
     "name": "stdout",
     "output_type": "stream",
     "text": [
      "Epoch 3/50, Train Loss: 1.4754, Val Loss: 1.4952, Train Accuracy: 0.4400, Validation Accuracy: 0.4120\n"
     ]
    },
    {
     "name": "stderr",
     "output_type": "stream",
     "text": [
      "  8%|▊         | 4/50 [00:01<00:19,  2.36it/s]"
     ]
    },
    {
     "name": "stdout",
     "output_type": "stream",
     "text": [
      "Epoch 4/50, Train Loss: 1.4776, Val Loss: 1.4926, Train Accuracy: 0.4400, Validation Accuracy: 0.4120\n"
     ]
    },
    {
     "name": "stderr",
     "output_type": "stream",
     "text": [
      " 10%|█         | 5/50 [00:02<00:18,  2.37it/s]"
     ]
    },
    {
     "name": "stdout",
     "output_type": "stream",
     "text": [
      "Epoch 5/50, Train Loss: 1.4751, Val Loss: 1.4924, Train Accuracy: 0.4400, Validation Accuracy: 0.4120\n"
     ]
    },
    {
     "name": "stderr",
     "output_type": "stream",
     "text": [
      " 12%|█▏        | 6/50 [00:02<00:18,  2.38it/s]"
     ]
    },
    {
     "name": "stdout",
     "output_type": "stream",
     "text": [
      "Epoch 6/50, Train Loss: 1.4772, Val Loss: 1.4936, Train Accuracy: 0.4400, Validation Accuracy: 0.4120\n"
     ]
    },
    {
     "name": "stderr",
     "output_type": "stream",
     "text": [
      " 14%|█▍        | 7/50 [00:02<00:17,  2.41it/s]"
     ]
    },
    {
     "name": "stdout",
     "output_type": "stream",
     "text": [
      "Epoch 7/50, Train Loss: 1.4763, Val Loss: 1.4934, Train Accuracy: 0.4400, Validation Accuracy: 0.4120\n"
     ]
    },
    {
     "name": "stderr",
     "output_type": "stream",
     "text": [
      " 16%|█▌        | 8/50 [00:03<00:17,  2.43it/s]"
     ]
    },
    {
     "name": "stdout",
     "output_type": "stream",
     "text": [
      "Epoch 8/50, Train Loss: 1.4755, Val Loss: 1.4936, Train Accuracy: 0.4400, Validation Accuracy: 0.4120\n"
     ]
    },
    {
     "name": "stderr",
     "output_type": "stream",
     "text": [
      " 18%|█▊        | 9/50 [00:03<00:16,  2.43it/s]"
     ]
    },
    {
     "name": "stdout",
     "output_type": "stream",
     "text": [
      "Epoch 9/50, Train Loss: 1.4767, Val Loss: 1.4918, Train Accuracy: 0.4400, Validation Accuracy: 0.4120\n"
     ]
    },
    {
     "name": "stderr",
     "output_type": "stream",
     "text": [
      " 20%|██        | 10/50 [00:04<00:16,  2.41it/s]"
     ]
    },
    {
     "name": "stdout",
     "output_type": "stream",
     "text": [
      "Epoch 10/50, Train Loss: 1.4744, Val Loss: 1.4932, Train Accuracy: 0.4400, Validation Accuracy: 0.4120\n"
     ]
    },
    {
     "name": "stderr",
     "output_type": "stream",
     "text": [
      " 22%|██▏       | 11/50 [00:04<00:16,  2.37it/s]"
     ]
    },
    {
     "name": "stdout",
     "output_type": "stream",
     "text": [
      "Epoch 11/50, Train Loss: 1.4748, Val Loss: 1.4948, Train Accuracy: 0.4400, Validation Accuracy: 0.4120\n"
     ]
    },
    {
     "name": "stderr",
     "output_type": "stream",
     "text": [
      " 24%|██▍       | 12/50 [00:05<00:16,  2.37it/s]"
     ]
    },
    {
     "name": "stdout",
     "output_type": "stream",
     "text": [
      "Epoch 12/50, Train Loss: 1.4778, Val Loss: 1.4934, Train Accuracy: 0.4400, Validation Accuracy: 0.4120\n"
     ]
    },
    {
     "name": "stderr",
     "output_type": "stream",
     "text": [
      " 26%|██▌       | 13/50 [00:05<00:15,  2.35it/s]"
     ]
    },
    {
     "name": "stdout",
     "output_type": "stream",
     "text": [
      "Epoch 13/50, Train Loss: 1.4787, Val Loss: 1.4924, Train Accuracy: 0.4400, Validation Accuracy: 0.4120\n"
     ]
    },
    {
     "name": "stderr",
     "output_type": "stream",
     "text": [
      " 28%|██▊       | 14/50 [00:05<00:15,  2.39it/s]"
     ]
    },
    {
     "name": "stdout",
     "output_type": "stream",
     "text": [
      "Epoch 14/50, Train Loss: 1.4727, Val Loss: 1.4910, Train Accuracy: 0.4400, Validation Accuracy: 0.4120\n"
     ]
    },
    {
     "name": "stderr",
     "output_type": "stream",
     "text": [
      " 30%|███       | 15/50 [00:06<00:14,  2.39it/s]"
     ]
    },
    {
     "name": "stdout",
     "output_type": "stream",
     "text": [
      "Epoch 15/50, Train Loss: 1.4775, Val Loss: 1.4920, Train Accuracy: 0.4400, Validation Accuracy: 0.4120\n"
     ]
    },
    {
     "name": "stderr",
     "output_type": "stream",
     "text": [
      " 32%|███▏      | 16/50 [00:06<00:14,  2.42it/s]"
     ]
    },
    {
     "name": "stdout",
     "output_type": "stream",
     "text": [
      "Epoch 16/50, Train Loss: 1.4730, Val Loss: 1.4928, Train Accuracy: 0.4400, Validation Accuracy: 0.4120\n"
     ]
    },
    {
     "name": "stderr",
     "output_type": "stream",
     "text": [
      " 34%|███▍      | 17/50 [00:07<00:13,  2.43it/s]"
     ]
    },
    {
     "name": "stdout",
     "output_type": "stream",
     "text": [
      "Epoch 17/50, Train Loss: 1.4731, Val Loss: 1.4938, Train Accuracy: 0.4400, Validation Accuracy: 0.4120\n"
     ]
    },
    {
     "name": "stderr",
     "output_type": "stream",
     "text": [
      " 36%|███▌      | 18/50 [00:07<00:13,  2.44it/s]"
     ]
    },
    {
     "name": "stdout",
     "output_type": "stream",
     "text": [
      "Epoch 18/50, Train Loss: 1.4718, Val Loss: 1.4930, Train Accuracy: 0.4400, Validation Accuracy: 0.4120\n"
     ]
    },
    {
     "name": "stderr",
     "output_type": "stream",
     "text": [
      " 38%|███▊      | 19/50 [00:07<00:12,  2.45it/s]"
     ]
    },
    {
     "name": "stdout",
     "output_type": "stream",
     "text": [
      "Epoch 19/50, Train Loss: 1.4726, Val Loss: 1.4908, Train Accuracy: 0.4400, Validation Accuracy: 0.4120\n"
     ]
    },
    {
     "name": "stderr",
     "output_type": "stream",
     "text": [
      " 40%|████      | 20/50 [00:08<00:12,  2.44it/s]"
     ]
    },
    {
     "name": "stdout",
     "output_type": "stream",
     "text": [
      "Epoch 20/50, Train Loss: 1.4775, Val Loss: 1.4928, Train Accuracy: 0.4400, Validation Accuracy: 0.4120\n"
     ]
    },
    {
     "name": "stderr",
     "output_type": "stream",
     "text": [
      " 42%|████▏     | 21/50 [00:08<00:12,  2.37it/s]"
     ]
    },
    {
     "name": "stdout",
     "output_type": "stream",
     "text": [
      "Epoch 21/50, Train Loss: 1.4752, Val Loss: 1.4940, Train Accuracy: 0.4400, Validation Accuracy: 0.4120\n"
     ]
    },
    {
     "name": "stderr",
     "output_type": "stream",
     "text": [
      " 44%|████▍     | 22/50 [00:09<00:11,  2.38it/s]"
     ]
    },
    {
     "name": "stdout",
     "output_type": "stream",
     "text": [
      "Epoch 22/50, Train Loss: 1.4768, Val Loss: 1.4924, Train Accuracy: 0.4400, Validation Accuracy: 0.4120\n"
     ]
    },
    {
     "name": "stderr",
     "output_type": "stream",
     "text": [
      " 46%|████▌     | 23/50 [00:09<00:11,  2.38it/s]"
     ]
    },
    {
     "name": "stdout",
     "output_type": "stream",
     "text": [
      "Epoch 23/50, Train Loss: 1.4784, Val Loss: 1.4920, Train Accuracy: 0.4400, Validation Accuracy: 0.4120\n"
     ]
    },
    {
     "name": "stderr",
     "output_type": "stream",
     "text": [
      " 48%|████▊     | 24/50 [00:10<00:10,  2.40it/s]"
     ]
    },
    {
     "name": "stdout",
     "output_type": "stream",
     "text": [
      "Epoch 24/50, Train Loss: 1.4750, Val Loss: 1.4926, Train Accuracy: 0.4400, Validation Accuracy: 0.4120\n"
     ]
    },
    {
     "name": "stderr",
     "output_type": "stream",
     "text": [
      " 50%|█████     | 25/50 [00:10<00:10,  2.40it/s]"
     ]
    },
    {
     "name": "stdout",
     "output_type": "stream",
     "text": [
      "Epoch 25/50, Train Loss: 1.4775, Val Loss: 1.4918, Train Accuracy: 0.4400, Validation Accuracy: 0.4120\n"
     ]
    },
    {
     "name": "stderr",
     "output_type": "stream",
     "text": [
      " 52%|█████▏    | 26/50 [00:10<00:10,  2.37it/s]"
     ]
    },
    {
     "name": "stdout",
     "output_type": "stream",
     "text": [
      "Epoch 26/50, Train Loss: 1.4743, Val Loss: 1.4930, Train Accuracy: 0.4400, Validation Accuracy: 0.4120\n"
     ]
    },
    {
     "name": "stderr",
     "output_type": "stream",
     "text": [
      " 54%|█████▍    | 27/50 [00:11<00:09,  2.40it/s]"
     ]
    },
    {
     "name": "stdout",
     "output_type": "stream",
     "text": [
      "Epoch 27/50, Train Loss: 1.4761, Val Loss: 1.4926, Train Accuracy: 0.4400, Validation Accuracy: 0.4120\n"
     ]
    },
    {
     "name": "stderr",
     "output_type": "stream",
     "text": [
      " 56%|█████▌    | 28/50 [00:11<00:09,  2.40it/s]"
     ]
    },
    {
     "name": "stdout",
     "output_type": "stream",
     "text": [
      "Epoch 28/50, Train Loss: 1.4764, Val Loss: 1.4924, Train Accuracy: 0.4400, Validation Accuracy: 0.4120\n"
     ]
    },
    {
     "name": "stderr",
     "output_type": "stream",
     "text": [
      " 58%|█████▊    | 29/50 [00:12<00:08,  2.41it/s]"
     ]
    },
    {
     "name": "stdout",
     "output_type": "stream",
     "text": [
      "Epoch 29/50, Train Loss: 1.4751, Val Loss: 1.4930, Train Accuracy: 0.4400, Validation Accuracy: 0.4120\n"
     ]
    },
    {
     "name": "stderr",
     "output_type": "stream",
     "text": [
      " 60%|██████    | 30/50 [00:12<00:08,  2.39it/s]"
     ]
    },
    {
     "name": "stdout",
     "output_type": "stream",
     "text": [
      "Epoch 30/50, Train Loss: 1.4762, Val Loss: 1.4906, Train Accuracy: 0.4400, Validation Accuracy: 0.4120\n"
     ]
    },
    {
     "name": "stderr",
     "output_type": "stream",
     "text": [
      " 62%|██████▏   | 31/50 [00:12<00:07,  2.38it/s]"
     ]
    },
    {
     "name": "stdout",
     "output_type": "stream",
     "text": [
      "Epoch 31/50, Train Loss: 1.4744, Val Loss: 1.4920, Train Accuracy: 0.4400, Validation Accuracy: 0.4120\n"
     ]
    },
    {
     "name": "stderr",
     "output_type": "stream",
     "text": [
      " 64%|██████▍   | 32/50 [00:13<00:07,  2.38it/s]"
     ]
    },
    {
     "name": "stdout",
     "output_type": "stream",
     "text": [
      "Epoch 32/50, Train Loss: 1.4786, Val Loss: 1.4942, Train Accuracy: 0.4400, Validation Accuracy: 0.4120\n"
     ]
    },
    {
     "name": "stderr",
     "output_type": "stream",
     "text": [
      " 66%|██████▌   | 33/50 [00:13<00:07,  2.37it/s]"
     ]
    },
    {
     "name": "stdout",
     "output_type": "stream",
     "text": [
      "Epoch 33/50, Train Loss: 1.4795, Val Loss: 1.4928, Train Accuracy: 0.4400, Validation Accuracy: 0.4120\n"
     ]
    },
    {
     "name": "stderr",
     "output_type": "stream",
     "text": [
      " 68%|██████▊   | 34/50 [00:14<00:06,  2.38it/s]"
     ]
    },
    {
     "name": "stdout",
     "output_type": "stream",
     "text": [
      "Epoch 34/50, Train Loss: 1.4756, Val Loss: 1.4926, Train Accuracy: 0.4400, Validation Accuracy: 0.4120\n"
     ]
    },
    {
     "name": "stderr",
     "output_type": "stream",
     "text": [
      " 70%|███████   | 35/50 [00:14<00:06,  2.40it/s]"
     ]
    },
    {
     "name": "stdout",
     "output_type": "stream",
     "text": [
      "Epoch 35/50, Train Loss: 1.4759, Val Loss: 1.4926, Train Accuracy: 0.4400, Validation Accuracy: 0.4120\n"
     ]
    },
    {
     "name": "stderr",
     "output_type": "stream",
     "text": [
      " 72%|███████▏  | 36/50 [00:15<00:05,  2.35it/s]"
     ]
    },
    {
     "name": "stdout",
     "output_type": "stream",
     "text": [
      "Epoch 36/50, Train Loss: 1.4748, Val Loss: 1.4938, Train Accuracy: 0.4400, Validation Accuracy: 0.4120\n"
     ]
    },
    {
     "name": "stderr",
     "output_type": "stream",
     "text": [
      " 74%|███████▍  | 37/50 [00:15<00:05,  2.35it/s]"
     ]
    },
    {
     "name": "stdout",
     "output_type": "stream",
     "text": [
      "Epoch 37/50, Train Loss: 1.4744, Val Loss: 1.4930, Train Accuracy: 0.4400, Validation Accuracy: 0.4120\n"
     ]
    },
    {
     "name": "stderr",
     "output_type": "stream",
     "text": [
      " 76%|███████▌  | 38/50 [00:15<00:05,  2.36it/s]"
     ]
    },
    {
     "name": "stdout",
     "output_type": "stream",
     "text": [
      "Epoch 38/50, Train Loss: 1.4771, Val Loss: 1.4916, Train Accuracy: 0.4400, Validation Accuracy: 0.4120\n"
     ]
    },
    {
     "name": "stderr",
     "output_type": "stream",
     "text": [
      " 78%|███████▊  | 39/50 [00:16<00:04,  2.34it/s]"
     ]
    },
    {
     "name": "stdout",
     "output_type": "stream",
     "text": [
      "Epoch 39/50, Train Loss: 1.4753, Val Loss: 1.4938, Train Accuracy: 0.4400, Validation Accuracy: 0.4120\n"
     ]
    },
    {
     "name": "stderr",
     "output_type": "stream",
     "text": [
      " 80%|████████  | 40/50 [00:16<00:04,  2.37it/s]"
     ]
    },
    {
     "name": "stdout",
     "output_type": "stream",
     "text": [
      "Epoch 40/50, Train Loss: 1.4749, Val Loss: 1.4922, Train Accuracy: 0.4400, Validation Accuracy: 0.4120\n"
     ]
    },
    {
     "name": "stderr",
     "output_type": "stream",
     "text": [
      " 82%|████████▏ | 41/50 [00:17<00:03,  2.39it/s]"
     ]
    },
    {
     "name": "stdout",
     "output_type": "stream",
     "text": [
      "Epoch 41/50, Train Loss: 1.4765, Val Loss: 1.4932, Train Accuracy: 0.4362, Validation Accuracy: 0.4120\n"
     ]
    },
    {
     "name": "stderr",
     "output_type": "stream",
     "text": [
      " 84%|████████▍ | 42/50 [00:17<00:03,  2.31it/s]"
     ]
    },
    {
     "name": "stdout",
     "output_type": "stream",
     "text": [
      "Epoch 42/50, Train Loss: 1.4792, Val Loss: 1.4932, Train Accuracy: 0.4400, Validation Accuracy: 0.4120\n"
     ]
    },
    {
     "name": "stderr",
     "output_type": "stream",
     "text": [
      " 86%|████████▌ | 43/50 [00:18<00:03,  2.32it/s]"
     ]
    },
    {
     "name": "stdout",
     "output_type": "stream",
     "text": [
      "Epoch 43/50, Train Loss: 1.4718, Val Loss: 1.4930, Train Accuracy: 0.4400, Validation Accuracy: 0.4120\n"
     ]
    },
    {
     "name": "stderr",
     "output_type": "stream",
     "text": [
      " 88%|████████▊ | 44/50 [00:18<00:02,  2.31it/s]"
     ]
    },
    {
     "name": "stdout",
     "output_type": "stream",
     "text": [
      "Epoch 44/50, Train Loss: 1.4761, Val Loss: 1.4924, Train Accuracy: 0.4400, Validation Accuracy: 0.4120\n"
     ]
    },
    {
     "name": "stderr",
     "output_type": "stream",
     "text": [
      " 90%|█████████ | 45/50 [00:18<00:02,  2.32it/s]"
     ]
    },
    {
     "name": "stdout",
     "output_type": "stream",
     "text": [
      "Epoch 45/50, Train Loss: 1.4755, Val Loss: 1.4940, Train Accuracy: 0.4400, Validation Accuracy: 0.4120\n"
     ]
    },
    {
     "name": "stderr",
     "output_type": "stream",
     "text": [
      " 92%|█████████▏| 46/50 [00:19<00:01,  2.27it/s]"
     ]
    },
    {
     "name": "stdout",
     "output_type": "stream",
     "text": [
      "Epoch 46/50, Train Loss: 1.4766, Val Loss: 1.4922, Train Accuracy: 0.4400, Validation Accuracy: 0.4120\n"
     ]
    },
    {
     "name": "stderr",
     "output_type": "stream",
     "text": [
      " 94%|█████████▍| 47/50 [00:19<00:01,  2.24it/s]"
     ]
    },
    {
     "name": "stdout",
     "output_type": "stream",
     "text": [
      "Epoch 47/50, Train Loss: 1.4747, Val Loss: 1.4928, Train Accuracy: 0.4400, Validation Accuracy: 0.4120\n"
     ]
    },
    {
     "name": "stderr",
     "output_type": "stream",
     "text": [
      " 96%|█████████▌| 48/50 [00:20<00:00,  2.26it/s]"
     ]
    },
    {
     "name": "stdout",
     "output_type": "stream",
     "text": [
      "Epoch 48/50, Train Loss: 1.4745, Val Loss: 1.4934, Train Accuracy: 0.4400, Validation Accuracy: 0.4120\n"
     ]
    },
    {
     "name": "stderr",
     "output_type": "stream",
     "text": [
      " 98%|█████████▊| 49/50 [00:20<00:00,  2.28it/s]"
     ]
    },
    {
     "name": "stdout",
     "output_type": "stream",
     "text": [
      "Epoch 49/50, Train Loss: 1.4795, Val Loss: 1.4932, Train Accuracy: 0.4400, Validation Accuracy: 0.4120\n"
     ]
    },
    {
     "name": "stderr",
     "output_type": "stream",
     "text": [
      "100%|██████████| 50/50 [00:21<00:00,  2.36it/s]"
     ]
    },
    {
     "name": "stdout",
     "output_type": "stream",
     "text": [
      "Epoch 50/50, Train Loss: 1.4754, Val Loss: 1.4930, Train Accuracy: 0.4400, Validation Accuracy: 0.4120\n",
      "Time taken for the model to run finish: 21.16 seconds\n",
      "Time taken to run finish the test: 0.01 seconds\n",
      "Test Accuracy: 0.4060\n"
     ]
    },
    {
     "name": "stderr",
     "output_type": "stream",
     "text": [
      "\n",
      "  2%|▏         | 1/50 [00:00<00:23,  2.12it/s]"
     ]
    },
    {
     "name": "stdout",
     "output_type": "stream",
     "text": [
      "Epoch 1/50, Train Loss: 1.4877, Val Loss: 1.4920, Train Accuracy: 0.4267, Validation Accuracy: 0.4120\n"
     ]
    },
    {
     "name": "stderr",
     "output_type": "stream",
     "text": [
      "  4%|▍         | 2/50 [00:00<00:21,  2.26it/s]"
     ]
    },
    {
     "name": "stdout",
     "output_type": "stream",
     "text": [
      "Epoch 2/50, Train Loss: 1.4786, Val Loss: 1.4908, Train Accuracy: 0.4400, Validation Accuracy: 0.4120\n"
     ]
    },
    {
     "name": "stderr",
     "output_type": "stream",
     "text": [
      "  6%|▌         | 3/50 [00:01<00:20,  2.33it/s]"
     ]
    },
    {
     "name": "stdout",
     "output_type": "stream",
     "text": [
      "Epoch 3/50, Train Loss: 1.4738, Val Loss: 1.4952, Train Accuracy: 0.4400, Validation Accuracy: 0.4120\n"
     ]
    },
    {
     "name": "stderr",
     "output_type": "stream",
     "text": [
      "  8%|▊         | 4/50 [00:01<00:19,  2.33it/s]"
     ]
    },
    {
     "name": "stdout",
     "output_type": "stream",
     "text": [
      "Epoch 4/50, Train Loss: 1.4754, Val Loss: 1.4926, Train Accuracy: 0.4400, Validation Accuracy: 0.4120\n"
     ]
    },
    {
     "name": "stderr",
     "output_type": "stream",
     "text": [
      " 10%|█         | 5/50 [00:02<00:19,  2.28it/s]"
     ]
    },
    {
     "name": "stdout",
     "output_type": "stream",
     "text": [
      "Epoch 5/50, Train Loss: 1.4754, Val Loss: 1.4924, Train Accuracy: 0.4400, Validation Accuracy: 0.4120\n"
     ]
    },
    {
     "name": "stderr",
     "output_type": "stream",
     "text": [
      " 12%|█▏        | 6/50 [00:02<00:18,  2.33it/s]"
     ]
    },
    {
     "name": "stdout",
     "output_type": "stream",
     "text": [
      "Epoch 6/50, Train Loss: 1.4714, Val Loss: 1.4936, Train Accuracy: 0.4400, Validation Accuracy: 0.4120\n"
     ]
    },
    {
     "name": "stderr",
     "output_type": "stream",
     "text": [
      " 14%|█▍        | 7/50 [00:03<00:18,  2.33it/s]"
     ]
    },
    {
     "name": "stdout",
     "output_type": "stream",
     "text": [
      "Epoch 7/50, Train Loss: 1.4769, Val Loss: 1.4934, Train Accuracy: 0.4400, Validation Accuracy: 0.4120\n"
     ]
    },
    {
     "name": "stderr",
     "output_type": "stream",
     "text": [
      " 16%|█▌        | 8/50 [00:03<00:17,  2.36it/s]"
     ]
    },
    {
     "name": "stdout",
     "output_type": "stream",
     "text": [
      "Epoch 8/50, Train Loss: 1.4755, Val Loss: 1.4936, Train Accuracy: 0.4400, Validation Accuracy: 0.4120\n"
     ]
    },
    {
     "name": "stderr",
     "output_type": "stream",
     "text": [
      " 18%|█▊        | 9/50 [00:03<00:17,  2.38it/s]"
     ]
    },
    {
     "name": "stdout",
     "output_type": "stream",
     "text": [
      "Epoch 9/50, Train Loss: 1.4745, Val Loss: 1.4918, Train Accuracy: 0.4400, Validation Accuracy: 0.4120\n"
     ]
    },
    {
     "name": "stderr",
     "output_type": "stream",
     "text": [
      " 20%|██        | 10/50 [00:04<00:16,  2.38it/s]"
     ]
    },
    {
     "name": "stdout",
     "output_type": "stream",
     "text": [
      "Epoch 10/50, Train Loss: 1.4750, Val Loss: 1.4932, Train Accuracy: 0.4400, Validation Accuracy: 0.4120\n"
     ]
    },
    {
     "name": "stderr",
     "output_type": "stream",
     "text": [
      " 22%|██▏       | 11/50 [00:04<00:16,  2.38it/s]"
     ]
    },
    {
     "name": "stdout",
     "output_type": "stream",
     "text": [
      "Epoch 11/50, Train Loss: 1.4758, Val Loss: 1.4948, Train Accuracy: 0.4400, Validation Accuracy: 0.4120\n"
     ]
    },
    {
     "name": "stderr",
     "output_type": "stream",
     "text": [
      " 24%|██▍       | 12/50 [00:05<00:16,  2.37it/s]"
     ]
    },
    {
     "name": "stdout",
     "output_type": "stream",
     "text": [
      "Epoch 12/50, Train Loss: 1.4738, Val Loss: 1.4934, Train Accuracy: 0.4400, Validation Accuracy: 0.4120\n"
     ]
    },
    {
     "name": "stderr",
     "output_type": "stream",
     "text": [
      " 26%|██▌       | 13/50 [00:05<00:15,  2.39it/s]"
     ]
    },
    {
     "name": "stdout",
     "output_type": "stream",
     "text": [
      "Epoch 13/50, Train Loss: 1.4752, Val Loss: 1.4924, Train Accuracy: 0.4400, Validation Accuracy: 0.4120\n"
     ]
    },
    {
     "name": "stderr",
     "output_type": "stream",
     "text": [
      " 28%|██▊       | 14/50 [00:05<00:14,  2.41it/s]"
     ]
    },
    {
     "name": "stdout",
     "output_type": "stream",
     "text": [
      "Epoch 14/50, Train Loss: 1.4789, Val Loss: 1.4910, Train Accuracy: 0.4400, Validation Accuracy: 0.4120\n"
     ]
    },
    {
     "name": "stderr",
     "output_type": "stream",
     "text": [
      " 30%|███       | 15/50 [00:06<00:15,  2.31it/s]"
     ]
    },
    {
     "name": "stdout",
     "output_type": "stream",
     "text": [
      "Epoch 15/50, Train Loss: 1.4756, Val Loss: 1.4920, Train Accuracy: 0.4400, Validation Accuracy: 0.4120\n"
     ]
    },
    {
     "name": "stderr",
     "output_type": "stream",
     "text": [
      " 32%|███▏      | 16/50 [00:06<00:14,  2.34it/s]"
     ]
    },
    {
     "name": "stdout",
     "output_type": "stream",
     "text": [
      "Epoch 16/50, Train Loss: 1.4738, Val Loss: 1.4928, Train Accuracy: 0.4400, Validation Accuracy: 0.4120\n"
     ]
    },
    {
     "name": "stderr",
     "output_type": "stream",
     "text": [
      " 34%|███▍      | 17/50 [00:07<00:13,  2.36it/s]"
     ]
    },
    {
     "name": "stdout",
     "output_type": "stream",
     "text": [
      "Epoch 17/50, Train Loss: 1.4779, Val Loss: 1.4938, Train Accuracy: 0.4400, Validation Accuracy: 0.4120\n"
     ]
    },
    {
     "name": "stderr",
     "output_type": "stream",
     "text": [
      " 36%|███▌      | 18/50 [00:07<00:13,  2.35it/s]"
     ]
    },
    {
     "name": "stdout",
     "output_type": "stream",
     "text": [
      "Epoch 18/50, Train Loss: 1.4757, Val Loss: 1.4930, Train Accuracy: 0.4400, Validation Accuracy: 0.4120\n"
     ]
    },
    {
     "name": "stderr",
     "output_type": "stream",
     "text": [
      " 38%|███▊      | 19/50 [00:08<00:13,  2.36it/s]"
     ]
    },
    {
     "name": "stdout",
     "output_type": "stream",
     "text": [
      "Epoch 19/50, Train Loss: 1.4808, Val Loss: 1.4908, Train Accuracy: 0.4400, Validation Accuracy: 0.4120\n"
     ]
    },
    {
     "name": "stderr",
     "output_type": "stream",
     "text": [
      " 40%|████      | 20/50 [00:08<00:12,  2.36it/s]"
     ]
    },
    {
     "name": "stdout",
     "output_type": "stream",
     "text": [
      "Epoch 20/50, Train Loss: 1.4796, Val Loss: 1.4928, Train Accuracy: 0.4400, Validation Accuracy: 0.4120\n"
     ]
    },
    {
     "name": "stderr",
     "output_type": "stream",
     "text": [
      " 42%|████▏     | 21/50 [00:08<00:12,  2.38it/s]"
     ]
    },
    {
     "name": "stdout",
     "output_type": "stream",
     "text": [
      "Epoch 21/50, Train Loss: 1.4765, Val Loss: 1.4940, Train Accuracy: 0.4400, Validation Accuracy: 0.4120\n"
     ]
    },
    {
     "name": "stderr",
     "output_type": "stream",
     "text": [
      " 44%|████▍     | 22/50 [00:09<00:11,  2.36it/s]"
     ]
    },
    {
     "name": "stdout",
     "output_type": "stream",
     "text": [
      "Epoch 22/50, Train Loss: 1.4775, Val Loss: 1.4924, Train Accuracy: 0.4400, Validation Accuracy: 0.4120\n"
     ]
    },
    {
     "name": "stderr",
     "output_type": "stream",
     "text": [
      " 46%|████▌     | 23/50 [00:09<00:11,  2.35it/s]"
     ]
    },
    {
     "name": "stdout",
     "output_type": "stream",
     "text": [
      "Epoch 23/50, Train Loss: 1.4772, Val Loss: 1.4920, Train Accuracy: 0.4400, Validation Accuracy: 0.4120\n"
     ]
    },
    {
     "name": "stderr",
     "output_type": "stream",
     "text": [
      " 48%|████▊     | 24/50 [00:10<00:11,  2.34it/s]"
     ]
    },
    {
     "name": "stdout",
     "output_type": "stream",
     "text": [
      "Epoch 24/50, Train Loss: 1.4742, Val Loss: 1.4926, Train Accuracy: 0.4400, Validation Accuracy: 0.4120\n"
     ]
    },
    {
     "name": "stderr",
     "output_type": "stream",
     "text": [
      " 50%|█████     | 25/50 [00:10<00:10,  2.31it/s]"
     ]
    },
    {
     "name": "stdout",
     "output_type": "stream",
     "text": [
      "Epoch 25/50, Train Loss: 1.4744, Val Loss: 1.4918, Train Accuracy: 0.4400, Validation Accuracy: 0.4120\n"
     ]
    },
    {
     "name": "stderr",
     "output_type": "stream",
     "text": [
      " 52%|█████▏    | 26/50 [00:11<00:10,  2.32it/s]"
     ]
    },
    {
     "name": "stdout",
     "output_type": "stream",
     "text": [
      "Epoch 26/50, Train Loss: 1.4727, Val Loss: 1.4930, Train Accuracy: 0.4400, Validation Accuracy: 0.4120\n"
     ]
    },
    {
     "name": "stderr",
     "output_type": "stream",
     "text": [
      " 54%|█████▍    | 27/50 [00:11<00:09,  2.33it/s]"
     ]
    },
    {
     "name": "stdout",
     "output_type": "stream",
     "text": [
      "Epoch 27/50, Train Loss: 1.4749, Val Loss: 1.4926, Train Accuracy: 0.4400, Validation Accuracy: 0.4120\n"
     ]
    },
    {
     "name": "stderr",
     "output_type": "stream",
     "text": [
      " 56%|█████▌    | 28/50 [00:11<00:09,  2.33it/s]"
     ]
    },
    {
     "name": "stdout",
     "output_type": "stream",
     "text": [
      "Epoch 28/50, Train Loss: 1.4754, Val Loss: 1.4924, Train Accuracy: 0.4400, Validation Accuracy: 0.4120\n"
     ]
    },
    {
     "name": "stderr",
     "output_type": "stream",
     "text": [
      " 58%|█████▊    | 29/50 [00:12<00:09,  2.30it/s]"
     ]
    },
    {
     "name": "stdout",
     "output_type": "stream",
     "text": [
      "Epoch 29/50, Train Loss: 1.4759, Val Loss: 1.4930, Train Accuracy: 0.4400, Validation Accuracy: 0.4120\n"
     ]
    },
    {
     "name": "stderr",
     "output_type": "stream",
     "text": [
      " 60%|██████    | 30/50 [00:12<00:08,  2.28it/s]"
     ]
    },
    {
     "name": "stdout",
     "output_type": "stream",
     "text": [
      "Epoch 30/50, Train Loss: 1.4751, Val Loss: 1.4906, Train Accuracy: 0.4400, Validation Accuracy: 0.4120\n"
     ]
    },
    {
     "name": "stderr",
     "output_type": "stream",
     "text": [
      " 62%|██████▏   | 31/50 [00:13<00:08,  2.27it/s]"
     ]
    },
    {
     "name": "stdout",
     "output_type": "stream",
     "text": [
      "Epoch 31/50, Train Loss: 1.4741, Val Loss: 1.4920, Train Accuracy: 0.4400, Validation Accuracy: 0.4120\n"
     ]
    },
    {
     "name": "stderr",
     "output_type": "stream",
     "text": [
      " 64%|██████▍   | 32/50 [00:13<00:07,  2.30it/s]"
     ]
    },
    {
     "name": "stdout",
     "output_type": "stream",
     "text": [
      "Epoch 32/50, Train Loss: 1.4751, Val Loss: 1.4942, Train Accuracy: 0.4400, Validation Accuracy: 0.4120\n"
     ]
    },
    {
     "name": "stderr",
     "output_type": "stream",
     "text": [
      " 66%|██████▌   | 33/50 [00:14<00:07,  2.29it/s]"
     ]
    },
    {
     "name": "stdout",
     "output_type": "stream",
     "text": [
      "Epoch 33/50, Train Loss: 1.4763, Val Loss: 1.4928, Train Accuracy: 0.4400, Validation Accuracy: 0.4120\n"
     ]
    },
    {
     "name": "stderr",
     "output_type": "stream",
     "text": [
      " 68%|██████▊   | 34/50 [00:14<00:06,  2.32it/s]"
     ]
    },
    {
     "name": "stdout",
     "output_type": "stream",
     "text": [
      "Epoch 34/50, Train Loss: 1.4732, Val Loss: 1.4926, Train Accuracy: 0.4400, Validation Accuracy: 0.4120\n"
     ]
    },
    {
     "name": "stderr",
     "output_type": "stream",
     "text": [
      " 70%|███████   | 35/50 [00:15<00:06,  2.28it/s]"
     ]
    },
    {
     "name": "stdout",
     "output_type": "stream",
     "text": [
      "Epoch 35/50, Train Loss: 1.4785, Val Loss: 1.4926, Train Accuracy: 0.4400, Validation Accuracy: 0.4120\n"
     ]
    },
    {
     "name": "stderr",
     "output_type": "stream",
     "text": [
      " 72%|███████▏  | 36/50 [00:15<00:06,  2.29it/s]"
     ]
    },
    {
     "name": "stdout",
     "output_type": "stream",
     "text": [
      "Epoch 36/50, Train Loss: 1.4749, Val Loss: 1.4938, Train Accuracy: 0.4400, Validation Accuracy: 0.4120\n"
     ]
    },
    {
     "name": "stderr",
     "output_type": "stream",
     "text": [
      " 74%|███████▍  | 37/50 [00:15<00:05,  2.31it/s]"
     ]
    },
    {
     "name": "stdout",
     "output_type": "stream",
     "text": [
      "Epoch 37/50, Train Loss: 1.4761, Val Loss: 1.4930, Train Accuracy: 0.4400, Validation Accuracy: 0.4120\n"
     ]
    },
    {
     "name": "stderr",
     "output_type": "stream",
     "text": [
      " 76%|███████▌  | 38/50 [00:16<00:05,  2.32it/s]"
     ]
    },
    {
     "name": "stdout",
     "output_type": "stream",
     "text": [
      "Epoch 38/50, Train Loss: 1.4756, Val Loss: 1.4916, Train Accuracy: 0.4400, Validation Accuracy: 0.4120\n"
     ]
    },
    {
     "name": "stderr",
     "output_type": "stream",
     "text": [
      " 78%|███████▊  | 39/50 [00:16<00:04,  2.33it/s]"
     ]
    },
    {
     "name": "stdout",
     "output_type": "stream",
     "text": [
      "Epoch 39/50, Train Loss: 1.4771, Val Loss: 1.4938, Train Accuracy: 0.4400, Validation Accuracy: 0.4120\n"
     ]
    },
    {
     "name": "stderr",
     "output_type": "stream",
     "text": [
      " 80%|████████  | 40/50 [00:17<00:04,  2.33it/s]"
     ]
    },
    {
     "name": "stdout",
     "output_type": "stream",
     "text": [
      "Epoch 40/50, Train Loss: 1.4784, Val Loss: 1.4922, Train Accuracy: 0.4400, Validation Accuracy: 0.4120\n"
     ]
    },
    {
     "name": "stderr",
     "output_type": "stream",
     "text": [
      " 82%|████████▏ | 41/50 [00:17<00:03,  2.31it/s]"
     ]
    },
    {
     "name": "stdout",
     "output_type": "stream",
     "text": [
      "Epoch 41/50, Train Loss: 1.4746, Val Loss: 1.4932, Train Accuracy: 0.4400, Validation Accuracy: 0.4120\n"
     ]
    },
    {
     "name": "stderr",
     "output_type": "stream",
     "text": [
      " 84%|████████▍ | 42/50 [00:18<00:03,  2.28it/s]"
     ]
    },
    {
     "name": "stdout",
     "output_type": "stream",
     "text": [
      "Epoch 42/50, Train Loss: 1.4750, Val Loss: 1.4932, Train Accuracy: 0.4400, Validation Accuracy: 0.4120\n"
     ]
    },
    {
     "name": "stderr",
     "output_type": "stream",
     "text": [
      " 86%|████████▌ | 43/50 [00:18<00:03,  2.26it/s]"
     ]
    },
    {
     "name": "stdout",
     "output_type": "stream",
     "text": [
      "Epoch 43/50, Train Loss: 1.4750, Val Loss: 1.4930, Train Accuracy: 0.4400, Validation Accuracy: 0.4120\n"
     ]
    },
    {
     "name": "stderr",
     "output_type": "stream",
     "text": [
      " 88%|████████▊ | 44/50 [00:18<00:02,  2.28it/s]"
     ]
    },
    {
     "name": "stdout",
     "output_type": "stream",
     "text": [
      "Epoch 44/50, Train Loss: 1.4791, Val Loss: 1.4924, Train Accuracy: 0.4400, Validation Accuracy: 0.4120\n"
     ]
    },
    {
     "name": "stderr",
     "output_type": "stream",
     "text": [
      " 90%|█████████ | 45/50 [00:19<00:02,  2.29it/s]"
     ]
    },
    {
     "name": "stdout",
     "output_type": "stream",
     "text": [
      "Epoch 45/50, Train Loss: 1.4752, Val Loss: 1.4940, Train Accuracy: 0.4400, Validation Accuracy: 0.4120\n"
     ]
    },
    {
     "name": "stderr",
     "output_type": "stream",
     "text": [
      " 92%|█████████▏| 46/50 [00:19<00:01,  2.28it/s]"
     ]
    },
    {
     "name": "stdout",
     "output_type": "stream",
     "text": [
      "Epoch 46/50, Train Loss: 1.4765, Val Loss: 1.4922, Train Accuracy: 0.4400, Validation Accuracy: 0.4120\n"
     ]
    },
    {
     "name": "stderr",
     "output_type": "stream",
     "text": [
      " 94%|█████████▍| 47/50 [00:20<00:01,  2.29it/s]"
     ]
    },
    {
     "name": "stdout",
     "output_type": "stream",
     "text": [
      "Epoch 47/50, Train Loss: 1.4774, Val Loss: 1.4928, Train Accuracy: 0.4400, Validation Accuracy: 0.4120\n"
     ]
    },
    {
     "name": "stderr",
     "output_type": "stream",
     "text": [
      " 96%|█████████▌| 48/50 [00:20<00:00,  2.29it/s]"
     ]
    },
    {
     "name": "stdout",
     "output_type": "stream",
     "text": [
      "Epoch 48/50, Train Loss: 1.4768, Val Loss: 1.4934, Train Accuracy: 0.4400, Validation Accuracy: 0.4120\n"
     ]
    },
    {
     "name": "stderr",
     "output_type": "stream",
     "text": [
      " 98%|█████████▊| 49/50 [00:21<00:00,  2.02it/s]"
     ]
    },
    {
     "name": "stdout",
     "output_type": "stream",
     "text": [
      "Epoch 49/50, Train Loss: 1.4734, Val Loss: 1.4932, Train Accuracy: 0.4400, Validation Accuracy: 0.4120\n"
     ]
    },
    {
     "name": "stderr",
     "output_type": "stream",
     "text": [
      "100%|██████████| 50/50 [00:21<00:00,  2.29it/s]"
     ]
    },
    {
     "name": "stdout",
     "output_type": "stream",
     "text": [
      "Epoch 50/50, Train Loss: 1.4766, Val Loss: 1.4930, Train Accuracy: 0.4400, Validation Accuracy: 0.4120\n",
      "Time taken for the model to run finish: 21.82 seconds\n",
      "Time taken to run finish the test: 0.02 seconds\n",
      "Test Accuracy: 0.4060\n"
     ]
    },
    {
     "name": "stderr",
     "output_type": "stream",
     "text": [
      "\n",
      "  2%|▏         | 1/50 [00:00<00:29,  1.64it/s]"
     ]
    },
    {
     "name": "stdout",
     "output_type": "stream",
     "text": [
      "Epoch 1/50, Train Loss: 1.4815, Val Loss: 1.4920, Train Accuracy: 0.4237, Validation Accuracy: 0.4120\n"
     ]
    },
    {
     "name": "stderr",
     "output_type": "stream",
     "text": [
      "  4%|▍         | 2/50 [00:01<00:27,  1.77it/s]"
     ]
    },
    {
     "name": "stdout",
     "output_type": "stream",
     "text": [
      "Epoch 2/50, Train Loss: 1.4765, Val Loss: 1.4908, Train Accuracy: 0.4400, Validation Accuracy: 0.4120\n"
     ]
    },
    {
     "name": "stderr",
     "output_type": "stream",
     "text": [
      "  6%|▌         | 3/50 [00:01<00:25,  1.87it/s]"
     ]
    },
    {
     "name": "stdout",
     "output_type": "stream",
     "text": [
      "Epoch 3/50, Train Loss: 1.4756, Val Loss: 1.4952, Train Accuracy: 0.4400, Validation Accuracy: 0.4120\n"
     ]
    },
    {
     "name": "stderr",
     "output_type": "stream",
     "text": [
      "  8%|▊         | 4/50 [00:02<00:28,  1.62it/s]"
     ]
    },
    {
     "name": "stdout",
     "output_type": "stream",
     "text": [
      "Epoch 4/50, Train Loss: 1.4787, Val Loss: 1.4926, Train Accuracy: 0.4400, Validation Accuracy: 0.4120\n"
     ]
    },
    {
     "name": "stderr",
     "output_type": "stream",
     "text": [
      " 10%|█         | 5/50 [00:02<00:24,  1.81it/s]"
     ]
    },
    {
     "name": "stdout",
     "output_type": "stream",
     "text": [
      "Epoch 5/50, Train Loss: 1.4799, Val Loss: 1.4924, Train Accuracy: 0.4400, Validation Accuracy: 0.4120\n"
     ]
    },
    {
     "name": "stderr",
     "output_type": "stream",
     "text": [
      " 12%|█▏        | 6/50 [00:03<00:29,  1.50it/s]"
     ]
    },
    {
     "name": "stdout",
     "output_type": "stream",
     "text": [
      "Epoch 6/50, Train Loss: 1.4760, Val Loss: 1.4936, Train Accuracy: 0.4400, Validation Accuracy: 0.4120\n"
     ]
    },
    {
     "name": "stderr",
     "output_type": "stream",
     "text": [
      " 14%|█▍        | 7/50 [00:04<00:26,  1.65it/s]"
     ]
    },
    {
     "name": "stdout",
     "output_type": "stream",
     "text": [
      "Epoch 7/50, Train Loss: 1.4767, Val Loss: 1.4934, Train Accuracy: 0.4400, Validation Accuracy: 0.4120\n"
     ]
    },
    {
     "name": "stderr",
     "output_type": "stream",
     "text": [
      " 16%|█▌        | 8/50 [00:04<00:24,  1.70it/s]"
     ]
    },
    {
     "name": "stdout",
     "output_type": "stream",
     "text": [
      "Epoch 8/50, Train Loss: 1.4753, Val Loss: 1.4936, Train Accuracy: 0.4400, Validation Accuracy: 0.4120\n"
     ]
    },
    {
     "name": "stderr",
     "output_type": "stream",
     "text": [
      " 18%|█▊        | 9/50 [00:05<00:25,  1.59it/s]"
     ]
    },
    {
     "name": "stdout",
     "output_type": "stream",
     "text": [
      "Epoch 9/50, Train Loss: 1.4757, Val Loss: 1.4918, Train Accuracy: 0.4400, Validation Accuracy: 0.4120\n"
     ]
    },
    {
     "name": "stderr",
     "output_type": "stream",
     "text": [
      " 20%|██        | 10/50 [00:06<00:24,  1.63it/s]"
     ]
    },
    {
     "name": "stdout",
     "output_type": "stream",
     "text": [
      "Epoch 10/50, Train Loss: 1.4757, Val Loss: 1.4932, Train Accuracy: 0.4400, Validation Accuracy: 0.4120\n"
     ]
    },
    {
     "name": "stderr",
     "output_type": "stream",
     "text": [
      " 22%|██▏       | 11/50 [00:06<00:23,  1.68it/s]"
     ]
    },
    {
     "name": "stdout",
     "output_type": "stream",
     "text": [
      "Epoch 11/50, Train Loss: 1.4778, Val Loss: 1.4948, Train Accuracy: 0.4400, Validation Accuracy: 0.4120\n"
     ]
    },
    {
     "name": "stderr",
     "output_type": "stream",
     "text": [
      " 24%|██▍       | 12/50 [00:07<00:22,  1.68it/s]"
     ]
    },
    {
     "name": "stdout",
     "output_type": "stream",
     "text": [
      "Epoch 12/50, Train Loss: 1.4745, Val Loss: 1.4934, Train Accuracy: 0.4400, Validation Accuracy: 0.4120\n"
     ]
    },
    {
     "name": "stderr",
     "output_type": "stream",
     "text": [
      " 26%|██▌       | 13/50 [00:07<00:21,  1.72it/s]"
     ]
    },
    {
     "name": "stdout",
     "output_type": "stream",
     "text": [
      "Epoch 13/50, Train Loss: 1.4798, Val Loss: 1.4924, Train Accuracy: 0.4400, Validation Accuracy: 0.4120\n"
     ]
    },
    {
     "name": "stderr",
     "output_type": "stream",
     "text": [
      " 28%|██▊       | 14/50 [00:08<00:23,  1.54it/s]"
     ]
    },
    {
     "name": "stdout",
     "output_type": "stream",
     "text": [
      "Epoch 14/50, Train Loss: 1.4775, Val Loss: 1.4910, Train Accuracy: 0.4400, Validation Accuracy: 0.4120\n"
     ]
    },
    {
     "name": "stderr",
     "output_type": "stream",
     "text": [
      " 30%|███       | 15/50 [00:08<00:20,  1.70it/s]"
     ]
    },
    {
     "name": "stdout",
     "output_type": "stream",
     "text": [
      "Epoch 15/50, Train Loss: 1.4775, Val Loss: 1.4920, Train Accuracy: 0.4400, Validation Accuracy: 0.4120\n"
     ]
    },
    {
     "name": "stderr",
     "output_type": "stream",
     "text": [
      " 32%|███▏      | 16/50 [00:09<00:19,  1.70it/s]"
     ]
    },
    {
     "name": "stdout",
     "output_type": "stream",
     "text": [
      "Epoch 16/50, Train Loss: 1.4779, Val Loss: 1.4928, Train Accuracy: 0.4400, Validation Accuracy: 0.4120\n"
     ]
    },
    {
     "name": "stderr",
     "output_type": "stream",
     "text": [
      " 34%|███▍      | 17/50 [00:10<00:17,  1.84it/s]"
     ]
    },
    {
     "name": "stdout",
     "output_type": "stream",
     "text": [
      "Epoch 17/50, Train Loss: 1.4733, Val Loss: 1.4938, Train Accuracy: 0.4400, Validation Accuracy: 0.4120\n"
     ]
    },
    {
     "name": "stderr",
     "output_type": "stream",
     "text": [
      " 36%|███▌      | 18/50 [00:10<00:16,  1.93it/s]"
     ]
    },
    {
     "name": "stdout",
     "output_type": "stream",
     "text": [
      "Epoch 18/50, Train Loss: 1.4743, Val Loss: 1.4930, Train Accuracy: 0.4400, Validation Accuracy: 0.4120\n"
     ]
    },
    {
     "name": "stderr",
     "output_type": "stream",
     "text": [
      " 38%|███▊      | 19/50 [00:10<00:15,  2.05it/s]"
     ]
    },
    {
     "name": "stdout",
     "output_type": "stream",
     "text": [
      "Epoch 19/50, Train Loss: 1.4734, Val Loss: 1.4908, Train Accuracy: 0.4400, Validation Accuracy: 0.4120\n"
     ]
    },
    {
     "name": "stderr",
     "output_type": "stream",
     "text": [
      " 40%|████      | 20/50 [00:11<00:14,  2.09it/s]"
     ]
    },
    {
     "name": "stdout",
     "output_type": "stream",
     "text": [
      "Epoch 20/50, Train Loss: 1.4730, Val Loss: 1.4928, Train Accuracy: 0.4400, Validation Accuracy: 0.4120\n"
     ]
    },
    {
     "name": "stderr",
     "output_type": "stream",
     "text": [
      " 42%|████▏     | 21/50 [00:11<00:14,  2.05it/s]"
     ]
    },
    {
     "name": "stdout",
     "output_type": "stream",
     "text": [
      "Epoch 21/50, Train Loss: 1.4767, Val Loss: 1.4940, Train Accuracy: 0.4400, Validation Accuracy: 0.4120\n"
     ]
    },
    {
     "name": "stderr",
     "output_type": "stream",
     "text": [
      " 44%|████▍     | 22/50 [00:12<00:13,  2.11it/s]"
     ]
    },
    {
     "name": "stdout",
     "output_type": "stream",
     "text": [
      "Epoch 22/50, Train Loss: 1.4762, Val Loss: 1.4924, Train Accuracy: 0.4400, Validation Accuracy: 0.4120\n"
     ]
    },
    {
     "name": "stderr",
     "output_type": "stream",
     "text": [
      " 46%|████▌     | 23/50 [00:12<00:14,  1.92it/s]"
     ]
    },
    {
     "name": "stdout",
     "output_type": "stream",
     "text": [
      "Epoch 23/50, Train Loss: 1.4753, Val Loss: 1.4920, Train Accuracy: 0.4400, Validation Accuracy: 0.4120\n"
     ]
    },
    {
     "name": "stderr",
     "output_type": "stream",
     "text": [
      " 48%|████▊     | 24/50 [00:13<00:12,  2.03it/s]"
     ]
    },
    {
     "name": "stdout",
     "output_type": "stream",
     "text": [
      "Epoch 24/50, Train Loss: 1.4751, Val Loss: 1.4926, Train Accuracy: 0.4400, Validation Accuracy: 0.4120\n"
     ]
    },
    {
     "name": "stderr",
     "output_type": "stream",
     "text": [
      " 50%|█████     | 25/50 [00:13<00:11,  2.11it/s]"
     ]
    },
    {
     "name": "stdout",
     "output_type": "stream",
     "text": [
      "Epoch 25/50, Train Loss: 1.4766, Val Loss: 1.4918, Train Accuracy: 0.4400, Validation Accuracy: 0.4120\n"
     ]
    },
    {
     "name": "stderr",
     "output_type": "stream",
     "text": [
      " 52%|█████▏    | 26/50 [00:14<00:11,  2.15it/s]"
     ]
    },
    {
     "name": "stdout",
     "output_type": "stream",
     "text": [
      "Epoch 26/50, Train Loss: 1.4774, Val Loss: 1.4930, Train Accuracy: 0.4400, Validation Accuracy: 0.4120\n"
     ]
    },
    {
     "name": "stderr",
     "output_type": "stream",
     "text": [
      " 54%|█████▍    | 27/50 [00:14<00:10,  2.17it/s]"
     ]
    },
    {
     "name": "stdout",
     "output_type": "stream",
     "text": [
      "Epoch 27/50, Train Loss: 1.4752, Val Loss: 1.4926, Train Accuracy: 0.4400, Validation Accuracy: 0.4120\n"
     ]
    },
    {
     "name": "stderr",
     "output_type": "stream",
     "text": [
      " 56%|█████▌    | 28/50 [00:15<00:10,  2.17it/s]"
     ]
    },
    {
     "name": "stdout",
     "output_type": "stream",
     "text": [
      "Epoch 28/50, Train Loss: 1.4781, Val Loss: 1.4924, Train Accuracy: 0.4400, Validation Accuracy: 0.4120\n"
     ]
    },
    {
     "name": "stderr",
     "output_type": "stream",
     "text": [
      " 58%|█████▊    | 29/50 [00:15<00:09,  2.16it/s]"
     ]
    },
    {
     "name": "stdout",
     "output_type": "stream",
     "text": [
      "Epoch 29/50, Train Loss: 1.4752, Val Loss: 1.4930, Train Accuracy: 0.4400, Validation Accuracy: 0.4120\n"
     ]
    },
    {
     "name": "stderr",
     "output_type": "stream",
     "text": [
      " 60%|██████    | 30/50 [00:16<00:09,  2.14it/s]"
     ]
    },
    {
     "name": "stdout",
     "output_type": "stream",
     "text": [
      "Epoch 30/50, Train Loss: 1.4783, Val Loss: 1.4906, Train Accuracy: 0.4400, Validation Accuracy: 0.4120\n"
     ]
    },
    {
     "name": "stderr",
     "output_type": "stream",
     "text": [
      " 62%|██████▏   | 31/50 [00:16<00:08,  2.17it/s]"
     ]
    },
    {
     "name": "stdout",
     "output_type": "stream",
     "text": [
      "Epoch 31/50, Train Loss: 1.4758, Val Loss: 1.4920, Train Accuracy: 0.4400, Validation Accuracy: 0.4120\n"
     ]
    },
    {
     "name": "stderr",
     "output_type": "stream",
     "text": [
      " 64%|██████▍   | 32/50 [00:16<00:08,  2.19it/s]"
     ]
    },
    {
     "name": "stdout",
     "output_type": "stream",
     "text": [
      "Epoch 32/50, Train Loss: 1.4770, Val Loss: 1.4942, Train Accuracy: 0.4400, Validation Accuracy: 0.4120\n"
     ]
    },
    {
     "name": "stderr",
     "output_type": "stream",
     "text": [
      " 66%|██████▌   | 33/50 [00:17<00:07,  2.23it/s]"
     ]
    },
    {
     "name": "stdout",
     "output_type": "stream",
     "text": [
      "Epoch 33/50, Train Loss: 1.4736, Val Loss: 1.4928, Train Accuracy: 0.4400, Validation Accuracy: 0.4120\n"
     ]
    },
    {
     "name": "stderr",
     "output_type": "stream",
     "text": [
      " 68%|██████▊   | 34/50 [00:17<00:07,  2.20it/s]"
     ]
    },
    {
     "name": "stdout",
     "output_type": "stream",
     "text": [
      "Epoch 34/50, Train Loss: 1.4761, Val Loss: 1.4926, Train Accuracy: 0.4400, Validation Accuracy: 0.4120\n"
     ]
    },
    {
     "name": "stderr",
     "output_type": "stream",
     "text": [
      " 70%|███████   | 35/50 [00:18<00:06,  2.24it/s]"
     ]
    },
    {
     "name": "stdout",
     "output_type": "stream",
     "text": [
      "Epoch 35/50, Train Loss: 1.4752, Val Loss: 1.4926, Train Accuracy: 0.4400, Validation Accuracy: 0.4120\n"
     ]
    },
    {
     "name": "stderr",
     "output_type": "stream",
     "text": [
      " 72%|███████▏  | 36/50 [00:18<00:06,  2.25it/s]"
     ]
    },
    {
     "name": "stdout",
     "output_type": "stream",
     "text": [
      "Epoch 36/50, Train Loss: 1.4741, Val Loss: 1.4938, Train Accuracy: 0.4400, Validation Accuracy: 0.4120\n"
     ]
    },
    {
     "name": "stderr",
     "output_type": "stream",
     "text": [
      " 74%|███████▍  | 37/50 [00:19<00:05,  2.23it/s]"
     ]
    },
    {
     "name": "stdout",
     "output_type": "stream",
     "text": [
      "Epoch 37/50, Train Loss: 1.4744, Val Loss: 1.4930, Train Accuracy: 0.4400, Validation Accuracy: 0.4120\n"
     ]
    },
    {
     "name": "stderr",
     "output_type": "stream",
     "text": [
      " 76%|███████▌  | 38/50 [00:19<00:05,  2.26it/s]"
     ]
    },
    {
     "name": "stdout",
     "output_type": "stream",
     "text": [
      "Epoch 38/50, Train Loss: 1.4763, Val Loss: 1.4916, Train Accuracy: 0.4400, Validation Accuracy: 0.4120\n"
     ]
    },
    {
     "name": "stderr",
     "output_type": "stream",
     "text": [
      " 78%|███████▊  | 39/50 [00:20<00:04,  2.28it/s]"
     ]
    },
    {
     "name": "stdout",
     "output_type": "stream",
     "text": [
      "Epoch 39/50, Train Loss: 1.4776, Val Loss: 1.4938, Train Accuracy: 0.4400, Validation Accuracy: 0.4120\n"
     ]
    },
    {
     "name": "stderr",
     "output_type": "stream",
     "text": [
      " 80%|████████  | 40/50 [00:20<00:04,  2.29it/s]"
     ]
    },
    {
     "name": "stdout",
     "output_type": "stream",
     "text": [
      "Epoch 40/50, Train Loss: 1.4787, Val Loss: 1.4922, Train Accuracy: 0.4400, Validation Accuracy: 0.4120\n"
     ]
    },
    {
     "name": "stderr",
     "output_type": "stream",
     "text": [
      " 82%|████████▏ | 41/50 [00:20<00:03,  2.31it/s]"
     ]
    },
    {
     "name": "stdout",
     "output_type": "stream",
     "text": [
      "Epoch 41/50, Train Loss: 1.4763, Val Loss: 1.4932, Train Accuracy: 0.4400, Validation Accuracy: 0.4120\n"
     ]
    },
    {
     "name": "stderr",
     "output_type": "stream",
     "text": [
      " 84%|████████▍ | 42/50 [00:21<00:03,  2.27it/s]"
     ]
    },
    {
     "name": "stdout",
     "output_type": "stream",
     "text": [
      "Epoch 42/50, Train Loss: 1.4762, Val Loss: 1.4932, Train Accuracy: 0.4400, Validation Accuracy: 0.4120\n"
     ]
    },
    {
     "name": "stderr",
     "output_type": "stream",
     "text": [
      " 86%|████████▌ | 43/50 [00:21<00:03,  2.26it/s]"
     ]
    },
    {
     "name": "stdout",
     "output_type": "stream",
     "text": [
      "Epoch 43/50, Train Loss: 1.4738, Val Loss: 1.4930, Train Accuracy: 0.4400, Validation Accuracy: 0.4120\n"
     ]
    },
    {
     "name": "stderr",
     "output_type": "stream",
     "text": [
      " 88%|████████▊ | 44/50 [00:22<00:02,  2.28it/s]"
     ]
    },
    {
     "name": "stdout",
     "output_type": "stream",
     "text": [
      "Epoch 44/50, Train Loss: 1.4775, Val Loss: 1.4924, Train Accuracy: 0.4400, Validation Accuracy: 0.4120\n"
     ]
    },
    {
     "name": "stderr",
     "output_type": "stream",
     "text": [
      " 90%|█████████ | 45/50 [00:22<00:02,  2.30it/s]"
     ]
    },
    {
     "name": "stdout",
     "output_type": "stream",
     "text": [
      "Epoch 45/50, Train Loss: 1.4768, Val Loss: 1.4940, Train Accuracy: 0.4400, Validation Accuracy: 0.4120\n"
     ]
    },
    {
     "name": "stderr",
     "output_type": "stream",
     "text": [
      " 92%|█████████▏| 46/50 [00:23<00:01,  2.28it/s]"
     ]
    },
    {
     "name": "stdout",
     "output_type": "stream",
     "text": [
      "Epoch 46/50, Train Loss: 1.4755, Val Loss: 1.4922, Train Accuracy: 0.4400, Validation Accuracy: 0.4120\n"
     ]
    },
    {
     "name": "stderr",
     "output_type": "stream",
     "text": [
      " 94%|█████████▍| 47/50 [00:23<00:01,  2.27it/s]"
     ]
    },
    {
     "name": "stdout",
     "output_type": "stream",
     "text": [
      "Epoch 47/50, Train Loss: 1.4770, Val Loss: 1.4928, Train Accuracy: 0.4400, Validation Accuracy: 0.4120\n"
     ]
    },
    {
     "name": "stderr",
     "output_type": "stream",
     "text": [
      " 96%|█████████▌| 48/50 [00:24<00:00,  2.26it/s]"
     ]
    },
    {
     "name": "stdout",
     "output_type": "stream",
     "text": [
      "Epoch 48/50, Train Loss: 1.4775, Val Loss: 1.4934, Train Accuracy: 0.4400, Validation Accuracy: 0.4120\n"
     ]
    },
    {
     "name": "stderr",
     "output_type": "stream",
     "text": [
      " 98%|█████████▊| 49/50 [00:24<00:00,  1.97it/s]"
     ]
    },
    {
     "name": "stdout",
     "output_type": "stream",
     "text": [
      "Epoch 49/50, Train Loss: 1.4746, Val Loss: 1.4932, Train Accuracy: 0.4400, Validation Accuracy: 0.4120\n"
     ]
    },
    {
     "name": "stderr",
     "output_type": "stream",
     "text": [
      "100%|██████████| 50/50 [00:25<00:00,  1.99it/s]"
     ]
    },
    {
     "name": "stdout",
     "output_type": "stream",
     "text": [
      "Epoch 50/50, Train Loss: 1.4754, Val Loss: 1.4930, Train Accuracy: 0.4400, Validation Accuracy: 0.4120\n",
      "Time taken for the model to run finish: 25.16 seconds\n",
      "Time taken to run finish the test: 0.01 seconds\n",
      "Test Accuracy: 0.4060\n"
     ]
    },
    {
     "name": "stderr",
     "output_type": "stream",
     "text": [
      "\n",
      "  2%|▏         | 1/50 [00:00<00:22,  2.16it/s]"
     ]
    },
    {
     "name": "stdout",
     "output_type": "stream",
     "text": [
      "Epoch 1/50, Train Loss: 1.4880, Val Loss: 1.4920, Train Accuracy: 0.4241, Validation Accuracy: 0.4120\n"
     ]
    },
    {
     "name": "stderr",
     "output_type": "stream",
     "text": [
      "  4%|▍         | 2/50 [00:00<00:21,  2.27it/s]"
     ]
    },
    {
     "name": "stdout",
     "output_type": "stream",
     "text": [
      "Epoch 2/50, Train Loss: 1.4757, Val Loss: 1.4908, Train Accuracy: 0.4400, Validation Accuracy: 0.4120\n"
     ]
    },
    {
     "name": "stderr",
     "output_type": "stream",
     "text": [
      "  6%|▌         | 3/50 [00:01<00:20,  2.29it/s]"
     ]
    },
    {
     "name": "stdout",
     "output_type": "stream",
     "text": [
      "Epoch 3/50, Train Loss: 1.4743, Val Loss: 1.4952, Train Accuracy: 0.4400, Validation Accuracy: 0.4120\n"
     ]
    },
    {
     "name": "stderr",
     "output_type": "stream",
     "text": [
      "  8%|▊         | 4/50 [00:01<00:20,  2.29it/s]"
     ]
    },
    {
     "name": "stdout",
     "output_type": "stream",
     "text": [
      "Epoch 4/50, Train Loss: 1.4750, Val Loss: 1.4926, Train Accuracy: 0.4400, Validation Accuracy: 0.4120\n"
     ]
    },
    {
     "name": "stderr",
     "output_type": "stream",
     "text": [
      " 10%|█         | 5/50 [00:02<00:19,  2.30it/s]"
     ]
    },
    {
     "name": "stdout",
     "output_type": "stream",
     "text": [
      "Epoch 5/50, Train Loss: 1.4721, Val Loss: 1.4924, Train Accuracy: 0.4400, Validation Accuracy: 0.4120\n"
     ]
    },
    {
     "name": "stderr",
     "output_type": "stream",
     "text": [
      " 12%|█▏        | 6/50 [00:02<00:19,  2.29it/s]"
     ]
    },
    {
     "name": "stdout",
     "output_type": "stream",
     "text": [
      "Epoch 6/50, Train Loss: 1.4779, Val Loss: 1.4936, Train Accuracy: 0.4400, Validation Accuracy: 0.4120\n"
     ]
    },
    {
     "name": "stderr",
     "output_type": "stream",
     "text": [
      " 14%|█▍        | 7/50 [00:03<00:18,  2.31it/s]"
     ]
    },
    {
     "name": "stdout",
     "output_type": "stream",
     "text": [
      "Epoch 7/50, Train Loss: 1.4754, Val Loss: 1.4934, Train Accuracy: 0.4400, Validation Accuracy: 0.4120\n"
     ]
    },
    {
     "name": "stderr",
     "output_type": "stream",
     "text": [
      " 16%|█▌        | 8/50 [00:03<00:18,  2.32it/s]"
     ]
    },
    {
     "name": "stdout",
     "output_type": "stream",
     "text": [
      "Epoch 8/50, Train Loss: 1.4772, Val Loss: 1.4936, Train Accuracy: 0.4400, Validation Accuracy: 0.4120\n"
     ]
    },
    {
     "name": "stderr",
     "output_type": "stream",
     "text": [
      " 18%|█▊        | 9/50 [00:03<00:17,  2.30it/s]"
     ]
    },
    {
     "name": "stdout",
     "output_type": "stream",
     "text": [
      "Epoch 9/50, Train Loss: 1.4760, Val Loss: 1.4918, Train Accuracy: 0.4400, Validation Accuracy: 0.4120\n"
     ]
    },
    {
     "name": "stderr",
     "output_type": "stream",
     "text": [
      " 20%|██        | 10/50 [00:04<00:17,  2.28it/s]"
     ]
    },
    {
     "name": "stdout",
     "output_type": "stream",
     "text": [
      "Epoch 10/50, Train Loss: 1.4790, Val Loss: 1.4932, Train Accuracy: 0.4400, Validation Accuracy: 0.4120\n"
     ]
    },
    {
     "name": "stderr",
     "output_type": "stream",
     "text": [
      " 22%|██▏       | 11/50 [00:04<00:17,  2.28it/s]"
     ]
    },
    {
     "name": "stdout",
     "output_type": "stream",
     "text": [
      "Epoch 11/50, Train Loss: 1.4755, Val Loss: 1.4948, Train Accuracy: 0.4400, Validation Accuracy: 0.4120\n"
     ]
    },
    {
     "name": "stderr",
     "output_type": "stream",
     "text": [
      " 24%|██▍       | 12/50 [00:05<00:16,  2.27it/s]"
     ]
    },
    {
     "name": "stdout",
     "output_type": "stream",
     "text": [
      "Epoch 12/50, Train Loss: 1.4755, Val Loss: 1.4934, Train Accuracy: 0.4400, Validation Accuracy: 0.4120\n"
     ]
    },
    {
     "name": "stderr",
     "output_type": "stream",
     "text": [
      " 26%|██▌       | 13/50 [00:05<00:16,  2.24it/s]"
     ]
    },
    {
     "name": "stdout",
     "output_type": "stream",
     "text": [
      "Epoch 13/50, Train Loss: 1.4761, Val Loss: 1.4924, Train Accuracy: 0.4400, Validation Accuracy: 0.4120\n"
     ]
    },
    {
     "name": "stderr",
     "output_type": "stream",
     "text": [
      " 28%|██▊       | 14/50 [00:06<00:15,  2.26it/s]"
     ]
    },
    {
     "name": "stdout",
     "output_type": "stream",
     "text": [
      "Epoch 14/50, Train Loss: 1.4753, Val Loss: 1.4910, Train Accuracy: 0.4400, Validation Accuracy: 0.4120\n"
     ]
    },
    {
     "name": "stderr",
     "output_type": "stream",
     "text": [
      " 30%|███       | 15/50 [00:06<00:15,  2.27it/s]"
     ]
    },
    {
     "name": "stdout",
     "output_type": "stream",
     "text": [
      "Epoch 15/50, Train Loss: 1.4751, Val Loss: 1.4920, Train Accuracy: 0.4400, Validation Accuracy: 0.4120\n"
     ]
    },
    {
     "name": "stderr",
     "output_type": "stream",
     "text": [
      " 32%|███▏      | 16/50 [00:07<00:14,  2.28it/s]"
     ]
    },
    {
     "name": "stdout",
     "output_type": "stream",
     "text": [
      "Epoch 16/50, Train Loss: 1.4760, Val Loss: 1.4928, Train Accuracy: 0.4400, Validation Accuracy: 0.4120\n"
     ]
    },
    {
     "name": "stderr",
     "output_type": "stream",
     "text": [
      " 34%|███▍      | 17/50 [00:07<00:14,  2.24it/s]"
     ]
    },
    {
     "name": "stdout",
     "output_type": "stream",
     "text": [
      "Epoch 17/50, Train Loss: 1.4748, Val Loss: 1.4938, Train Accuracy: 0.4380, Validation Accuracy: 0.4120\n"
     ]
    },
    {
     "name": "stderr",
     "output_type": "stream",
     "text": [
      " 36%|███▌      | 18/50 [00:07<00:14,  2.22it/s]"
     ]
    },
    {
     "name": "stdout",
     "output_type": "stream",
     "text": [
      "Epoch 18/50, Train Loss: 1.4785, Val Loss: 1.4930, Train Accuracy: 0.4400, Validation Accuracy: 0.4120\n"
     ]
    },
    {
     "name": "stderr",
     "output_type": "stream",
     "text": [
      " 38%|███▊      | 19/50 [00:08<00:13,  2.25it/s]"
     ]
    },
    {
     "name": "stdout",
     "output_type": "stream",
     "text": [
      "Epoch 19/50, Train Loss: 1.4808, Val Loss: 1.4908, Train Accuracy: 0.4400, Validation Accuracy: 0.4120\n"
     ]
    },
    {
     "name": "stderr",
     "output_type": "stream",
     "text": [
      " 40%|████      | 20/50 [00:08<00:13,  2.26it/s]"
     ]
    },
    {
     "name": "stdout",
     "output_type": "stream",
     "text": [
      "Epoch 20/50, Train Loss: 1.4742, Val Loss: 1.4928, Train Accuracy: 0.4400, Validation Accuracy: 0.4120\n"
     ]
    },
    {
     "name": "stderr",
     "output_type": "stream",
     "text": [
      " 42%|████▏     | 21/50 [00:09<00:12,  2.28it/s]"
     ]
    },
    {
     "name": "stdout",
     "output_type": "stream",
     "text": [
      "Epoch 21/50, Train Loss: 1.4768, Val Loss: 1.4940, Train Accuracy: 0.4400, Validation Accuracy: 0.4120\n"
     ]
    },
    {
     "name": "stderr",
     "output_type": "stream",
     "text": [
      " 44%|████▍     | 22/50 [00:09<00:12,  2.31it/s]"
     ]
    },
    {
     "name": "stdout",
     "output_type": "stream",
     "text": [
      "Epoch 22/50, Train Loss: 1.4780, Val Loss: 1.4924, Train Accuracy: 0.4400, Validation Accuracy: 0.4120\n"
     ]
    },
    {
     "name": "stderr",
     "output_type": "stream",
     "text": [
      " 46%|████▌     | 23/50 [00:10<00:11,  2.29it/s]"
     ]
    },
    {
     "name": "stdout",
     "output_type": "stream",
     "text": [
      "Epoch 23/50, Train Loss: 1.4743, Val Loss: 1.4920, Train Accuracy: 0.4400, Validation Accuracy: 0.4120\n"
     ]
    },
    {
     "name": "stderr",
     "output_type": "stream",
     "text": [
      " 48%|████▊     | 24/50 [00:10<00:11,  2.29it/s]"
     ]
    },
    {
     "name": "stdout",
     "output_type": "stream",
     "text": [
      "Epoch 24/50, Train Loss: 1.4779, Val Loss: 1.4926, Train Accuracy: 0.4400, Validation Accuracy: 0.4120\n"
     ]
    },
    {
     "name": "stderr",
     "output_type": "stream",
     "text": [
      " 50%|█████     | 25/50 [00:10<00:10,  2.30it/s]"
     ]
    },
    {
     "name": "stdout",
     "output_type": "stream",
     "text": [
      "Epoch 25/50, Train Loss: 1.4773, Val Loss: 1.4918, Train Accuracy: 0.4400, Validation Accuracy: 0.4120\n"
     ]
    },
    {
     "name": "stderr",
     "output_type": "stream",
     "text": [
      " 52%|█████▏    | 26/50 [00:11<00:10,  2.31it/s]"
     ]
    },
    {
     "name": "stdout",
     "output_type": "stream",
     "text": [
      "Epoch 26/50, Train Loss: 1.4776, Val Loss: 1.4930, Train Accuracy: 0.4400, Validation Accuracy: 0.4120\n"
     ]
    },
    {
     "name": "stderr",
     "output_type": "stream",
     "text": [
      " 54%|█████▍    | 27/50 [00:11<00:09,  2.32it/s]"
     ]
    },
    {
     "name": "stdout",
     "output_type": "stream",
     "text": [
      "Epoch 27/50, Train Loss: 1.4783, Val Loss: 1.4926, Train Accuracy: 0.4400, Validation Accuracy: 0.4120\n"
     ]
    },
    {
     "name": "stderr",
     "output_type": "stream",
     "text": [
      " 56%|█████▌    | 28/50 [00:12<00:09,  2.32it/s]"
     ]
    },
    {
     "name": "stdout",
     "output_type": "stream",
     "text": [
      "Epoch 28/50, Train Loss: 1.4757, Val Loss: 1.4924, Train Accuracy: 0.4400, Validation Accuracy: 0.4120\n"
     ]
    },
    {
     "name": "stderr",
     "output_type": "stream",
     "text": [
      " 58%|█████▊    | 29/50 [00:12<00:09,  2.27it/s]"
     ]
    },
    {
     "name": "stdout",
     "output_type": "stream",
     "text": [
      "Epoch 29/50, Train Loss: 1.4764, Val Loss: 1.4930, Train Accuracy: 0.4400, Validation Accuracy: 0.4120\n"
     ]
    },
    {
     "name": "stderr",
     "output_type": "stream",
     "text": [
      " 60%|██████    | 30/50 [00:13<00:08,  2.28it/s]"
     ]
    },
    {
     "name": "stdout",
     "output_type": "stream",
     "text": [
      "Epoch 30/50, Train Loss: 1.4759, Val Loss: 1.4906, Train Accuracy: 0.4400, Validation Accuracy: 0.4120\n"
     ]
    },
    {
     "name": "stderr",
     "output_type": "stream",
     "text": [
      " 62%|██████▏   | 31/50 [00:13<00:08,  2.28it/s]"
     ]
    },
    {
     "name": "stdout",
     "output_type": "stream",
     "text": [
      "Epoch 31/50, Train Loss: 1.4733, Val Loss: 1.4920, Train Accuracy: 0.4400, Validation Accuracy: 0.4120\n"
     ]
    },
    {
     "name": "stderr",
     "output_type": "stream",
     "text": [
      " 64%|██████▍   | 32/50 [00:14<00:07,  2.28it/s]"
     ]
    },
    {
     "name": "stdout",
     "output_type": "stream",
     "text": [
      "Epoch 32/50, Train Loss: 1.4785, Val Loss: 1.4942, Train Accuracy: 0.4400, Validation Accuracy: 0.4120\n"
     ]
    },
    {
     "name": "stderr",
     "output_type": "stream",
     "text": [
      " 66%|██████▌   | 33/50 [00:14<00:07,  2.28it/s]"
     ]
    },
    {
     "name": "stdout",
     "output_type": "stream",
     "text": [
      "Epoch 33/50, Train Loss: 1.4749, Val Loss: 1.4928, Train Accuracy: 0.4400, Validation Accuracy: 0.4120\n"
     ]
    },
    {
     "name": "stderr",
     "output_type": "stream",
     "text": [
      " 68%|██████▊   | 34/50 [00:14<00:07,  2.26it/s]"
     ]
    },
    {
     "name": "stdout",
     "output_type": "stream",
     "text": [
      "Epoch 34/50, Train Loss: 1.4753, Val Loss: 1.4926, Train Accuracy: 0.4400, Validation Accuracy: 0.4120\n"
     ]
    },
    {
     "name": "stderr",
     "output_type": "stream",
     "text": [
      " 70%|███████   | 35/50 [00:15<00:06,  2.27it/s]"
     ]
    },
    {
     "name": "stdout",
     "output_type": "stream",
     "text": [
      "Epoch 35/50, Train Loss: 1.4742, Val Loss: 1.4926, Train Accuracy: 0.4400, Validation Accuracy: 0.4120\n"
     ]
    },
    {
     "name": "stderr",
     "output_type": "stream",
     "text": [
      " 72%|███████▏  | 36/50 [00:15<00:06,  2.27it/s]"
     ]
    },
    {
     "name": "stdout",
     "output_type": "stream",
     "text": [
      "Epoch 36/50, Train Loss: 1.4730, Val Loss: 1.4938, Train Accuracy: 0.4400, Validation Accuracy: 0.4120\n"
     ]
    },
    {
     "name": "stderr",
     "output_type": "stream",
     "text": [
      " 74%|███████▍  | 37/50 [00:16<00:05,  2.27it/s]"
     ]
    },
    {
     "name": "stdout",
     "output_type": "stream",
     "text": [
      "Epoch 37/50, Train Loss: 1.4768, Val Loss: 1.4930, Train Accuracy: 0.4400, Validation Accuracy: 0.4120\n"
     ]
    },
    {
     "name": "stderr",
     "output_type": "stream",
     "text": [
      " 76%|███████▌  | 38/50 [00:16<00:05,  2.28it/s]"
     ]
    },
    {
     "name": "stdout",
     "output_type": "stream",
     "text": [
      "Epoch 38/50, Train Loss: 1.4753, Val Loss: 1.4916, Train Accuracy: 0.4400, Validation Accuracy: 0.4120\n"
     ]
    },
    {
     "name": "stderr",
     "output_type": "stream",
     "text": [
      " 78%|███████▊  | 39/50 [00:17<00:04,  2.29it/s]"
     ]
    },
    {
     "name": "stdout",
     "output_type": "stream",
     "text": [
      "Epoch 39/50, Train Loss: 1.4790, Val Loss: 1.4938, Train Accuracy: 0.4400, Validation Accuracy: 0.4120\n"
     ]
    },
    {
     "name": "stderr",
     "output_type": "stream",
     "text": [
      " 80%|████████  | 40/50 [00:17<00:04,  2.28it/s]"
     ]
    },
    {
     "name": "stdout",
     "output_type": "stream",
     "text": [
      "Epoch 40/50, Train Loss: 1.4792, Val Loss: 1.4922, Train Accuracy: 0.4400, Validation Accuracy: 0.4120\n"
     ]
    },
    {
     "name": "stderr",
     "output_type": "stream",
     "text": [
      " 82%|████████▏ | 41/50 [00:17<00:03,  2.28it/s]"
     ]
    },
    {
     "name": "stdout",
     "output_type": "stream",
     "text": [
      "Epoch 41/50, Train Loss: 1.4737, Val Loss: 1.4932, Train Accuracy: 0.4400, Validation Accuracy: 0.4120\n"
     ]
    },
    {
     "name": "stderr",
     "output_type": "stream",
     "text": [
      " 84%|████████▍ | 42/50 [00:18<00:03,  2.27it/s]"
     ]
    },
    {
     "name": "stdout",
     "output_type": "stream",
     "text": [
      "Epoch 42/50, Train Loss: 1.4741, Val Loss: 1.4932, Train Accuracy: 0.4400, Validation Accuracy: 0.4120\n"
     ]
    },
    {
     "name": "stderr",
     "output_type": "stream",
     "text": [
      " 86%|████████▌ | 43/50 [00:18<00:03,  2.26it/s]"
     ]
    },
    {
     "name": "stdout",
     "output_type": "stream",
     "text": [
      "Epoch 43/50, Train Loss: 1.4761, Val Loss: 1.4930, Train Accuracy: 0.4400, Validation Accuracy: 0.4120\n"
     ]
    },
    {
     "name": "stderr",
     "output_type": "stream",
     "text": [
      " 88%|████████▊ | 44/50 [00:19<00:02,  2.26it/s]"
     ]
    },
    {
     "name": "stdout",
     "output_type": "stream",
     "text": [
      "Epoch 44/50, Train Loss: 1.4767, Val Loss: 1.4924, Train Accuracy: 0.4400, Validation Accuracy: 0.4120\n"
     ]
    },
    {
     "name": "stderr",
     "output_type": "stream",
     "text": [
      " 90%|█████████ | 45/50 [00:19<00:02,  2.27it/s]"
     ]
    },
    {
     "name": "stdout",
     "output_type": "stream",
     "text": [
      "Epoch 45/50, Train Loss: 1.4721, Val Loss: 1.4940, Train Accuracy: 0.4400, Validation Accuracy: 0.4120\n"
     ]
    },
    {
     "name": "stderr",
     "output_type": "stream",
     "text": [
      " 92%|█████████▏| 46/50 [00:20<00:01,  2.28it/s]"
     ]
    },
    {
     "name": "stdout",
     "output_type": "stream",
     "text": [
      "Epoch 46/50, Train Loss: 1.4808, Val Loss: 1.4922, Train Accuracy: 0.4400, Validation Accuracy: 0.4120\n"
     ]
    },
    {
     "name": "stderr",
     "output_type": "stream",
     "text": [
      " 94%|█████████▍| 47/50 [00:20<00:01,  2.25it/s]"
     ]
    },
    {
     "name": "stdout",
     "output_type": "stream",
     "text": [
      "Epoch 47/50, Train Loss: 1.4739, Val Loss: 1.4928, Train Accuracy: 0.4400, Validation Accuracy: 0.4120\n"
     ]
    },
    {
     "name": "stderr",
     "output_type": "stream",
     "text": [
      " 96%|█████████▌| 48/50 [00:21<00:00,  2.27it/s]"
     ]
    },
    {
     "name": "stdout",
     "output_type": "stream",
     "text": [
      "Epoch 48/50, Train Loss: 1.4762, Val Loss: 1.4934, Train Accuracy: 0.4400, Validation Accuracy: 0.4120\n"
     ]
    },
    {
     "name": "stderr",
     "output_type": "stream",
     "text": [
      " 98%|█████████▊| 49/50 [00:21<00:00,  2.28it/s]"
     ]
    },
    {
     "name": "stdout",
     "output_type": "stream",
     "text": [
      "Epoch 49/50, Train Loss: 1.4724, Val Loss: 1.4932, Train Accuracy: 0.4400, Validation Accuracy: 0.4120\n"
     ]
    },
    {
     "name": "stderr",
     "output_type": "stream",
     "text": [
      "100%|██████████| 50/50 [00:21<00:00,  2.28it/s]"
     ]
    },
    {
     "name": "stdout",
     "output_type": "stream",
     "text": [
      "Epoch 50/50, Train Loss: 1.4742, Val Loss: 1.4930, Train Accuracy: 0.4400, Validation Accuracy: 0.4120\n",
      "Time taken for the model to run finish: 21.95 seconds\n",
      "Time taken to run finish the test: 0.01 seconds\n",
      "Test Accuracy: 0.4060\n"
     ]
    },
    {
     "name": "stderr",
     "output_type": "stream",
     "text": [
      "\n",
      "  2%|▏         | 1/50 [00:00<00:24,  2.04it/s]"
     ]
    },
    {
     "name": "stdout",
     "output_type": "stream",
     "text": [
      "Epoch 1/50, Train Loss: 1.4871, Val Loss: 1.4920, Train Accuracy: 0.4233, Validation Accuracy: 0.4120\n"
     ]
    },
    {
     "name": "stderr",
     "output_type": "stream",
     "text": [
      "  4%|▍         | 2/50 [00:00<00:22,  2.15it/s]"
     ]
    },
    {
     "name": "stdout",
     "output_type": "stream",
     "text": [
      "Epoch 2/50, Train Loss: 1.4744, Val Loss: 1.4908, Train Accuracy: 0.4400, Validation Accuracy: 0.4120\n"
     ]
    },
    {
     "name": "stderr",
     "output_type": "stream",
     "text": [
      "  6%|▌         | 3/50 [00:01<00:21,  2.22it/s]"
     ]
    },
    {
     "name": "stdout",
     "output_type": "stream",
     "text": [
      "Epoch 3/50, Train Loss: 1.4788, Val Loss: 1.4952, Train Accuracy: 0.4400, Validation Accuracy: 0.4120\n"
     ]
    },
    {
     "name": "stderr",
     "output_type": "stream",
     "text": [
      "  8%|▊         | 4/50 [00:01<00:20,  2.23it/s]"
     ]
    },
    {
     "name": "stdout",
     "output_type": "stream",
     "text": [
      "Epoch 4/50, Train Loss: 1.4756, Val Loss: 1.4926, Train Accuracy: 0.4400, Validation Accuracy: 0.4120\n"
     ]
    },
    {
     "name": "stderr",
     "output_type": "stream",
     "text": [
      " 10%|█         | 5/50 [00:02<00:20,  2.25it/s]"
     ]
    },
    {
     "name": "stdout",
     "output_type": "stream",
     "text": [
      "Epoch 5/50, Train Loss: 1.4773, Val Loss: 1.4924, Train Accuracy: 0.4400, Validation Accuracy: 0.4120\n"
     ]
    },
    {
     "name": "stderr",
     "output_type": "stream",
     "text": [
      " 12%|█▏        | 6/50 [00:02<00:19,  2.26it/s]"
     ]
    },
    {
     "name": "stdout",
     "output_type": "stream",
     "text": [
      "Epoch 6/50, Train Loss: 1.4751, Val Loss: 1.4936, Train Accuracy: 0.4400, Validation Accuracy: 0.4120\n"
     ]
    },
    {
     "name": "stderr",
     "output_type": "stream",
     "text": [
      " 14%|█▍        | 7/50 [00:03<00:19,  2.26it/s]"
     ]
    },
    {
     "name": "stdout",
     "output_type": "stream",
     "text": [
      "Epoch 7/50, Train Loss: 1.4791, Val Loss: 1.4934, Train Accuracy: 0.4400, Validation Accuracy: 0.4120\n"
     ]
    },
    {
     "name": "stderr",
     "output_type": "stream",
     "text": [
      " 16%|█▌        | 8/50 [00:03<00:18,  2.28it/s]"
     ]
    },
    {
     "name": "stdout",
     "output_type": "stream",
     "text": [
      "Epoch 8/50, Train Loss: 1.4767, Val Loss: 1.4936, Train Accuracy: 0.4400, Validation Accuracy: 0.4120\n"
     ]
    },
    {
     "name": "stderr",
     "output_type": "stream",
     "text": [
      " 18%|█▊        | 9/50 [00:04<00:18,  2.25it/s]"
     ]
    },
    {
     "name": "stdout",
     "output_type": "stream",
     "text": [
      "Epoch 9/50, Train Loss: 1.4772, Val Loss: 1.4918, Train Accuracy: 0.4400, Validation Accuracy: 0.4120\n"
     ]
    },
    {
     "name": "stderr",
     "output_type": "stream",
     "text": [
      " 20%|██        | 10/50 [00:04<00:17,  2.25it/s]"
     ]
    },
    {
     "name": "stdout",
     "output_type": "stream",
     "text": [
      "Epoch 10/50, Train Loss: 1.4753, Val Loss: 1.4932, Train Accuracy: 0.4400, Validation Accuracy: 0.4120\n"
     ]
    },
    {
     "name": "stderr",
     "output_type": "stream",
     "text": [
      " 22%|██▏       | 11/50 [00:04<00:17,  2.26it/s]"
     ]
    },
    {
     "name": "stdout",
     "output_type": "stream",
     "text": [
      "Epoch 11/50, Train Loss: 1.4780, Val Loss: 1.4948, Train Accuracy: 0.4400, Validation Accuracy: 0.4120\n"
     ]
    },
    {
     "name": "stderr",
     "output_type": "stream",
     "text": [
      " 24%|██▍       | 12/50 [00:05<00:16,  2.27it/s]"
     ]
    },
    {
     "name": "stdout",
     "output_type": "stream",
     "text": [
      "Epoch 12/50, Train Loss: 1.4747, Val Loss: 1.4934, Train Accuracy: 0.4400, Validation Accuracy: 0.4120\n"
     ]
    },
    {
     "name": "stderr",
     "output_type": "stream",
     "text": [
      " 26%|██▌       | 13/50 [00:05<00:16,  2.26it/s]"
     ]
    },
    {
     "name": "stdout",
     "output_type": "stream",
     "text": [
      "Epoch 13/50, Train Loss: 1.4727, Val Loss: 1.4924, Train Accuracy: 0.4400, Validation Accuracy: 0.4120\n"
     ]
    },
    {
     "name": "stderr",
     "output_type": "stream",
     "text": [
      " 28%|██▊       | 14/50 [00:06<00:15,  2.27it/s]"
     ]
    },
    {
     "name": "stdout",
     "output_type": "stream",
     "text": [
      "Epoch 14/50, Train Loss: 1.4719, Val Loss: 1.4909, Train Accuracy: 0.4396, Validation Accuracy: 0.4120\n"
     ]
    },
    {
     "name": "stderr",
     "output_type": "stream",
     "text": [
      " 30%|███       | 15/50 [00:06<00:15,  2.28it/s]"
     ]
    },
    {
     "name": "stdout",
     "output_type": "stream",
     "text": [
      "Epoch 15/50, Train Loss: 1.4758, Val Loss: 1.4920, Train Accuracy: 0.4364, Validation Accuracy: 0.4120\n"
     ]
    },
    {
     "name": "stderr",
     "output_type": "stream",
     "text": [
      " 32%|███▏      | 16/50 [00:07<00:14,  2.29it/s]"
     ]
    },
    {
     "name": "stdout",
     "output_type": "stream",
     "text": [
      "Epoch 16/50, Train Loss: 1.4745, Val Loss: 1.4928, Train Accuracy: 0.4400, Validation Accuracy: 0.4120\n"
     ]
    },
    {
     "name": "stderr",
     "output_type": "stream",
     "text": [
      " 34%|███▍      | 17/50 [00:07<00:14,  2.29it/s]"
     ]
    },
    {
     "name": "stdout",
     "output_type": "stream",
     "text": [
      "Epoch 17/50, Train Loss: 1.4776, Val Loss: 1.4938, Train Accuracy: 0.4400, Validation Accuracy: 0.4120\n"
     ]
    },
    {
     "name": "stderr",
     "output_type": "stream",
     "text": [
      " 36%|███▌      | 18/50 [00:07<00:14,  2.28it/s]"
     ]
    },
    {
     "name": "stdout",
     "output_type": "stream",
     "text": [
      "Epoch 18/50, Train Loss: 1.4738, Val Loss: 1.4930, Train Accuracy: 0.4400, Validation Accuracy: 0.4120\n"
     ]
    },
    {
     "name": "stderr",
     "output_type": "stream",
     "text": [
      " 38%|███▊      | 19/50 [00:08<00:13,  2.28it/s]"
     ]
    },
    {
     "name": "stdout",
     "output_type": "stream",
     "text": [
      "Epoch 19/50, Train Loss: 1.4763, Val Loss: 1.4908, Train Accuracy: 0.4400, Validation Accuracy: 0.4120\n"
     ]
    },
    {
     "name": "stderr",
     "output_type": "stream",
     "text": [
      " 40%|████      | 20/50 [00:08<00:13,  2.29it/s]"
     ]
    },
    {
     "name": "stdout",
     "output_type": "stream",
     "text": [
      "Epoch 20/50, Train Loss: 1.4760, Val Loss: 1.4928, Train Accuracy: 0.4400, Validation Accuracy: 0.4120\n"
     ]
    },
    {
     "name": "stderr",
     "output_type": "stream",
     "text": [
      " 42%|████▏     | 21/50 [00:09<00:12,  2.28it/s]"
     ]
    },
    {
     "name": "stdout",
     "output_type": "stream",
     "text": [
      "Epoch 21/50, Train Loss: 1.4783, Val Loss: 1.4940, Train Accuracy: 0.4400, Validation Accuracy: 0.4120\n"
     ]
    },
    {
     "name": "stderr",
     "output_type": "stream",
     "text": [
      " 44%|████▍     | 22/50 [00:09<00:12,  2.29it/s]"
     ]
    },
    {
     "name": "stdout",
     "output_type": "stream",
     "text": [
      "Epoch 22/50, Train Loss: 1.4802, Val Loss: 1.4924, Train Accuracy: 0.4400, Validation Accuracy: 0.4120\n"
     ]
    },
    {
     "name": "stderr",
     "output_type": "stream",
     "text": [
      " 46%|████▌     | 23/50 [00:10<00:11,  2.27it/s]"
     ]
    },
    {
     "name": "stdout",
     "output_type": "stream",
     "text": [
      "Epoch 23/50, Train Loss: 1.4743, Val Loss: 1.4920, Train Accuracy: 0.4400, Validation Accuracy: 0.4120\n"
     ]
    },
    {
     "name": "stderr",
     "output_type": "stream",
     "text": [
      " 48%|████▊     | 24/50 [00:10<00:11,  2.27it/s]"
     ]
    },
    {
     "name": "stdout",
     "output_type": "stream",
     "text": [
      "Epoch 24/50, Train Loss: 1.4782, Val Loss: 1.4926, Train Accuracy: 0.4400, Validation Accuracy: 0.4120\n"
     ]
    },
    {
     "name": "stderr",
     "output_type": "stream",
     "text": [
      " 50%|█████     | 25/50 [00:11<00:11,  2.27it/s]"
     ]
    },
    {
     "name": "stdout",
     "output_type": "stream",
     "text": [
      "Epoch 25/50, Train Loss: 1.4770, Val Loss: 1.4918, Train Accuracy: 0.4400, Validation Accuracy: 0.4120\n"
     ]
    },
    {
     "name": "stderr",
     "output_type": "stream",
     "text": [
      " 52%|█████▏    | 26/50 [00:11<00:10,  2.28it/s]"
     ]
    },
    {
     "name": "stdout",
     "output_type": "stream",
     "text": [
      "Epoch 26/50, Train Loss: 1.4742, Val Loss: 1.4930, Train Accuracy: 0.4400, Validation Accuracy: 0.4120\n"
     ]
    },
    {
     "name": "stderr",
     "output_type": "stream",
     "text": [
      " 54%|█████▍    | 27/50 [00:12<00:11,  2.01it/s]"
     ]
    },
    {
     "name": "stdout",
     "output_type": "stream",
     "text": [
      "Epoch 27/50, Train Loss: 1.4778, Val Loss: 1.4926, Train Accuracy: 0.4400, Validation Accuracy: 0.4120\n"
     ]
    },
    {
     "name": "stderr",
     "output_type": "stream",
     "text": [
      " 56%|█████▌    | 28/50 [00:12<00:11,  1.91it/s]"
     ]
    },
    {
     "name": "stdout",
     "output_type": "stream",
     "text": [
      "Epoch 28/50, Train Loss: 1.4759, Val Loss: 1.4924, Train Accuracy: 0.4400, Validation Accuracy: 0.4120\n"
     ]
    },
    {
     "name": "stderr",
     "output_type": "stream",
     "text": [
      " 58%|█████▊    | 29/50 [00:13<00:10,  1.95it/s]"
     ]
    },
    {
     "name": "stdout",
     "output_type": "stream",
     "text": [
      "Epoch 29/50, Train Loss: 1.4733, Val Loss: 1.4930, Train Accuracy: 0.4400, Validation Accuracy: 0.4120\n"
     ]
    },
    {
     "name": "stderr",
     "output_type": "stream",
     "text": [
      " 60%|██████    | 30/50 [00:13<00:09,  2.03it/s]"
     ]
    },
    {
     "name": "stdout",
     "output_type": "stream",
     "text": [
      "Epoch 30/50, Train Loss: 1.4750, Val Loss: 1.4906, Train Accuracy: 0.4400, Validation Accuracy: 0.4120\n"
     ]
    },
    {
     "name": "stderr",
     "output_type": "stream",
     "text": [
      " 62%|██████▏   | 31/50 [00:14<00:09,  2.07it/s]"
     ]
    },
    {
     "name": "stdout",
     "output_type": "stream",
     "text": [
      "Epoch 31/50, Train Loss: 1.4736, Val Loss: 1.4920, Train Accuracy: 0.4400, Validation Accuracy: 0.4120\n"
     ]
    },
    {
     "name": "stderr",
     "output_type": "stream",
     "text": [
      " 64%|██████▍   | 32/50 [00:14<00:08,  2.01it/s]"
     ]
    },
    {
     "name": "stdout",
     "output_type": "stream",
     "text": [
      "Epoch 32/50, Train Loss: 1.4770, Val Loss: 1.4942, Train Accuracy: 0.4400, Validation Accuracy: 0.4120\n"
     ]
    },
    {
     "name": "stderr",
     "output_type": "stream",
     "text": [
      " 66%|██████▌   | 33/50 [00:15<00:08,  1.91it/s]"
     ]
    },
    {
     "name": "stdout",
     "output_type": "stream",
     "text": [
      "Epoch 33/50, Train Loss: 1.4817, Val Loss: 1.4928, Train Accuracy: 0.4400, Validation Accuracy: 0.4120\n"
     ]
    },
    {
     "name": "stderr",
     "output_type": "stream",
     "text": [
      " 68%|██████▊   | 34/50 [00:15<00:07,  2.00it/s]"
     ]
    },
    {
     "name": "stdout",
     "output_type": "stream",
     "text": [
      "Epoch 34/50, Train Loss: 1.4762, Val Loss: 1.4926, Train Accuracy: 0.4400, Validation Accuracy: 0.4120\n"
     ]
    },
    {
     "name": "stderr",
     "output_type": "stream",
     "text": [
      " 70%|███████   | 35/50 [00:16<00:08,  1.76it/s]"
     ]
    },
    {
     "name": "stdout",
     "output_type": "stream",
     "text": [
      "Epoch 35/50, Train Loss: 1.4742, Val Loss: 1.4926, Train Accuracy: 0.4400, Validation Accuracy: 0.4120\n"
     ]
    },
    {
     "name": "stderr",
     "output_type": "stream",
     "text": [
      " 72%|███████▏  | 36/50 [00:17<00:08,  1.66it/s]"
     ]
    },
    {
     "name": "stdout",
     "output_type": "stream",
     "text": [
      "Epoch 36/50, Train Loss: 1.4756, Val Loss: 1.4938, Train Accuracy: 0.4400, Validation Accuracy: 0.4120\n"
     ]
    },
    {
     "name": "stderr",
     "output_type": "stream",
     "text": [
      " 74%|███████▍  | 37/50 [00:17<00:07,  1.73it/s]"
     ]
    },
    {
     "name": "stdout",
     "output_type": "stream",
     "text": [
      "Epoch 37/50, Train Loss: 1.4780, Val Loss: 1.4930, Train Accuracy: 0.4400, Validation Accuracy: 0.4120\n"
     ]
    },
    {
     "name": "stderr",
     "output_type": "stream",
     "text": [
      " 76%|███████▌  | 38/50 [00:18<00:07,  1.70it/s]"
     ]
    },
    {
     "name": "stdout",
     "output_type": "stream",
     "text": [
      "Epoch 38/50, Train Loss: 1.4804, Val Loss: 1.4916, Train Accuracy: 0.4400, Validation Accuracy: 0.4120\n"
     ]
    },
    {
     "name": "stderr",
     "output_type": "stream",
     "text": [
      " 78%|███████▊  | 39/50 [00:18<00:06,  1.76it/s]"
     ]
    },
    {
     "name": "stdout",
     "output_type": "stream",
     "text": [
      "Epoch 39/50, Train Loss: 1.4751, Val Loss: 1.4938, Train Accuracy: 0.4400, Validation Accuracy: 0.4120\n"
     ]
    },
    {
     "name": "stderr",
     "output_type": "stream",
     "text": [
      " 80%|████████  | 40/50 [00:19<00:05,  1.85it/s]"
     ]
    },
    {
     "name": "stdout",
     "output_type": "stream",
     "text": [
      "Epoch 40/50, Train Loss: 1.4775, Val Loss: 1.4922, Train Accuracy: 0.4400, Validation Accuracy: 0.4120\n"
     ]
    },
    {
     "name": "stderr",
     "output_type": "stream",
     "text": [
      " 82%|████████▏ | 41/50 [00:19<00:05,  1.68it/s]"
     ]
    },
    {
     "name": "stdout",
     "output_type": "stream",
     "text": [
      "Epoch 41/50, Train Loss: 1.4778, Val Loss: 1.4932, Train Accuracy: 0.4400, Validation Accuracy: 0.4120\n"
     ]
    },
    {
     "name": "stderr",
     "output_type": "stream",
     "text": [
      " 84%|████████▍ | 42/50 [00:20<00:04,  1.65it/s]"
     ]
    },
    {
     "name": "stdout",
     "output_type": "stream",
     "text": [
      "Epoch 42/50, Train Loss: 1.4769, Val Loss: 1.4932, Train Accuracy: 0.4400, Validation Accuracy: 0.4120\n"
     ]
    },
    {
     "name": "stderr",
     "output_type": "stream",
     "text": [
      " 86%|████████▌ | 43/50 [00:21<00:04,  1.63it/s]"
     ]
    },
    {
     "name": "stdout",
     "output_type": "stream",
     "text": [
      "Epoch 43/50, Train Loss: 1.4738, Val Loss: 1.4930, Train Accuracy: 0.4400, Validation Accuracy: 0.4120\n"
     ]
    },
    {
     "name": "stderr",
     "output_type": "stream",
     "text": [
      " 88%|████████▊ | 44/50 [00:21<00:03,  1.67it/s]"
     ]
    },
    {
     "name": "stdout",
     "output_type": "stream",
     "text": [
      "Epoch 44/50, Train Loss: 1.4782, Val Loss: 1.4924, Train Accuracy: 0.4400, Validation Accuracy: 0.4120\n"
     ]
    },
    {
     "name": "stderr",
     "output_type": "stream",
     "text": [
      " 90%|█████████ | 45/50 [00:22<00:02,  1.81it/s]"
     ]
    },
    {
     "name": "stdout",
     "output_type": "stream",
     "text": [
      "Epoch 45/50, Train Loss: 1.4748, Val Loss: 1.4940, Train Accuracy: 0.4400, Validation Accuracy: 0.4120\n"
     ]
    },
    {
     "name": "stderr",
     "output_type": "stream",
     "text": [
      " 92%|█████████▏| 46/50 [00:22<00:02,  1.79it/s]"
     ]
    },
    {
     "name": "stdout",
     "output_type": "stream",
     "text": [
      "Epoch 46/50, Train Loss: 1.4781, Val Loss: 1.4922, Train Accuracy: 0.4400, Validation Accuracy: 0.4120\n"
     ]
    },
    {
     "name": "stderr",
     "output_type": "stream",
     "text": [
      " 94%|█████████▍| 47/50 [00:23<00:01,  1.86it/s]"
     ]
    },
    {
     "name": "stdout",
     "output_type": "stream",
     "text": [
      "Epoch 47/50, Train Loss: 1.4766, Val Loss: 1.4928, Train Accuracy: 0.4400, Validation Accuracy: 0.4120\n"
     ]
    },
    {
     "name": "stderr",
     "output_type": "stream",
     "text": [
      " 96%|█████████▌| 48/50 [00:23<00:01,  1.95it/s]"
     ]
    },
    {
     "name": "stdout",
     "output_type": "stream",
     "text": [
      "Epoch 48/50, Train Loss: 1.4755, Val Loss: 1.4934, Train Accuracy: 0.4400, Validation Accuracy: 0.4120\n"
     ]
    },
    {
     "name": "stderr",
     "output_type": "stream",
     "text": [
      " 98%|█████████▊| 49/50 [00:24<00:00,  1.98it/s]"
     ]
    },
    {
     "name": "stdout",
     "output_type": "stream",
     "text": [
      "Epoch 49/50, Train Loss: 1.4755, Val Loss: 1.4932, Train Accuracy: 0.4400, Validation Accuracy: 0.4120\n"
     ]
    },
    {
     "name": "stderr",
     "output_type": "stream",
     "text": [
      "100%|██████████| 50/50 [00:24<00:00,  2.03it/s]"
     ]
    },
    {
     "name": "stdout",
     "output_type": "stream",
     "text": [
      "Epoch 50/50, Train Loss: 1.4753, Val Loss: 1.4930, Train Accuracy: 0.4400, Validation Accuracy: 0.4120\n",
      "Time taken for the model to run finish: 24.64 seconds\n",
      "Time taken to run finish the test: 0.01 seconds\n",
      "Test Accuracy: 0.4060\n"
     ]
    },
    {
     "name": "stderr",
     "output_type": "stream",
     "text": [
      "\n",
      "  2%|▏         | 1/50 [00:00<00:24,  2.00it/s]"
     ]
    },
    {
     "name": "stdout",
     "output_type": "stream",
     "text": [
      "Epoch 1/50, Train Loss: 1.4919, Val Loss: 1.4920, Train Accuracy: 0.4233, Validation Accuracy: 0.4120\n"
     ]
    },
    {
     "name": "stderr",
     "output_type": "stream",
     "text": [
      "  4%|▍         | 2/50 [00:01<00:24,  1.94it/s]"
     ]
    },
    {
     "name": "stdout",
     "output_type": "stream",
     "text": [
      "Epoch 2/50, Train Loss: 1.4786, Val Loss: 1.4908, Train Accuracy: 0.4400, Validation Accuracy: 0.4120\n"
     ]
    },
    {
     "name": "stderr",
     "output_type": "stream",
     "text": [
      "  6%|▌         | 3/50 [00:01<00:29,  1.61it/s]"
     ]
    },
    {
     "name": "stdout",
     "output_type": "stream",
     "text": [
      "Epoch 3/50, Train Loss: 1.4804, Val Loss: 1.4952, Train Accuracy: 0.4400, Validation Accuracy: 0.4120\n"
     ]
    },
    {
     "name": "stderr",
     "output_type": "stream",
     "text": [
      "  8%|▊         | 4/50 [00:02<00:26,  1.76it/s]"
     ]
    },
    {
     "name": "stdout",
     "output_type": "stream",
     "text": [
      "Epoch 4/50, Train Loss: 1.4748, Val Loss: 1.4926, Train Accuracy: 0.4400, Validation Accuracy: 0.4120\n"
     ]
    },
    {
     "name": "stderr",
     "output_type": "stream",
     "text": [
      " 10%|█         | 5/50 [00:02<00:27,  1.61it/s]"
     ]
    },
    {
     "name": "stdout",
     "output_type": "stream",
     "text": [
      "Epoch 5/50, Train Loss: 1.4753, Val Loss: 1.4924, Train Accuracy: 0.4400, Validation Accuracy: 0.4120\n"
     ]
    },
    {
     "name": "stderr",
     "output_type": "stream",
     "text": [
      " 12%|█▏        | 6/50 [00:03<00:24,  1.77it/s]"
     ]
    },
    {
     "name": "stdout",
     "output_type": "stream",
     "text": [
      "Epoch 6/50, Train Loss: 1.4760, Val Loss: 1.4936, Train Accuracy: 0.4400, Validation Accuracy: 0.4120\n"
     ]
    },
    {
     "name": "stderr",
     "output_type": "stream",
     "text": [
      " 14%|█▍        | 7/50 [00:03<00:23,  1.81it/s]"
     ]
    },
    {
     "name": "stdout",
     "output_type": "stream",
     "text": [
      "Epoch 7/50, Train Loss: 1.4766, Val Loss: 1.4934, Train Accuracy: 0.4400, Validation Accuracy: 0.4120\n"
     ]
    },
    {
     "name": "stderr",
     "output_type": "stream",
     "text": [
      " 16%|█▌        | 8/50 [00:04<00:21,  1.94it/s]"
     ]
    },
    {
     "name": "stdout",
     "output_type": "stream",
     "text": [
      "Epoch 8/50, Train Loss: 1.4754, Val Loss: 1.4936, Train Accuracy: 0.4400, Validation Accuracy: 0.4120\n"
     ]
    },
    {
     "name": "stderr",
     "output_type": "stream",
     "text": [
      " 18%|█▊        | 9/50 [00:04<00:20,  2.04it/s]"
     ]
    },
    {
     "name": "stdout",
     "output_type": "stream",
     "text": [
      "Epoch 9/50, Train Loss: 1.4766, Val Loss: 1.4918, Train Accuracy: 0.4400, Validation Accuracy: 0.4120\n"
     ]
    },
    {
     "name": "stderr",
     "output_type": "stream",
     "text": [
      " 20%|██        | 10/50 [00:05<00:18,  2.12it/s]"
     ]
    },
    {
     "name": "stdout",
     "output_type": "stream",
     "text": [
      "Epoch 10/50, Train Loss: 1.4747, Val Loss: 1.4932, Train Accuracy: 0.4400, Validation Accuracy: 0.4120\n"
     ]
    },
    {
     "name": "stderr",
     "output_type": "stream",
     "text": [
      " 22%|██▏       | 11/50 [00:05<00:18,  2.16it/s]"
     ]
    },
    {
     "name": "stdout",
     "output_type": "stream",
     "text": [
      "Epoch 11/50, Train Loss: 1.4735, Val Loss: 1.4948, Train Accuracy: 0.4400, Validation Accuracy: 0.4120\n"
     ]
    },
    {
     "name": "stderr",
     "output_type": "stream",
     "text": [
      " 24%|██▍       | 12/50 [00:06<00:17,  2.16it/s]"
     ]
    },
    {
     "name": "stdout",
     "output_type": "stream",
     "text": [
      "Epoch 12/50, Train Loss: 1.4737, Val Loss: 1.4934, Train Accuracy: 0.4400, Validation Accuracy: 0.4120\n"
     ]
    },
    {
     "name": "stderr",
     "output_type": "stream",
     "text": [
      " 26%|██▌       | 13/50 [00:06<00:16,  2.20it/s]"
     ]
    },
    {
     "name": "stdout",
     "output_type": "stream",
     "text": [
      "Epoch 13/50, Train Loss: 1.4781, Val Loss: 1.4924, Train Accuracy: 0.4400, Validation Accuracy: 0.4120\n"
     ]
    },
    {
     "name": "stderr",
     "output_type": "stream",
     "text": [
      " 28%|██▊       | 14/50 [00:07<00:16,  2.22it/s]"
     ]
    },
    {
     "name": "stdout",
     "output_type": "stream",
     "text": [
      "Epoch 14/50, Train Loss: 1.4773, Val Loss: 1.4910, Train Accuracy: 0.4400, Validation Accuracy: 0.4120\n"
     ]
    },
    {
     "name": "stderr",
     "output_type": "stream",
     "text": [
      " 30%|███       | 15/50 [00:07<00:15,  2.22it/s]"
     ]
    },
    {
     "name": "stdout",
     "output_type": "stream",
     "text": [
      "Epoch 15/50, Train Loss: 1.4754, Val Loss: 1.4920, Train Accuracy: 0.4400, Validation Accuracy: 0.4120\n"
     ]
    },
    {
     "name": "stderr",
     "output_type": "stream",
     "text": [
      " 32%|███▏      | 16/50 [00:07<00:15,  2.22it/s]"
     ]
    },
    {
     "name": "stdout",
     "output_type": "stream",
     "text": [
      "Epoch 16/50, Train Loss: 1.4738, Val Loss: 1.4928, Train Accuracy: 0.4400, Validation Accuracy: 0.4120\n"
     ]
    },
    {
     "name": "stderr",
     "output_type": "stream",
     "text": [
      " 34%|███▍      | 17/50 [00:08<00:14,  2.22it/s]"
     ]
    },
    {
     "name": "stdout",
     "output_type": "stream",
     "text": [
      "Epoch 17/50, Train Loss: 1.4745, Val Loss: 1.4938, Train Accuracy: 0.4400, Validation Accuracy: 0.4120\n"
     ]
    },
    {
     "name": "stderr",
     "output_type": "stream",
     "text": [
      " 36%|███▌      | 18/50 [00:08<00:14,  2.22it/s]"
     ]
    },
    {
     "name": "stdout",
     "output_type": "stream",
     "text": [
      "Epoch 18/50, Train Loss: 1.4757, Val Loss: 1.4930, Train Accuracy: 0.4400, Validation Accuracy: 0.4120\n"
     ]
    },
    {
     "name": "stderr",
     "output_type": "stream",
     "text": [
      " 38%|███▊      | 19/50 [00:09<00:14,  2.20it/s]"
     ]
    },
    {
     "name": "stdout",
     "output_type": "stream",
     "text": [
      "Epoch 19/50, Train Loss: 1.4788, Val Loss: 1.4908, Train Accuracy: 0.4400, Validation Accuracy: 0.4120\n"
     ]
    },
    {
     "name": "stderr",
     "output_type": "stream",
     "text": [
      " 40%|████      | 20/50 [00:09<00:13,  2.21it/s]"
     ]
    },
    {
     "name": "stdout",
     "output_type": "stream",
     "text": [
      "Epoch 20/50, Train Loss: 1.4779, Val Loss: 1.4928, Train Accuracy: 0.4400, Validation Accuracy: 0.4120\n"
     ]
    },
    {
     "name": "stderr",
     "output_type": "stream",
     "text": [
      " 42%|████▏     | 21/50 [00:10<00:12,  2.23it/s]"
     ]
    },
    {
     "name": "stdout",
     "output_type": "stream",
     "text": [
      "Epoch 21/50, Train Loss: 1.4773, Val Loss: 1.4940, Train Accuracy: 0.4400, Validation Accuracy: 0.4120\n"
     ]
    },
    {
     "name": "stderr",
     "output_type": "stream",
     "text": [
      " 44%|████▍     | 22/50 [00:10<00:12,  2.26it/s]"
     ]
    },
    {
     "name": "stdout",
     "output_type": "stream",
     "text": [
      "Epoch 22/50, Train Loss: 1.4771, Val Loss: 1.4924, Train Accuracy: 0.4400, Validation Accuracy: 0.4120\n"
     ]
    },
    {
     "name": "stderr",
     "output_type": "stream",
     "text": [
      " 46%|████▌     | 23/50 [00:11<00:11,  2.28it/s]"
     ]
    },
    {
     "name": "stdout",
     "output_type": "stream",
     "text": [
      "Epoch 23/50, Train Loss: 1.4729, Val Loss: 1.4920, Train Accuracy: 0.4400, Validation Accuracy: 0.4120\n"
     ]
    },
    {
     "name": "stderr",
     "output_type": "stream",
     "text": [
      " 48%|████▊     | 24/50 [00:11<00:11,  2.25it/s]"
     ]
    },
    {
     "name": "stdout",
     "output_type": "stream",
     "text": [
      "Epoch 24/50, Train Loss: 1.4755, Val Loss: 1.4926, Train Accuracy: 0.4400, Validation Accuracy: 0.4120\n"
     ]
    },
    {
     "name": "stderr",
     "output_type": "stream",
     "text": [
      " 50%|█████     | 25/50 [00:11<00:10,  2.27it/s]"
     ]
    },
    {
     "name": "stdout",
     "output_type": "stream",
     "text": [
      "Epoch 25/50, Train Loss: 1.4741, Val Loss: 1.4918, Train Accuracy: 0.4400, Validation Accuracy: 0.4120\n"
     ]
    },
    {
     "name": "stderr",
     "output_type": "stream",
     "text": [
      " 52%|█████▏    | 26/50 [00:12<00:10,  2.29it/s]"
     ]
    },
    {
     "name": "stdout",
     "output_type": "stream",
     "text": [
      "Epoch 26/50, Train Loss: 1.4774, Val Loss: 1.4930, Train Accuracy: 0.4400, Validation Accuracy: 0.4120\n"
     ]
    },
    {
     "name": "stderr",
     "output_type": "stream",
     "text": [
      " 54%|█████▍    | 27/50 [00:12<00:10,  2.29it/s]"
     ]
    },
    {
     "name": "stdout",
     "output_type": "stream",
     "text": [
      "Epoch 27/50, Train Loss: 1.4764, Val Loss: 1.4926, Train Accuracy: 0.4400, Validation Accuracy: 0.4120\n"
     ]
    },
    {
     "name": "stderr",
     "output_type": "stream",
     "text": [
      " 56%|█████▌    | 28/50 [00:13<00:09,  2.30it/s]"
     ]
    },
    {
     "name": "stdout",
     "output_type": "stream",
     "text": [
      "Epoch 28/50, Train Loss: 1.4775, Val Loss: 1.4924, Train Accuracy: 0.4400, Validation Accuracy: 0.4120\n"
     ]
    },
    {
     "name": "stderr",
     "output_type": "stream",
     "text": [
      " 58%|█████▊    | 29/50 [00:13<00:09,  2.29it/s]"
     ]
    },
    {
     "name": "stdout",
     "output_type": "stream",
     "text": [
      "Epoch 29/50, Train Loss: 1.4747, Val Loss: 1.4930, Train Accuracy: 0.4400, Validation Accuracy: 0.4120\n"
     ]
    },
    {
     "name": "stderr",
     "output_type": "stream",
     "text": [
      " 60%|██████    | 30/50 [00:14<00:08,  2.31it/s]"
     ]
    },
    {
     "name": "stdout",
     "output_type": "stream",
     "text": [
      "Epoch 30/50, Train Loss: 1.4797, Val Loss: 1.4906, Train Accuracy: 0.4400, Validation Accuracy: 0.4120\n"
     ]
    },
    {
     "name": "stderr",
     "output_type": "stream",
     "text": [
      " 62%|██████▏   | 31/50 [00:14<00:08,  2.32it/s]"
     ]
    },
    {
     "name": "stdout",
     "output_type": "stream",
     "text": [
      "Epoch 31/50, Train Loss: 1.4768, Val Loss: 1.4920, Train Accuracy: 0.4400, Validation Accuracy: 0.4120\n"
     ]
    },
    {
     "name": "stderr",
     "output_type": "stream",
     "text": [
      " 64%|██████▍   | 32/50 [00:14<00:07,  2.32it/s]"
     ]
    },
    {
     "name": "stdout",
     "output_type": "stream",
     "text": [
      "Epoch 32/50, Train Loss: 1.4788, Val Loss: 1.4942, Train Accuracy: 0.4400, Validation Accuracy: 0.4120\n"
     ]
    },
    {
     "name": "stderr",
     "output_type": "stream",
     "text": [
      " 66%|██████▌   | 33/50 [00:15<00:07,  2.31it/s]"
     ]
    },
    {
     "name": "stdout",
     "output_type": "stream",
     "text": [
      "Epoch 33/50, Train Loss: 1.4789, Val Loss: 1.4928, Train Accuracy: 0.4400, Validation Accuracy: 0.4120\n"
     ]
    },
    {
     "name": "stderr",
     "output_type": "stream",
     "text": [
      " 68%|██████▊   | 34/50 [00:15<00:06,  2.31it/s]"
     ]
    },
    {
     "name": "stdout",
     "output_type": "stream",
     "text": [
      "Epoch 34/50, Train Loss: 1.4744, Val Loss: 1.4926, Train Accuracy: 0.4400, Validation Accuracy: 0.4120\n"
     ]
    },
    {
     "name": "stderr",
     "output_type": "stream",
     "text": [
      " 70%|███████   | 35/50 [00:16<00:06,  2.30it/s]"
     ]
    },
    {
     "name": "stdout",
     "output_type": "stream",
     "text": [
      "Epoch 35/50, Train Loss: 1.4787, Val Loss: 1.4926, Train Accuracy: 0.4400, Validation Accuracy: 0.4120\n"
     ]
    },
    {
     "name": "stderr",
     "output_type": "stream",
     "text": [
      " 72%|███████▏  | 36/50 [00:16<00:06,  2.28it/s]"
     ]
    },
    {
     "name": "stdout",
     "output_type": "stream",
     "text": [
      "Epoch 36/50, Train Loss: 1.4769, Val Loss: 1.4938, Train Accuracy: 0.4400, Validation Accuracy: 0.4120\n"
     ]
    },
    {
     "name": "stderr",
     "output_type": "stream",
     "text": [
      " 74%|███████▍  | 37/50 [00:17<00:05,  2.22it/s]"
     ]
    },
    {
     "name": "stdout",
     "output_type": "stream",
     "text": [
      "Epoch 37/50, Train Loss: 1.4801, Val Loss: 1.4930, Train Accuracy: 0.4400, Validation Accuracy: 0.4120\n"
     ]
    },
    {
     "name": "stderr",
     "output_type": "stream",
     "text": [
      " 76%|███████▌  | 38/50 [00:17<00:05,  2.23it/s]"
     ]
    },
    {
     "name": "stdout",
     "output_type": "stream",
     "text": [
      "Epoch 38/50, Train Loss: 1.4778, Val Loss: 1.4916, Train Accuracy: 0.4400, Validation Accuracy: 0.4120\n"
     ]
    },
    {
     "name": "stderr",
     "output_type": "stream",
     "text": [
      " 78%|███████▊  | 39/50 [00:18<00:04,  2.22it/s]"
     ]
    },
    {
     "name": "stdout",
     "output_type": "stream",
     "text": [
      "Epoch 39/50, Train Loss: 1.4777, Val Loss: 1.4938, Train Accuracy: 0.4400, Validation Accuracy: 0.4120\n"
     ]
    },
    {
     "name": "stderr",
     "output_type": "stream",
     "text": [
      " 80%|████████  | 40/50 [00:18<00:04,  2.20it/s]"
     ]
    },
    {
     "name": "stdout",
     "output_type": "stream",
     "text": [
      "Epoch 40/50, Train Loss: 1.4744, Val Loss: 1.4922, Train Accuracy: 0.4400, Validation Accuracy: 0.4120\n"
     ]
    },
    {
     "name": "stderr",
     "output_type": "stream",
     "text": [
      " 82%|████████▏ | 41/50 [00:19<00:04,  2.21it/s]"
     ]
    },
    {
     "name": "stdout",
     "output_type": "stream",
     "text": [
      "Epoch 41/50, Train Loss: 1.4734, Val Loss: 1.4932, Train Accuracy: 0.4400, Validation Accuracy: 0.4120\n"
     ]
    },
    {
     "name": "stderr",
     "output_type": "stream",
     "text": [
      " 84%|████████▍ | 42/50 [00:19<00:03,  2.21it/s]"
     ]
    },
    {
     "name": "stdout",
     "output_type": "stream",
     "text": [
      "Epoch 42/50, Train Loss: 1.4731, Val Loss: 1.4932, Train Accuracy: 0.4400, Validation Accuracy: 0.4120\n"
     ]
    },
    {
     "name": "stderr",
     "output_type": "stream",
     "text": [
      " 86%|████████▌ | 43/50 [00:19<00:03,  2.17it/s]"
     ]
    },
    {
     "name": "stdout",
     "output_type": "stream",
     "text": [
      "Epoch 43/50, Train Loss: 1.4768, Val Loss: 1.4930, Train Accuracy: 0.4400, Validation Accuracy: 0.4120\n"
     ]
    },
    {
     "name": "stderr",
     "output_type": "stream",
     "text": [
      " 88%|████████▊ | 44/50 [00:20<00:02,  2.20it/s]"
     ]
    },
    {
     "name": "stdout",
     "output_type": "stream",
     "text": [
      "Epoch 44/50, Train Loss: 1.4739, Val Loss: 1.4924, Train Accuracy: 0.4356, Validation Accuracy: 0.4120\n"
     ]
    },
    {
     "name": "stderr",
     "output_type": "stream",
     "text": [
      " 90%|█████████ | 45/50 [00:20<00:02,  2.22it/s]"
     ]
    },
    {
     "name": "stdout",
     "output_type": "stream",
     "text": [
      "Epoch 45/50, Train Loss: 1.4778, Val Loss: 1.4940, Train Accuracy: 0.4376, Validation Accuracy: 0.4120\n"
     ]
    },
    {
     "name": "stderr",
     "output_type": "stream",
     "text": [
      " 92%|█████████▏| 46/50 [00:21<00:01,  2.23it/s]"
     ]
    },
    {
     "name": "stdout",
     "output_type": "stream",
     "text": [
      "Epoch 46/50, Train Loss: 1.4773, Val Loss: 1.4922, Train Accuracy: 0.4400, Validation Accuracy: 0.4120\n"
     ]
    },
    {
     "name": "stderr",
     "output_type": "stream",
     "text": [
      " 94%|█████████▍| 47/50 [00:21<00:01,  2.22it/s]"
     ]
    },
    {
     "name": "stdout",
     "output_type": "stream",
     "text": [
      "Epoch 47/50, Train Loss: 1.4747, Val Loss: 1.4928, Train Accuracy: 0.4400, Validation Accuracy: 0.4120\n"
     ]
    },
    {
     "name": "stderr",
     "output_type": "stream",
     "text": [
      " 96%|█████████▌| 48/50 [00:22<00:00,  2.25it/s]"
     ]
    },
    {
     "name": "stdout",
     "output_type": "stream",
     "text": [
      "Epoch 48/50, Train Loss: 1.4762, Val Loss: 1.4934, Train Accuracy: 0.4400, Validation Accuracy: 0.4120\n"
     ]
    },
    {
     "name": "stderr",
     "output_type": "stream",
     "text": [
      " 98%|█████████▊| 49/50 [00:22<00:00,  2.25it/s]"
     ]
    },
    {
     "name": "stdout",
     "output_type": "stream",
     "text": [
      "Epoch 49/50, Train Loss: 1.4771, Val Loss: 1.4932, Train Accuracy: 0.4400, Validation Accuracy: 0.4120\n"
     ]
    },
    {
     "name": "stderr",
     "output_type": "stream",
     "text": [
      "100%|██████████| 50/50 [00:23<00:00,  2.17it/s]"
     ]
    },
    {
     "name": "stdout",
     "output_type": "stream",
     "text": [
      "Epoch 50/50, Train Loss: 1.4782, Val Loss: 1.4930, Train Accuracy: 0.4400, Validation Accuracy: 0.4120\n",
      "Time taken for the model to run finish: 23.06 seconds\n",
      "Time taken to run finish the test: 0.01 seconds\n",
      "Test Accuracy: 0.4060\n"
     ]
    },
    {
     "name": "stderr",
     "output_type": "stream",
     "text": [
      "\n",
      "  2%|▏         | 1/50 [00:00<00:23,  2.09it/s]"
     ]
    },
    {
     "name": "stdout",
     "output_type": "stream",
     "text": [
      "Epoch 1/50, Train Loss: 1.4868, Val Loss: 1.4920, Train Accuracy: 0.4299, Validation Accuracy: 0.4120\n"
     ]
    },
    {
     "name": "stderr",
     "output_type": "stream",
     "text": [
      "  4%|▍         | 2/50 [00:00<00:22,  2.14it/s]"
     ]
    },
    {
     "name": "stdout",
     "output_type": "stream",
     "text": [
      "Epoch 2/50, Train Loss: 1.4752, Val Loss: 1.4908, Train Accuracy: 0.4400, Validation Accuracy: 0.4120\n"
     ]
    },
    {
     "name": "stderr",
     "output_type": "stream",
     "text": [
      "  6%|▌         | 3/50 [00:01<00:21,  2.19it/s]"
     ]
    },
    {
     "name": "stdout",
     "output_type": "stream",
     "text": [
      "Epoch 3/50, Train Loss: 1.4766, Val Loss: 1.4952, Train Accuracy: 0.4400, Validation Accuracy: 0.4120\n"
     ]
    },
    {
     "name": "stderr",
     "output_type": "stream",
     "text": [
      "  8%|▊         | 4/50 [00:01<00:20,  2.23it/s]"
     ]
    },
    {
     "name": "stdout",
     "output_type": "stream",
     "text": [
      "Epoch 4/50, Train Loss: 1.4740, Val Loss: 1.4926, Train Accuracy: 0.4400, Validation Accuracy: 0.4120\n"
     ]
    },
    {
     "name": "stderr",
     "output_type": "stream",
     "text": [
      " 10%|█         | 5/50 [00:02<00:20,  2.25it/s]"
     ]
    },
    {
     "name": "stdout",
     "output_type": "stream",
     "text": [
      "Epoch 5/50, Train Loss: 1.4785, Val Loss: 1.4924, Train Accuracy: 0.4400, Validation Accuracy: 0.4120\n"
     ]
    },
    {
     "name": "stderr",
     "output_type": "stream",
     "text": [
      " 12%|█▏        | 6/50 [00:02<00:19,  2.26it/s]"
     ]
    },
    {
     "name": "stdout",
     "output_type": "stream",
     "text": [
      "Epoch 6/50, Train Loss: 1.4747, Val Loss: 1.4936, Train Accuracy: 0.4400, Validation Accuracy: 0.4120\n"
     ]
    },
    {
     "name": "stderr",
     "output_type": "stream",
     "text": [
      " 14%|█▍        | 7/50 [00:03<00:18,  2.27it/s]"
     ]
    },
    {
     "name": "stdout",
     "output_type": "stream",
     "text": [
      "Epoch 7/50, Train Loss: 1.4780, Val Loss: 1.4934, Train Accuracy: 0.4400, Validation Accuracy: 0.4120\n"
     ]
    },
    {
     "name": "stderr",
     "output_type": "stream",
     "text": [
      " 16%|█▌        | 8/50 [00:03<00:20,  2.01it/s]"
     ]
    },
    {
     "name": "stdout",
     "output_type": "stream",
     "text": [
      "Epoch 8/50, Train Loss: 1.4734, Val Loss: 1.4936, Train Accuracy: 0.4400, Validation Accuracy: 0.4120\n"
     ]
    },
    {
     "name": "stderr",
     "output_type": "stream",
     "text": [
      " 18%|█▊        | 9/50 [00:04<00:19,  2.07it/s]"
     ]
    },
    {
     "name": "stdout",
     "output_type": "stream",
     "text": [
      "Epoch 9/50, Train Loss: 1.4763, Val Loss: 1.4918, Train Accuracy: 0.4400, Validation Accuracy: 0.4120\n"
     ]
    },
    {
     "name": "stderr",
     "output_type": "stream",
     "text": [
      " 20%|██        | 10/50 [00:04<00:21,  1.89it/s]"
     ]
    },
    {
     "name": "stdout",
     "output_type": "stream",
     "text": [
      "Epoch 10/50, Train Loss: 1.4744, Val Loss: 1.4932, Train Accuracy: 0.4400, Validation Accuracy: 0.4120\n"
     ]
    },
    {
     "name": "stderr",
     "output_type": "stream",
     "text": [
      " 22%|██▏       | 11/50 [00:05<00:21,  1.84it/s]"
     ]
    },
    {
     "name": "stdout",
     "output_type": "stream",
     "text": [
      "Epoch 11/50, Train Loss: 1.4778, Val Loss: 1.4948, Train Accuracy: 0.4400, Validation Accuracy: 0.4120\n"
     ]
    },
    {
     "name": "stderr",
     "output_type": "stream",
     "text": [
      " 24%|██▍       | 12/50 [00:05<00:20,  1.85it/s]"
     ]
    },
    {
     "name": "stdout",
     "output_type": "stream",
     "text": [
      "Epoch 12/50, Train Loss: 1.4741, Val Loss: 1.4934, Train Accuracy: 0.4400, Validation Accuracy: 0.4120\n"
     ]
    },
    {
     "name": "stderr",
     "output_type": "stream",
     "text": [
      " 26%|██▌       | 13/50 [00:06<00:19,  1.91it/s]"
     ]
    },
    {
     "name": "stdout",
     "output_type": "stream",
     "text": [
      "Epoch 13/50, Train Loss: 1.4765, Val Loss: 1.4924, Train Accuracy: 0.4400, Validation Accuracy: 0.4120\n"
     ]
    },
    {
     "name": "stderr",
     "output_type": "stream",
     "text": [
      " 28%|██▊       | 14/50 [00:06<00:18,  1.95it/s]"
     ]
    },
    {
     "name": "stdout",
     "output_type": "stream",
     "text": [
      "Epoch 14/50, Train Loss: 1.4731, Val Loss: 1.4910, Train Accuracy: 0.4400, Validation Accuracy: 0.4120\n"
     ]
    },
    {
     "name": "stderr",
     "output_type": "stream",
     "text": [
      " 30%|███       | 15/50 [00:07<00:17,  1.99it/s]"
     ]
    },
    {
     "name": "stdout",
     "output_type": "stream",
     "text": [
      "Epoch 15/50, Train Loss: 1.4786, Val Loss: 1.4920, Train Accuracy: 0.4400, Validation Accuracy: 0.4120\n"
     ]
    },
    {
     "name": "stderr",
     "output_type": "stream",
     "text": [
      " 32%|███▏      | 16/50 [00:08<00:19,  1.77it/s]"
     ]
    },
    {
     "name": "stdout",
     "output_type": "stream",
     "text": [
      "Epoch 16/50, Train Loss: 1.4755, Val Loss: 1.4928, Train Accuracy: 0.4400, Validation Accuracy: 0.4120\n"
     ]
    },
    {
     "name": "stderr",
     "output_type": "stream",
     "text": [
      " 34%|███▍      | 17/50 [00:08<00:19,  1.67it/s]"
     ]
    },
    {
     "name": "stdout",
     "output_type": "stream",
     "text": [
      "Epoch 17/50, Train Loss: 1.4729, Val Loss: 1.4938, Train Accuracy: 0.4400, Validation Accuracy: 0.4120\n"
     ]
    },
    {
     "name": "stderr",
     "output_type": "stream",
     "text": [
      " 36%|███▌      | 18/50 [00:09<00:19,  1.64it/s]"
     ]
    },
    {
     "name": "stdout",
     "output_type": "stream",
     "text": [
      "Epoch 18/50, Train Loss: 1.4792, Val Loss: 1.4930, Train Accuracy: 0.4400, Validation Accuracy: 0.4120\n"
     ]
    },
    {
     "name": "stderr",
     "output_type": "stream",
     "text": [
      " 38%|███▊      | 19/50 [00:10<00:19,  1.62it/s]"
     ]
    },
    {
     "name": "stdout",
     "output_type": "stream",
     "text": [
      "Epoch 19/50, Train Loss: 1.4751, Val Loss: 1.4908, Train Accuracy: 0.4400, Validation Accuracy: 0.4120\n"
     ]
    },
    {
     "name": "stderr",
     "output_type": "stream",
     "text": [
      " 40%|████      | 20/50 [00:10<00:17,  1.69it/s]"
     ]
    },
    {
     "name": "stdout",
     "output_type": "stream",
     "text": [
      "Epoch 20/50, Train Loss: 1.4750, Val Loss: 1.4928, Train Accuracy: 0.4400, Validation Accuracy: 0.4120\n"
     ]
    },
    {
     "name": "stderr",
     "output_type": "stream",
     "text": [
      " 42%|████▏     | 21/50 [00:11<00:17,  1.68it/s]"
     ]
    },
    {
     "name": "stdout",
     "output_type": "stream",
     "text": [
      "Epoch 21/50, Train Loss: 1.4765, Val Loss: 1.4940, Train Accuracy: 0.4400, Validation Accuracy: 0.4120\n"
     ]
    },
    {
     "name": "stderr",
     "output_type": "stream",
     "text": [
      " 44%|████▍     | 22/50 [00:11<00:15,  1.81it/s]"
     ]
    },
    {
     "name": "stdout",
     "output_type": "stream",
     "text": [
      "Epoch 22/50, Train Loss: 1.4772, Val Loss: 1.4924, Train Accuracy: 0.4400, Validation Accuracy: 0.4120\n"
     ]
    },
    {
     "name": "stderr",
     "output_type": "stream",
     "text": [
      " 46%|████▌     | 23/50 [00:12<00:14,  1.92it/s]"
     ]
    },
    {
     "name": "stdout",
     "output_type": "stream",
     "text": [
      "Epoch 23/50, Train Loss: 1.4762, Val Loss: 1.4920, Train Accuracy: 0.4400, Validation Accuracy: 0.4120\n"
     ]
    },
    {
     "name": "stderr",
     "output_type": "stream",
     "text": [
      " 48%|████▊     | 24/50 [00:12<00:13,  2.00it/s]"
     ]
    },
    {
     "name": "stdout",
     "output_type": "stream",
     "text": [
      "Epoch 24/50, Train Loss: 1.4756, Val Loss: 1.4926, Train Accuracy: 0.4400, Validation Accuracy: 0.4120\n"
     ]
    },
    {
     "name": "stderr",
     "output_type": "stream",
     "text": [
      " 50%|█████     | 25/50 [00:12<00:12,  2.07it/s]"
     ]
    },
    {
     "name": "stdout",
     "output_type": "stream",
     "text": [
      "Epoch 25/50, Train Loss: 1.4783, Val Loss: 1.4918, Train Accuracy: 0.4400, Validation Accuracy: 0.4120\n"
     ]
    },
    {
     "name": "stderr",
     "output_type": "stream",
     "text": [
      " 52%|█████▏    | 26/50 [00:13<00:11,  2.11it/s]"
     ]
    },
    {
     "name": "stdout",
     "output_type": "stream",
     "text": [
      "Epoch 26/50, Train Loss: 1.4767, Val Loss: 1.4930, Train Accuracy: 0.4400, Validation Accuracy: 0.4120\n"
     ]
    },
    {
     "name": "stderr",
     "output_type": "stream",
     "text": [
      " 54%|█████▍    | 27/50 [00:13<00:10,  2.15it/s]"
     ]
    },
    {
     "name": "stdout",
     "output_type": "stream",
     "text": [
      "Epoch 27/50, Train Loss: 1.4787, Val Loss: 1.4926, Train Accuracy: 0.4400, Validation Accuracy: 0.4120\n"
     ]
    },
    {
     "name": "stderr",
     "output_type": "stream",
     "text": [
      " 56%|█████▌    | 28/50 [00:14<00:10,  2.18it/s]"
     ]
    },
    {
     "name": "stdout",
     "output_type": "stream",
     "text": [
      "Epoch 28/50, Train Loss: 1.4778, Val Loss: 1.4924, Train Accuracy: 0.4400, Validation Accuracy: 0.4120\n"
     ]
    },
    {
     "name": "stderr",
     "output_type": "stream",
     "text": [
      " 58%|█████▊    | 29/50 [00:14<00:09,  2.20it/s]"
     ]
    },
    {
     "name": "stdout",
     "output_type": "stream",
     "text": [
      "Epoch 29/50, Train Loss: 1.4768, Val Loss: 1.4930, Train Accuracy: 0.4400, Validation Accuracy: 0.4120\n"
     ]
    },
    {
     "name": "stderr",
     "output_type": "stream",
     "text": [
      " 60%|██████    | 30/50 [00:15<00:09,  2.22it/s]"
     ]
    },
    {
     "name": "stdout",
     "output_type": "stream",
     "text": [
      "Epoch 30/50, Train Loss: 1.4736, Val Loss: 1.4906, Train Accuracy: 0.4400, Validation Accuracy: 0.4120\n"
     ]
    },
    {
     "name": "stderr",
     "output_type": "stream",
     "text": [
      " 62%|██████▏   | 31/50 [00:15<00:08,  2.22it/s]"
     ]
    },
    {
     "name": "stdout",
     "output_type": "stream",
     "text": [
      "Epoch 31/50, Train Loss: 1.4756, Val Loss: 1.4920, Train Accuracy: 0.4400, Validation Accuracy: 0.4120\n"
     ]
    },
    {
     "name": "stderr",
     "output_type": "stream",
     "text": [
      " 64%|██████▍   | 32/50 [00:16<00:08,  2.23it/s]"
     ]
    },
    {
     "name": "stdout",
     "output_type": "stream",
     "text": [
      "Epoch 32/50, Train Loss: 1.4738, Val Loss: 1.4942, Train Accuracy: 0.4400, Validation Accuracy: 0.4120\n"
     ]
    },
    {
     "name": "stderr",
     "output_type": "stream",
     "text": [
      " 66%|██████▌   | 33/50 [00:16<00:07,  2.23it/s]"
     ]
    },
    {
     "name": "stdout",
     "output_type": "stream",
     "text": [
      "Epoch 33/50, Train Loss: 1.4728, Val Loss: 1.4928, Train Accuracy: 0.4400, Validation Accuracy: 0.4120\n"
     ]
    },
    {
     "name": "stderr",
     "output_type": "stream",
     "text": [
      " 68%|██████▊   | 34/50 [00:17<00:07,  2.23it/s]"
     ]
    },
    {
     "name": "stdout",
     "output_type": "stream",
     "text": [
      "Epoch 34/50, Train Loss: 1.4767, Val Loss: 1.4926, Train Accuracy: 0.4400, Validation Accuracy: 0.4120\n"
     ]
    },
    {
     "name": "stderr",
     "output_type": "stream",
     "text": [
      " 70%|███████   | 35/50 [00:17<00:06,  2.24it/s]"
     ]
    },
    {
     "name": "stdout",
     "output_type": "stream",
     "text": [
      "Epoch 35/50, Train Loss: 1.4760, Val Loss: 1.4926, Train Accuracy: 0.4400, Validation Accuracy: 0.4120\n"
     ]
    },
    {
     "name": "stderr",
     "output_type": "stream",
     "text": [
      " 72%|███████▏  | 36/50 [00:17<00:06,  2.22it/s]"
     ]
    },
    {
     "name": "stdout",
     "output_type": "stream",
     "text": [
      "Epoch 36/50, Train Loss: 1.4758, Val Loss: 1.4938, Train Accuracy: 0.4400, Validation Accuracy: 0.4120\n"
     ]
    },
    {
     "name": "stderr",
     "output_type": "stream",
     "text": [
      " 74%|███████▍  | 37/50 [00:18<00:05,  2.20it/s]"
     ]
    },
    {
     "name": "stdout",
     "output_type": "stream",
     "text": [
      "Epoch 37/50, Train Loss: 1.4774, Val Loss: 1.4930, Train Accuracy: 0.4400, Validation Accuracy: 0.4120\n"
     ]
    },
    {
     "name": "stderr",
     "output_type": "stream",
     "text": [
      " 76%|███████▌  | 38/50 [00:18<00:05,  2.21it/s]"
     ]
    },
    {
     "name": "stdout",
     "output_type": "stream",
     "text": [
      "Epoch 38/50, Train Loss: 1.4748, Val Loss: 1.4916, Train Accuracy: 0.4400, Validation Accuracy: 0.4120\n"
     ]
    },
    {
     "name": "stderr",
     "output_type": "stream",
     "text": [
      " 78%|███████▊  | 39/50 [00:19<00:04,  2.22it/s]"
     ]
    },
    {
     "name": "stdout",
     "output_type": "stream",
     "text": [
      "Epoch 39/50, Train Loss: 1.4761, Val Loss: 1.4938, Train Accuracy: 0.4400, Validation Accuracy: 0.4120\n"
     ]
    },
    {
     "name": "stderr",
     "output_type": "stream",
     "text": [
      " 80%|████████  | 40/50 [00:19<00:04,  2.24it/s]"
     ]
    },
    {
     "name": "stdout",
     "output_type": "stream",
     "text": [
      "Epoch 40/50, Train Loss: 1.4801, Val Loss: 1.4922, Train Accuracy: 0.4400, Validation Accuracy: 0.4120\n"
     ]
    },
    {
     "name": "stderr",
     "output_type": "stream",
     "text": [
      " 82%|████████▏ | 41/50 [00:20<00:04,  2.24it/s]"
     ]
    },
    {
     "name": "stdout",
     "output_type": "stream",
     "text": [
      "Epoch 41/50, Train Loss: 1.4754, Val Loss: 1.4932, Train Accuracy: 0.4400, Validation Accuracy: 0.4120\n"
     ]
    },
    {
     "name": "stderr",
     "output_type": "stream",
     "text": [
      " 84%|████████▍ | 42/50 [00:20<00:03,  2.24it/s]"
     ]
    },
    {
     "name": "stdout",
     "output_type": "stream",
     "text": [
      "Epoch 42/50, Train Loss: 1.4746, Val Loss: 1.4932, Train Accuracy: 0.4400, Validation Accuracy: 0.4120\n"
     ]
    },
    {
     "name": "stderr",
     "output_type": "stream",
     "text": [
      " 86%|████████▌ | 43/50 [00:21<00:03,  2.24it/s]"
     ]
    },
    {
     "name": "stdout",
     "output_type": "stream",
     "text": [
      "Epoch 43/50, Train Loss: 1.4779, Val Loss: 1.4930, Train Accuracy: 0.4400, Validation Accuracy: 0.4120\n"
     ]
    },
    {
     "name": "stderr",
     "output_type": "stream",
     "text": [
      " 88%|████████▊ | 44/50 [00:21<00:02,  2.24it/s]"
     ]
    },
    {
     "name": "stdout",
     "output_type": "stream",
     "text": [
      "Epoch 44/50, Train Loss: 1.4746, Val Loss: 1.4924, Train Accuracy: 0.4400, Validation Accuracy: 0.4120\n"
     ]
    },
    {
     "name": "stderr",
     "output_type": "stream",
     "text": [
      " 90%|█████████ | 45/50 [00:21<00:02,  2.25it/s]"
     ]
    },
    {
     "name": "stdout",
     "output_type": "stream",
     "text": [
      "Epoch 45/50, Train Loss: 1.4752, Val Loss: 1.4940, Train Accuracy: 0.4400, Validation Accuracy: 0.4120\n"
     ]
    },
    {
     "name": "stderr",
     "output_type": "stream",
     "text": [
      " 92%|█████████▏| 46/50 [00:22<00:01,  2.25it/s]"
     ]
    },
    {
     "name": "stdout",
     "output_type": "stream",
     "text": [
      "Epoch 46/50, Train Loss: 1.4768, Val Loss: 1.4922, Train Accuracy: 0.4400, Validation Accuracy: 0.4120\n"
     ]
    },
    {
     "name": "stderr",
     "output_type": "stream",
     "text": [
      " 94%|█████████▍| 47/50 [00:22<00:01,  2.24it/s]"
     ]
    },
    {
     "name": "stdout",
     "output_type": "stream",
     "text": [
      "Epoch 47/50, Train Loss: 1.4747, Val Loss: 1.4928, Train Accuracy: 0.4400, Validation Accuracy: 0.4120\n"
     ]
    },
    {
     "name": "stderr",
     "output_type": "stream",
     "text": [
      " 96%|█████████▌| 48/50 [00:23<00:00,  2.24it/s]"
     ]
    },
    {
     "name": "stdout",
     "output_type": "stream",
     "text": [
      "Epoch 48/50, Train Loss: 1.4745, Val Loss: 1.4934, Train Accuracy: 0.4400, Validation Accuracy: 0.4120\n"
     ]
    },
    {
     "name": "stderr",
     "output_type": "stream",
     "text": [
      " 98%|█████████▊| 49/50 [00:23<00:00,  2.25it/s]"
     ]
    },
    {
     "name": "stdout",
     "output_type": "stream",
     "text": [
      "Epoch 49/50, Train Loss: 1.4771, Val Loss: 1.4932, Train Accuracy: 0.4400, Validation Accuracy: 0.4120\n"
     ]
    },
    {
     "name": "stderr",
     "output_type": "stream",
     "text": [
      "100%|██████████| 50/50 [00:24<00:00,  2.07it/s]"
     ]
    },
    {
     "name": "stdout",
     "output_type": "stream",
     "text": [
      "Epoch 50/50, Train Loss: 1.4780, Val Loss: 1.4930, Train Accuracy: 0.4400, Validation Accuracy: 0.4120\n",
      "Time taken for the model to run finish: 24.17 seconds\n",
      "Time taken to run finish the test: 0.01 seconds\n",
      "Test Accuracy: 0.4060\n"
     ]
    },
    {
     "name": "stderr",
     "output_type": "stream",
     "text": [
      "\n",
      "  2%|▏         | 1/50 [00:00<00:23,  2.05it/s]"
     ]
    },
    {
     "name": "stdout",
     "output_type": "stream",
     "text": [
      "Epoch 1/50, Train Loss: 1.4884, Val Loss: 1.4920, Train Accuracy: 0.4227, Validation Accuracy: 0.4120\n"
     ]
    },
    {
     "name": "stderr",
     "output_type": "stream",
     "text": [
      "  4%|▍         | 2/50 [00:00<00:22,  2.17it/s]"
     ]
    },
    {
     "name": "stdout",
     "output_type": "stream",
     "text": [
      "Epoch 2/50, Train Loss: 1.4789, Val Loss: 1.4908, Train Accuracy: 0.4400, Validation Accuracy: 0.4120\n"
     ]
    },
    {
     "name": "stderr",
     "output_type": "stream",
     "text": [
      "  6%|▌         | 3/50 [00:01<00:21,  2.21it/s]"
     ]
    },
    {
     "name": "stdout",
     "output_type": "stream",
     "text": [
      "Epoch 3/50, Train Loss: 1.4736, Val Loss: 1.4952, Train Accuracy: 0.4400, Validation Accuracy: 0.4120\n"
     ]
    },
    {
     "name": "stderr",
     "output_type": "stream",
     "text": [
      "  8%|▊         | 4/50 [00:01<00:20,  2.24it/s]"
     ]
    },
    {
     "name": "stdout",
     "output_type": "stream",
     "text": [
      "Epoch 4/50, Train Loss: 1.4759, Val Loss: 1.4926, Train Accuracy: 0.4400, Validation Accuracy: 0.4120\n"
     ]
    },
    {
     "name": "stderr",
     "output_type": "stream",
     "text": [
      " 10%|█         | 5/50 [00:02<00:20,  2.25it/s]"
     ]
    },
    {
     "name": "stdout",
     "output_type": "stream",
     "text": [
      "Epoch 5/50, Train Loss: 1.4754, Val Loss: 1.4924, Train Accuracy: 0.4400, Validation Accuracy: 0.4120\n"
     ]
    },
    {
     "name": "stderr",
     "output_type": "stream",
     "text": [
      " 12%|█▏        | 6/50 [00:02<00:19,  2.23it/s]"
     ]
    },
    {
     "name": "stdout",
     "output_type": "stream",
     "text": [
      "Epoch 6/50, Train Loss: 1.4761, Val Loss: 1.4936, Train Accuracy: 0.4400, Validation Accuracy: 0.4120\n"
     ]
    },
    {
     "name": "stderr",
     "output_type": "stream",
     "text": [
      " 14%|█▍        | 7/50 [00:03<00:19,  2.25it/s]"
     ]
    },
    {
     "name": "stdout",
     "output_type": "stream",
     "text": [
      "Epoch 7/50, Train Loss: 1.4757, Val Loss: 1.4934, Train Accuracy: 0.4400, Validation Accuracy: 0.4120\n"
     ]
    },
    {
     "name": "stderr",
     "output_type": "stream",
     "text": [
      " 16%|█▌        | 8/50 [00:03<00:18,  2.22it/s]"
     ]
    },
    {
     "name": "stdout",
     "output_type": "stream",
     "text": [
      "Epoch 8/50, Train Loss: 1.4772, Val Loss: 1.4936, Train Accuracy: 0.4400, Validation Accuracy: 0.4120\n"
     ]
    },
    {
     "name": "stderr",
     "output_type": "stream",
     "text": [
      " 18%|█▊        | 9/50 [00:04<00:18,  2.23it/s]"
     ]
    },
    {
     "name": "stdout",
     "output_type": "stream",
     "text": [
      "Epoch 9/50, Train Loss: 1.4729, Val Loss: 1.4918, Train Accuracy: 0.4400, Validation Accuracy: 0.4120\n"
     ]
    },
    {
     "name": "stderr",
     "output_type": "stream",
     "text": [
      " 20%|██        | 10/50 [00:04<00:17,  2.24it/s]"
     ]
    },
    {
     "name": "stdout",
     "output_type": "stream",
     "text": [
      "Epoch 10/50, Train Loss: 1.4781, Val Loss: 1.4932, Train Accuracy: 0.4400, Validation Accuracy: 0.4120\n"
     ]
    },
    {
     "name": "stderr",
     "output_type": "stream",
     "text": [
      " 22%|██▏       | 11/50 [00:04<00:17,  2.26it/s]"
     ]
    },
    {
     "name": "stdout",
     "output_type": "stream",
     "text": [
      "Epoch 11/50, Train Loss: 1.4760, Val Loss: 1.4948, Train Accuracy: 0.4400, Validation Accuracy: 0.4120\n"
     ]
    },
    {
     "name": "stderr",
     "output_type": "stream",
     "text": [
      " 24%|██▍       | 12/50 [00:05<00:16,  2.26it/s]"
     ]
    },
    {
     "name": "stdout",
     "output_type": "stream",
     "text": [
      "Epoch 12/50, Train Loss: 1.4772, Val Loss: 1.4934, Train Accuracy: 0.4400, Validation Accuracy: 0.4120\n"
     ]
    },
    {
     "name": "stderr",
     "output_type": "stream",
     "text": [
      " 26%|██▌       | 13/50 [00:05<00:16,  2.23it/s]"
     ]
    },
    {
     "name": "stdout",
     "output_type": "stream",
     "text": [
      "Epoch 13/50, Train Loss: 1.4723, Val Loss: 1.4924, Train Accuracy: 0.4400, Validation Accuracy: 0.4120\n"
     ]
    },
    {
     "name": "stderr",
     "output_type": "stream",
     "text": [
      " 28%|██▊       | 14/50 [00:06<00:16,  2.24it/s]"
     ]
    },
    {
     "name": "stdout",
     "output_type": "stream",
     "text": [
      "Epoch 14/50, Train Loss: 1.4780, Val Loss: 1.4910, Train Accuracy: 0.4400, Validation Accuracy: 0.4120\n"
     ]
    },
    {
     "name": "stderr",
     "output_type": "stream",
     "text": [
      " 30%|███       | 15/50 [00:06<00:15,  2.24it/s]"
     ]
    },
    {
     "name": "stdout",
     "output_type": "stream",
     "text": [
      "Epoch 15/50, Train Loss: 1.4724, Val Loss: 1.4920, Train Accuracy: 0.4400, Validation Accuracy: 0.4120\n"
     ]
    },
    {
     "name": "stderr",
     "output_type": "stream",
     "text": [
      " 32%|███▏      | 16/50 [00:07<00:15,  2.24it/s]"
     ]
    },
    {
     "name": "stdout",
     "output_type": "stream",
     "text": [
      "Epoch 16/50, Train Loss: 1.4743, Val Loss: 1.4928, Train Accuracy: 0.4400, Validation Accuracy: 0.4120\n"
     ]
    },
    {
     "name": "stderr",
     "output_type": "stream",
     "text": [
      " 34%|███▍      | 17/50 [00:07<00:14,  2.23it/s]"
     ]
    },
    {
     "name": "stdout",
     "output_type": "stream",
     "text": [
      "Epoch 17/50, Train Loss: 1.4729, Val Loss: 1.4938, Train Accuracy: 0.4400, Validation Accuracy: 0.4120\n"
     ]
    },
    {
     "name": "stderr",
     "output_type": "stream",
     "text": [
      " 36%|███▌      | 18/50 [00:08<00:14,  2.23it/s]"
     ]
    },
    {
     "name": "stdout",
     "output_type": "stream",
     "text": [
      "Epoch 18/50, Train Loss: 1.4758, Val Loss: 1.4930, Train Accuracy: 0.4400, Validation Accuracy: 0.4120\n"
     ]
    },
    {
     "name": "stderr",
     "output_type": "stream",
     "text": [
      " 38%|███▊      | 19/50 [00:08<00:13,  2.25it/s]"
     ]
    },
    {
     "name": "stdout",
     "output_type": "stream",
     "text": [
      "Epoch 19/50, Train Loss: 1.4744, Val Loss: 1.4908, Train Accuracy: 0.4400, Validation Accuracy: 0.4120\n"
     ]
    },
    {
     "name": "stderr",
     "output_type": "stream",
     "text": [
      " 40%|████      | 20/50 [00:08<00:13,  2.25it/s]"
     ]
    },
    {
     "name": "stdout",
     "output_type": "stream",
     "text": [
      "Epoch 20/50, Train Loss: 1.4767, Val Loss: 1.4928, Train Accuracy: 0.4400, Validation Accuracy: 0.4120\n"
     ]
    },
    {
     "name": "stderr",
     "output_type": "stream",
     "text": [
      " 42%|████▏     | 21/50 [00:09<00:12,  2.24it/s]"
     ]
    },
    {
     "name": "stdout",
     "output_type": "stream",
     "text": [
      "Epoch 21/50, Train Loss: 1.4755, Val Loss: 1.4940, Train Accuracy: 0.4400, Validation Accuracy: 0.4120\n"
     ]
    },
    {
     "name": "stderr",
     "output_type": "stream",
     "text": [
      " 44%|████▍     | 22/50 [00:09<00:12,  2.23it/s]"
     ]
    },
    {
     "name": "stdout",
     "output_type": "stream",
     "text": [
      "Epoch 22/50, Train Loss: 1.4774, Val Loss: 1.4924, Train Accuracy: 0.4400, Validation Accuracy: 0.4120\n"
     ]
    },
    {
     "name": "stderr",
     "output_type": "stream",
     "text": [
      " 46%|████▌     | 23/50 [00:10<00:11,  2.26it/s]"
     ]
    },
    {
     "name": "stdout",
     "output_type": "stream",
     "text": [
      "Epoch 23/50, Train Loss: 1.4761, Val Loss: 1.4920, Train Accuracy: 0.4400, Validation Accuracy: 0.4120\n"
     ]
    },
    {
     "name": "stderr",
     "output_type": "stream",
     "text": [
      " 48%|████▊     | 24/50 [00:10<00:11,  2.28it/s]"
     ]
    },
    {
     "name": "stdout",
     "output_type": "stream",
     "text": [
      "Epoch 24/50, Train Loss: 1.4753, Val Loss: 1.4926, Train Accuracy: 0.4400, Validation Accuracy: 0.4120\n"
     ]
    },
    {
     "name": "stderr",
     "output_type": "stream",
     "text": [
      " 50%|█████     | 25/50 [00:11<00:11,  2.24it/s]"
     ]
    },
    {
     "name": "stdout",
     "output_type": "stream",
     "text": [
      "Epoch 25/50, Train Loss: 1.4744, Val Loss: 1.4918, Train Accuracy: 0.4400, Validation Accuracy: 0.4120\n"
     ]
    },
    {
     "name": "stderr",
     "output_type": "stream",
     "text": [
      " 52%|█████▏    | 26/50 [00:11<00:10,  2.20it/s]"
     ]
    },
    {
     "name": "stdout",
     "output_type": "stream",
     "text": [
      "Epoch 26/50, Train Loss: 1.4770, Val Loss: 1.4930, Train Accuracy: 0.4400, Validation Accuracy: 0.4120\n"
     ]
    },
    {
     "name": "stderr",
     "output_type": "stream",
     "text": [
      " 54%|█████▍    | 27/50 [00:12<00:10,  2.19it/s]"
     ]
    },
    {
     "name": "stdout",
     "output_type": "stream",
     "text": [
      "Epoch 27/50, Train Loss: 1.4764, Val Loss: 1.4926, Train Accuracy: 0.4400, Validation Accuracy: 0.4120\n"
     ]
    },
    {
     "name": "stderr",
     "output_type": "stream",
     "text": [
      " 56%|█████▌    | 28/50 [00:12<00:10,  2.19it/s]"
     ]
    },
    {
     "name": "stdout",
     "output_type": "stream",
     "text": [
      "Epoch 28/50, Train Loss: 1.4749, Val Loss: 1.4924, Train Accuracy: 0.4400, Validation Accuracy: 0.4120\n"
     ]
    },
    {
     "name": "stderr",
     "output_type": "stream",
     "text": [
      " 58%|█████▊    | 29/50 [00:13<00:09,  2.20it/s]"
     ]
    },
    {
     "name": "stdout",
     "output_type": "stream",
     "text": [
      "Epoch 29/50, Train Loss: 1.4765, Val Loss: 1.4930, Train Accuracy: 0.4400, Validation Accuracy: 0.4120\n"
     ]
    },
    {
     "name": "stderr",
     "output_type": "stream",
     "text": [
      " 60%|██████    | 30/50 [00:13<00:09,  2.21it/s]"
     ]
    },
    {
     "name": "stdout",
     "output_type": "stream",
     "text": [
      "Epoch 30/50, Train Loss: 1.4746, Val Loss: 1.4906, Train Accuracy: 0.4400, Validation Accuracy: 0.4120\n"
     ]
    },
    {
     "name": "stderr",
     "output_type": "stream",
     "text": [
      " 62%|██████▏   | 31/50 [00:13<00:08,  2.23it/s]"
     ]
    },
    {
     "name": "stdout",
     "output_type": "stream",
     "text": [
      "Epoch 31/50, Train Loss: 1.4759, Val Loss: 1.4920, Train Accuracy: 0.4400, Validation Accuracy: 0.4120\n"
     ]
    },
    {
     "name": "stderr",
     "output_type": "stream",
     "text": [
      " 64%|██████▍   | 32/50 [00:14<00:07,  2.25it/s]"
     ]
    },
    {
     "name": "stdout",
     "output_type": "stream",
     "text": [
      "Epoch 32/50, Train Loss: 1.4766, Val Loss: 1.4942, Train Accuracy: 0.4400, Validation Accuracy: 0.4120\n"
     ]
    },
    {
     "name": "stderr",
     "output_type": "stream",
     "text": [
      " 66%|██████▌   | 33/50 [00:14<00:07,  2.28it/s]"
     ]
    },
    {
     "name": "stdout",
     "output_type": "stream",
     "text": [
      "Epoch 33/50, Train Loss: 1.4800, Val Loss: 1.4928, Train Accuracy: 0.4400, Validation Accuracy: 0.4120\n"
     ]
    },
    {
     "name": "stderr",
     "output_type": "stream",
     "text": [
      " 68%|██████▊   | 34/50 [00:15<00:07,  2.27it/s]"
     ]
    },
    {
     "name": "stdout",
     "output_type": "stream",
     "text": [
      "Epoch 34/50, Train Loss: 1.4773, Val Loss: 1.4926, Train Accuracy: 0.4400, Validation Accuracy: 0.4120\n"
     ]
    },
    {
     "name": "stderr",
     "output_type": "stream",
     "text": [
      " 70%|███████   | 35/50 [00:15<00:06,  2.28it/s]"
     ]
    },
    {
     "name": "stdout",
     "output_type": "stream",
     "text": [
      "Epoch 35/50, Train Loss: 1.4779, Val Loss: 1.4926, Train Accuracy: 0.4400, Validation Accuracy: 0.4120\n"
     ]
    },
    {
     "name": "stderr",
     "output_type": "stream",
     "text": [
      " 72%|███████▏  | 36/50 [00:16<00:06,  2.29it/s]"
     ]
    },
    {
     "name": "stdout",
     "output_type": "stream",
     "text": [
      "Epoch 36/50, Train Loss: 1.4770, Val Loss: 1.4938, Train Accuracy: 0.4400, Validation Accuracy: 0.4120\n"
     ]
    },
    {
     "name": "stderr",
     "output_type": "stream",
     "text": [
      " 74%|███████▍  | 37/50 [00:16<00:05,  2.29it/s]"
     ]
    },
    {
     "name": "stdout",
     "output_type": "stream",
     "text": [
      "Epoch 37/50, Train Loss: 1.4762, Val Loss: 1.4930, Train Accuracy: 0.4400, Validation Accuracy: 0.4120\n"
     ]
    },
    {
     "name": "stderr",
     "output_type": "stream",
     "text": [
      " 76%|███████▌  | 38/50 [00:16<00:05,  2.28it/s]"
     ]
    },
    {
     "name": "stdout",
     "output_type": "stream",
     "text": [
      "Epoch 38/50, Train Loss: 1.4768, Val Loss: 1.4916, Train Accuracy: 0.4400, Validation Accuracy: 0.4120\n"
     ]
    },
    {
     "name": "stderr",
     "output_type": "stream",
     "text": [
      " 78%|███████▊  | 39/50 [00:17<00:04,  2.29it/s]"
     ]
    },
    {
     "name": "stdout",
     "output_type": "stream",
     "text": [
      "Epoch 39/50, Train Loss: 1.4760, Val Loss: 1.4938, Train Accuracy: 0.4400, Validation Accuracy: 0.4120\n"
     ]
    },
    {
     "name": "stderr",
     "output_type": "stream",
     "text": [
      " 80%|████████  | 40/50 [00:17<00:04,  2.29it/s]"
     ]
    },
    {
     "name": "stdout",
     "output_type": "stream",
     "text": [
      "Epoch 40/50, Train Loss: 1.4753, Val Loss: 1.4922, Train Accuracy: 0.4400, Validation Accuracy: 0.4120\n"
     ]
    },
    {
     "name": "stderr",
     "output_type": "stream",
     "text": [
      " 82%|████████▏ | 41/50 [00:18<00:03,  2.29it/s]"
     ]
    },
    {
     "name": "stdout",
     "output_type": "stream",
     "text": [
      "Epoch 41/50, Train Loss: 1.4756, Val Loss: 1.4932, Train Accuracy: 0.4358, Validation Accuracy: 0.4120\n"
     ]
    },
    {
     "name": "stderr",
     "output_type": "stream",
     "text": [
      " 84%|████████▍ | 42/50 [00:18<00:03,  2.28it/s]"
     ]
    },
    {
     "name": "stdout",
     "output_type": "stream",
     "text": [
      "Epoch 42/50, Train Loss: 1.4746, Val Loss: 1.4932, Train Accuracy: 0.4400, Validation Accuracy: 0.4120\n"
     ]
    },
    {
     "name": "stderr",
     "output_type": "stream",
     "text": [
      " 86%|████████▌ | 43/50 [00:19<00:03,  2.27it/s]"
     ]
    },
    {
     "name": "stdout",
     "output_type": "stream",
     "text": [
      "Epoch 43/50, Train Loss: 1.4732, Val Loss: 1.4930, Train Accuracy: 0.4400, Validation Accuracy: 0.4120\n"
     ]
    },
    {
     "name": "stderr",
     "output_type": "stream",
     "text": [
      " 88%|████████▊ | 44/50 [00:19<00:02,  2.26it/s]"
     ]
    },
    {
     "name": "stdout",
     "output_type": "stream",
     "text": [
      "Epoch 44/50, Train Loss: 1.4753, Val Loss: 1.4924, Train Accuracy: 0.4400, Validation Accuracy: 0.4120\n"
     ]
    },
    {
     "name": "stderr",
     "output_type": "stream",
     "text": [
      " 90%|█████████ | 45/50 [00:20<00:02,  2.24it/s]"
     ]
    },
    {
     "name": "stdout",
     "output_type": "stream",
     "text": [
      "Epoch 45/50, Train Loss: 1.4748, Val Loss: 1.4940, Train Accuracy: 0.4400, Validation Accuracy: 0.4120\n"
     ]
    },
    {
     "name": "stderr",
     "output_type": "stream",
     "text": [
      " 92%|█████████▏| 46/50 [00:20<00:01,  2.22it/s]"
     ]
    },
    {
     "name": "stdout",
     "output_type": "stream",
     "text": [
      "Epoch 46/50, Train Loss: 1.4770, Val Loss: 1.4922, Train Accuracy: 0.4400, Validation Accuracy: 0.4120\n"
     ]
    },
    {
     "name": "stderr",
     "output_type": "stream",
     "text": [
      " 94%|█████████▍| 47/50 [00:20<00:01,  2.22it/s]"
     ]
    },
    {
     "name": "stdout",
     "output_type": "stream",
     "text": [
      "Epoch 47/50, Train Loss: 1.4776, Val Loss: 1.4928, Train Accuracy: 0.4400, Validation Accuracy: 0.4120\n"
     ]
    },
    {
     "name": "stderr",
     "output_type": "stream",
     "text": [
      " 96%|█████████▌| 48/50 [00:21<00:00,  2.21it/s]"
     ]
    },
    {
     "name": "stdout",
     "output_type": "stream",
     "text": [
      "Epoch 48/50, Train Loss: 1.4760, Val Loss: 1.4934, Train Accuracy: 0.4400, Validation Accuracy: 0.4120\n"
     ]
    },
    {
     "name": "stderr",
     "output_type": "stream",
     "text": [
      " 98%|█████████▊| 49/50 [00:21<00:00,  2.20it/s]"
     ]
    },
    {
     "name": "stdout",
     "output_type": "stream",
     "text": [
      "Epoch 49/50, Train Loss: 1.4781, Val Loss: 1.4932, Train Accuracy: 0.4400, Validation Accuracy: 0.4120\n"
     ]
    },
    {
     "name": "stderr",
     "output_type": "stream",
     "text": [
      "100%|██████████| 50/50 [00:22<00:00,  2.24it/s]"
     ]
    },
    {
     "name": "stdout",
     "output_type": "stream",
     "text": [
      "Epoch 50/50, Train Loss: 1.4750, Val Loss: 1.4930, Train Accuracy: 0.4400, Validation Accuracy: 0.4120\n",
      "Time taken for the model to run finish: 22.35 seconds\n",
      "Time taken to run finish the test: 0.01 seconds\n",
      "Test Accuracy: 0.4060\n"
     ]
    },
    {
     "name": "stderr",
     "output_type": "stream",
     "text": [
      "\n"
     ]
    },
    {
     "data": {
      "image/png": "[encoded data removed]",
      "text/plain": [
       "<Figure size 1000x400 with 2 Axes>"
      ]
     },
     "metadata": {},
     "output_type": "display_data"
    },
    {
     "name": "stdout",
     "output_type": "stream",
     "text": [
      "Best accuracy for All RNN Runs: 0, 0.406\n"
     ]
    }
   ],
   "source": [
    "batch_size = 128\n",
    "hidden_dim = 512\n",
    "embedding_dim = w2v.vector_size\n",
    "early_stopper = EarlyStopper(patience=3)\n",
    "device = get_device()\n",
    "epoch = 50\n",
    "learning_rate = 0.001\n",
    "dropout_prob = 0.2\n",
    "mode = \"rnn\"\n",
    "\n",
    "# Getting list of labels\n",
    "labels_list = train_df['label-coarse'].value_counts().index.tolist()\n",
    "print(labels_list)\n",
    "labels_dict = {label: i for i, label in enumerate(labels_list)}\n",
    "labels_dict_inverse = {i: label for i, label in enumerate(labels_list)}\n",
    "print(labels_dict)\n",
    "num_labels = len(labels_list)\n",
    "print(\"Length of num_labels: \", num_labels)\n",
    "\n",
    "acc, tt = [], []\n",
    "rnn_run_index = [i for i in range(10)]\n",
    "\n",
    "for run in rnn_run_index:\n",
    "    train_data_loader, validation_data_loader = get_training_data(batch_size, w2v, train_df, validation_df)\n",
    "    test_data_loader = get_test_data(batch_size, w2v, random_seed=random_seed)\n",
    "    model = get_model(embedding_dim, hidden_dim, num_labels, pretrained_embeddings, dropout_prob=dropout_prob)\n",
    "    early_stopper = EarlyStopper(patience=3)\n",
    "\n",
    "    _, _, _, _, time_taken = train_model(model, train_data_loader, validation_data_loader, mode= mode,\n",
    "                                        device=device, epochs=epoch, random_initial_state=False, \n",
    "                                        learning_rate=learning_rate, early_stopper=early_stopper, debug=True)\n",
    "    test_accuracy = test_model(model=model, test_data_loader=test_data_loader, mode=mode, device=device)\n",
    "    acc.append(test_accuracy)\n",
    "    tt.append(time_taken)\n",
    "\n",
    "plot_findings(rnn_run_index, [acc, tt], \"Index\")\n",
    "print(f\"Best accuracy for All RNN Runs: {rnn_run_index[acc.index(max(acc))]}, {max(acc)}\")"
   ]
  },
  {
   "cell_type": "markdown",
   "metadata": {},
   "source": [
    "### Best score for Batch Size:"
   ]
  },
  {
   "cell_type": "code",
   "execution_count": 86,
   "metadata": {},
   "outputs": [
    {
     "name": "stdout",
     "output_type": "stream",
     "text": [
      "$ GPU Activated $\n",
      "['OTHERS', 1, 4, 5, 2]\n",
      "{'OTHERS': 0, 1: 1, 4: 2, 5: 3, 2: 4}\n",
      "Length of num_labels:  5\n"
     ]
    },
    {
     "name": "stderr",
     "output_type": "stream",
     "text": [
      " 18%|█▊        | 9/50 [00:08<00:40,  1.02it/s]"
     ]
    },
    {
     "name": "stdout",
     "output_type": "stream",
     "text": [
      "Early stopping at epoch (10) due to no improvement in accuracy.\n",
      "Time taken for the model to run finish: 8.86 seconds\n",
      "Time taken to run finish the test: 0.06 seconds\n",
      "Test Accuracy: 0.7740\n"
     ]
    },
    {
     "name": "stderr",
     "output_type": "stream",
     "text": [
      "\n",
      " 18%|█▊        | 9/50 [00:05<00:26,  1.52it/s]"
     ]
    },
    {
     "name": "stdout",
     "output_type": "stream",
     "text": [
      "Early stopping at epoch (10) due to no improvement in accuracy.\n",
      "Time taken for the model to run finish: 5.93 seconds\n",
      "Time taken to run finish the test: 0.03 seconds\n",
      "Test Accuracy: 0.7860\n"
     ]
    },
    {
     "name": "stderr",
     "output_type": "stream",
     "text": [
      "\n",
      " 32%|███▏      | 16/50 [00:06<00:13,  2.43it/s]"
     ]
    },
    {
     "name": "stdout",
     "output_type": "stream",
     "text": [
      "Early stopping at epoch (17) due to no improvement in accuracy.\n",
      "Time taken for the model to run finish: 6.59 seconds\n",
      "Time taken to run finish the test: 0.03 seconds\n",
      "Test Accuracy: 0.7860\n"
     ]
    },
    {
     "name": "stderr",
     "output_type": "stream",
     "text": [
      "\n",
      " 36%|███▌      | 18/50 [00:06<00:11,  2.70it/s]"
     ]
    },
    {
     "name": "stdout",
     "output_type": "stream",
     "text": [
      "Early stopping at epoch (19) due to no improvement in accuracy.\n",
      "Time taken for the model to run finish: 6.67 seconds\n",
      "Time taken to run finish the test: 0.02 seconds\n",
      "Test Accuracy: 0.7880\n"
     ]
    },
    {
     "name": "stderr",
     "output_type": "stream",
     "text": [
      "\n",
      " 56%|█████▌    | 28/50 [00:09<00:07,  2.96it/s]"
     ]
    },
    {
     "name": "stdout",
     "output_type": "stream",
     "text": [
      "Early stopping at epoch (29) due to no improvement in accuracy.\n",
      "Time taken for the model to run finish: 9.47 seconds\n",
      "Time taken to run finish the test: 0.02 seconds\n",
      "Test Accuracy: 0.7780\n"
     ]
    },
    {
     "name": "stderr",
     "output_type": "stream",
     "text": [
      "\n",
      "  6%|▌         | 3/50 [00:01<00:17,  2.70it/s]"
     ]
    },
    {
     "name": "stdout",
     "output_type": "stream",
     "text": [
      "Early stopping at epoch (4) due to no improvement in accuracy.\n",
      "Time taken for the model to run finish: 1.11 seconds\n",
      "Time taken to run finish the test: 0.02 seconds\n",
      "Test Accuracy: 0.4060\n"
     ]
    },
    {
     "name": "stderr",
     "output_type": "stream",
     "text": [
      "\n"
     ]
    },
    {
     "data": {
      "image/png": "[encoded data removed]",
      "text/plain": [
       "<Figure size 1000x400 with 2 Axes>"
      ]
     },
     "metadata": {},
     "output_type": "display_data"
    },
    {
     "name": "stdout",
     "output_type": "stream",
     "text": [
      "Best accuracy for Batch Size: 256, 0.788\n"
     ]
    }
   ],
   "source": [
    "# batch_size = 32\n",
    "hidden_dim = 512\n",
    "embedding_dim = w2v.vector_size\n",
    "early_stopper = EarlyStopper(patience=3)\n",
    "device = get_device()\n",
    "epoch = 50\n",
    "learning_rate = 0.001\n",
    "dropout_prob = 0.2\n",
    "mode = \"mean\"\n",
    "\n",
    "# Getting list of labels\n",
    "labels_list = train_df['label-coarse'].value_counts().index.tolist()\n",
    "print(labels_list)\n",
    "labels_dict = {label: i for i, label in enumerate(labels_list)}\n",
    "labels_dict_inverse = {i: label for i, label in enumerate(labels_list)}\n",
    "print(labels_dict)\n",
    "num_labels = len(labels_list)\n",
    "print(\"Length of num_labels: \", num_labels)\n",
    "\n",
    "acc, tt = [], []\n",
    "batch_size = [32, 64, 128, 256, 512, 1024]\n",
    "for BS in batch_size:\n",
    "    train_data_loader, validation_data_loader = get_training_data(BS, w2v, train_df, validation_df)\n",
    "    test_data_loader = get_test_data(BS, w2v, random_seed=random_seed)\n",
    "    model = get_model(embedding_dim, hidden_dim, num_labels, pretrained_embeddings, dropout_prob=dropout_prob)\n",
    "    early_stopper = EarlyStopper(patience=3)\n",
    "\n",
    "    _, _, _, _, time_taken = train_model(model, train_data_loader, validation_data_loader, mode= mode,\n",
    "                                        device=device, epochs=epoch, random_initial_state=False, \n",
    "                                        learning_rate=learning_rate, early_stopper=early_stopper, debug=False)\n",
    "    test_accuracy = test_model(model=model, test_data_loader=test_data_loader, mode=mode, device=device)\n",
    "    acc.append(test_accuracy)\n",
    "    tt.append(time_taken)\n",
    "\n",
    "plot_findings(batch_size, [acc, tt], \"Batch Size\")\n",
    "print(f\"Best accuracy for Batch Size: {batch_size[acc.index(max(acc))]}, {max(acc)}\")"
   ]
  },
  {
   "cell_type": "markdown",
   "metadata": {},
   "source": [
    "### Best score for Hidden Dimension:"
   ]
  },
  {
   "cell_type": "code",
   "execution_count": 87,
   "metadata": {},
   "outputs": [
    {
     "name": "stdout",
     "output_type": "stream",
     "text": [
      "$ GPU Activated $\n",
      "['OTHERS', 1, 4, 5, 2]\n",
      "{'OTHERS': 0, 1: 1, 4: 2, 5: 3, 2: 4}\n",
      "Length of num_labels:  5\n"
     ]
    },
    {
     "name": "stderr",
     "output_type": "stream",
     "text": [
      " 74%|███████▍  | 37/50 [00:15<00:05,  2.39it/s]"
     ]
    },
    {
     "name": "stdout",
     "output_type": "stream",
     "text": [
      "Early stopping at epoch (38) due to no improvement in accuracy.\n",
      "Time taken for the model to run finish: 15.49 seconds\n",
      "Time taken to run finish the test: 0.03 seconds\n",
      "Test Accuracy: 0.7780\n"
     ]
    },
    {
     "name": "stderr",
     "output_type": "stream",
     "text": [
      "\n",
      " 58%|█████▊    | 29/50 [00:12<00:08,  2.42it/s]"
     ]
    },
    {
     "name": "stdout",
     "output_type": "stream",
     "text": [
      "Early stopping at epoch (30) due to no improvement in accuracy.\n",
      "Time taken for the model to run finish: 12.01 seconds\n",
      "Time taken to run finish the test: 0.05 seconds\n",
      "Test Accuracy: 0.7740\n"
     ]
    },
    {
     "name": "stderr",
     "output_type": "stream",
     "text": [
      "\n",
      " 40%|████      | 20/50 [00:08<00:12,  2.39it/s]"
     ]
    },
    {
     "name": "stdout",
     "output_type": "stream",
     "text": [
      "Early stopping at epoch (21) due to no improvement in accuracy.\n",
      "Time taken for the model to run finish: 8.37 seconds\n",
      "Time taken to run finish the test: 0.03 seconds\n",
      "Test Accuracy: 0.7880\n"
     ]
    },
    {
     "name": "stderr",
     "output_type": "stream",
     "text": [
      "\n",
      " 40%|████      | 20/50 [00:08<00:12,  2.34it/s]"
     ]
    },
    {
     "name": "stdout",
     "output_type": "stream",
     "text": [
      "Early stopping at epoch (21) due to no improvement in accuracy.\n",
      "Time taken for the model to run finish: 8.56 seconds\n",
      "Time taken to run finish the test: 0.03 seconds\n",
      "Test Accuracy: 0.7660\n"
     ]
    },
    {
     "name": "stderr",
     "output_type": "stream",
     "text": [
      "\n",
      " 32%|███▏      | 16/50 [00:07<00:15,  2.27it/s]"
     ]
    },
    {
     "name": "stdout",
     "output_type": "stream",
     "text": [
      "Early stopping at epoch (17) due to no improvement in accuracy.\n",
      "Time taken for the model to run finish: 7.06 seconds\n",
      "Time taken to run finish the test: 0.03 seconds\n",
      "Test Accuracy: 0.7700\n"
     ]
    },
    {
     "name": "stderr",
     "output_type": "stream",
     "text": [
      "\n",
      " 32%|███▏      | 16/50 [00:06<00:14,  2.31it/s]"
     ]
    },
    {
     "name": "stdout",
     "output_type": "stream",
     "text": [
      "Early stopping at epoch (17) due to no improvement in accuracy.\n",
      "Time taken for the model to run finish: 6.94 seconds\n",
      "Time taken to run finish the test: 0.04 seconds\n",
      "Test Accuracy: 0.7780\n"
     ]
    },
    {
     "name": "stderr",
     "output_type": "stream",
     "text": [
      "\n",
      " 26%|██▌       | 13/50 [00:07<00:20,  1.84it/s]"
     ]
    },
    {
     "name": "stdout",
     "output_type": "stream",
     "text": [
      "Early stopping at epoch (14) due to no improvement in accuracy.\n",
      "Time taken for the model to run finish: 7.06 seconds\n",
      "Time taken to run finish the test: 0.03 seconds\n",
      "Test Accuracy: 0.7840\n"
     ]
    },
    {
     "name": "stderr",
     "output_type": "stream",
     "text": [
      "\n"
     ]
    },
    {
     "data": {
      "image/png": "[encoded data removed]",
      "text/plain": [
       "<Figure size 1000x400 with 2 Axes>"
      ]
     },
     "metadata": {},
     "output_type": "display_data"
    },
    {
     "name": "stdout",
     "output_type": "stream",
     "text": [
      "Best accuracy for Hidden Dimension: 64, 0.788\n"
     ]
    }
   ],
   "source": [
    "batch_size = 128\n",
    "# hidden_dim = 512\n",
    "embedding_dim = w2v.vector_size\n",
    "early_stopper = EarlyStopper(patience=3)\n",
    "device = get_device()\n",
    "epoch = 50\n",
    "learning_rate = 0.001\n",
    "dropout_prob = 0.2\n",
    "mode = \"mean\"\n",
    "\n",
    "# Getting list of labels\n",
    "labels_list = train_df['label-coarse'].value_counts().index.tolist()\n",
    "print(labels_list)\n",
    "labels_dict = {label: i for i, label in enumerate(labels_list)}\n",
    "labels_dict_inverse = {i: label for i, label in enumerate(labels_list)}\n",
    "print(labels_dict)\n",
    "num_labels = len(labels_list)\n",
    "print(\"Length of num_labels: \", num_labels)\n",
    "\n",
    "acc, tt = [], []\n",
    "hidden_dim = [16, 32, 64, 128, 256, 512, 1024]\n",
    "for HD in hidden_dim:\n",
    "    train_data_loader, validation_data_loader = get_training_data(batch_size, w2v, train_df, validation_df)\n",
    "    test_data_loader = get_test_data(batch_size, w2v, random_seed=random_seed)\n",
    "    model = get_model(embedding_dim, HD, num_labels, pretrained_embeddings, dropout_prob=dropout_prob)\n",
    "    early_stopper = EarlyStopper(patience=3)\n",
    "\n",
    "    _, _, _, _, time_taken = train_model(model, train_data_loader, validation_data_loader, mode= mode,\n",
    "                                        device=device, epochs=epoch, random_initial_state=False, \n",
    "                                        learning_rate=learning_rate, early_stopper=early_stopper, debug=False)\n",
    "    test_accuracy = test_model(model=model, test_data_loader=test_data_loader, mode=mode, device=device)\n",
    "    acc.append(test_accuracy)\n",
    "    tt.append(time_taken)\n",
    "\n",
    "plot_findings(hidden_dim, [acc, tt], \"Hidden Dimension\")\n",
    "print(f\"Best accuracy for Hidden Dimension: {hidden_dim[acc.index(max(acc))]}, {max(acc)}\")"
   ]
  },
  {
   "cell_type": "markdown",
   "metadata": {},
   "source": [
    "### Best score for Learning Rate:"
   ]
  },
  {
   "cell_type": "code",
   "execution_count": 88,
   "metadata": {},
   "outputs": [
    {
     "name": "stdout",
     "output_type": "stream",
     "text": [
      "$ GPU Activated $\n",
      "['OTHERS', 1, 4, 5, 2]\n",
      "{'OTHERS': 0, 1: 1, 4: 2, 5: 3, 2: 4}\n",
      "Length of num_labels:  5\n"
     ]
    },
    {
     "name": "stderr",
     "output_type": "stream",
     "text": [
      "100%|██████████| 50/50 [00:19<00:00,  2.60it/s]\n"
     ]
    },
    {
     "name": "stdout",
     "output_type": "stream",
     "text": [
      "Time taken for the model to run finish: 19.24 seconds\n",
      "Time taken to run finish the test: 0.03 seconds\n",
      "Test Accuracy: 0.7040\n"
     ]
    },
    {
     "name": "stderr",
     "output_type": "stream",
     "text": [
      " 32%|███▏      | 16/50 [00:06<00:13,  2.50it/s]"
     ]
    },
    {
     "name": "stdout",
     "output_type": "stream",
     "text": [
      "Early stopping at epoch (17) due to no improvement in accuracy.\n",
      "Time taken for the model to run finish: 6.39 seconds\n",
      "Time taken to run finish the test: 0.02 seconds\n",
      "Test Accuracy: 0.7880\n"
     ]
    },
    {
     "name": "stderr",
     "output_type": "stream",
     "text": [
      "\n",
      " 36%|███▌      | 18/50 [00:07<00:13,  2.45it/s]"
     ]
    },
    {
     "name": "stdout",
     "output_type": "stream",
     "text": [
      "Early stopping at epoch (19) due to no improvement in accuracy.\n",
      "Time taken for the model to run finish: 7.35 seconds\n",
      "Time taken to run finish the test: 0.05 seconds\n",
      "Test Accuracy: 0.8120\n"
     ]
    },
    {
     "name": "stderr",
     "output_type": "stream",
     "text": [
      "\n",
      "100%|██████████| 50/50 [00:18<00:00,  2.68it/s]\n"
     ]
    },
    {
     "name": "stdout",
     "output_type": "stream",
     "text": [
      "Time taken for the model to run finish: 18.67 seconds\n",
      "Time taken to run finish the test: 0.02 seconds\n",
      "Test Accuracy: 0.1880\n"
     ]
    },
    {
     "name": "stderr",
     "output_type": "stream",
     "text": [
      "100%|██████████| 50/50 [00:19<00:00,  2.63it/s]\n"
     ]
    },
    {
     "name": "stdout",
     "output_type": "stream",
     "text": [
      "Time taken for the model to run finish: 19.03 seconds\n",
      "Time taken to run finish the test: 0.02 seconds\n",
      "Test Accuracy: 0.4060\n"
     ]
    },
    {
     "data": {
      "image/png": "[encoded data removed]",
      "text/plain": [
       "<Figure size 1000x400 with 2 Axes>"
      ]
     },
     "metadata": {},
     "output_type": "display_data"
    },
    {
     "name": "stdout",
     "output_type": "stream",
     "text": [
      "Best accuracy for Learning Rate: 0.01, 0.812\n"
     ]
    }
   ],
   "source": [
    "batch_size = 128\n",
    "hidden_dim = 512\n",
    "embedding_dim = w2v.vector_size\n",
    "early_stopper = EarlyStopper(patience=3)\n",
    "device = get_device()\n",
    "epoch = 50\n",
    "# learning_rate = 0.001\n",
    "dropout_prob = 0.2\n",
    "mode = \"mean\"\n",
    "\n",
    "# Getting list of labels\n",
    "labels_list = train_df['label-coarse'].value_counts().index.tolist()\n",
    "print(labels_list)\n",
    "labels_dict = {label: i for i, label in enumerate(labels_list)}\n",
    "labels_dict_inverse = {i: label for i, label in enumerate(labels_list)}\n",
    "print(labels_dict)\n",
    "num_labels = len(labels_list)\n",
    "print(\"Length of num_labels: \", num_labels)\n",
    "\n",
    "acc, tt = [], []\n",
    "learning_rate = [0.0001, 0.001, 0.01, 0.1,1]\n",
    "for lr in learning_rate:\n",
    "    train_data_loader, validation_data_loader = get_training_data(batch_size, w2v, train_df, validation_df)\n",
    "    test_data_loader = get_test_data(batch_size, w2v, random_seed=random_seed)\n",
    "    model = get_model(embedding_dim, hidden_dim, num_labels, pretrained_embeddings, dropout_prob=dropout_prob)\n",
    "    early_stopper = EarlyStopper(patience=3)\n",
    "\n",
    "    _, _, _, _, time_taken = train_model(model, train_data_loader, validation_data_loader, mode= mode,\n",
    "                                        device=device, epochs=epoch, random_initial_state=False, \n",
    "                                        learning_rate=lr, early_stopper=early_stopper, debug=False)\n",
    "    test_accuracy = test_model(model=model, test_data_loader=test_data_loader, mode=mode, device=device)\n",
    "    acc.append(test_accuracy)\n",
    "    tt.append(time_taken)\n",
    "\n",
    "plot_findings(learning_rate, [acc, tt], \"Learning Rate\")\n",
    "print(f\"Best accuracy for Learning Rate: {learning_rate[acc.index(max(acc))]}, {max(acc)}\")"
   ]
  },
  {
   "cell_type": "markdown",
   "metadata": {},
   "source": [
    "### Best score for Dropout Probability:"
   ]
  },
  {
   "cell_type": "code",
   "execution_count": 89,
   "metadata": {},
   "outputs": [
    {
     "name": "stdout",
     "output_type": "stream",
     "text": [
      "$ GPU Activated $\n",
      "['OTHERS', 1, 4, 5, 2]\n",
      "{'OTHERS': 0, 1: 1, 4: 2, 5: 3, 2: 4}\n",
      "Length of num_labels:  5\n"
     ]
    },
    {
     "name": "stderr",
     "output_type": "stream",
     "text": [
      " 32%|███▏      | 16/50 [00:06<00:13,  2.47it/s]"
     ]
    },
    {
     "name": "stdout",
     "output_type": "stream",
     "text": [
      "Early stopping at epoch (17) due to no improvement in accuracy.\n",
      "Time taken for the model to run finish: 6.49 seconds\n",
      "Time taken to run finish the test: 0.03 seconds\n",
      "Test Accuracy: 0.7900\n"
     ]
    },
    {
     "name": "stderr",
     "output_type": "stream",
     "text": [
      "\n",
      " 34%|███▍      | 17/50 [00:06<00:12,  2.54it/s]"
     ]
    },
    {
     "name": "stdout",
     "output_type": "stream",
     "text": [
      "Early stopping at epoch (18) due to no improvement in accuracy.\n",
      "Time taken for the model to run finish: 6.69 seconds\n",
      "Time taken to run finish the test: 0.05 seconds\n",
      "Test Accuracy: 0.7800\n"
     ]
    },
    {
     "name": "stderr",
     "output_type": "stream",
     "text": [
      "\n",
      " 32%|███▏      | 16/50 [00:06<00:14,  2.35it/s]"
     ]
    },
    {
     "name": "stdout",
     "output_type": "stream",
     "text": [
      "Early stopping at epoch (17) due to no improvement in accuracy.\n",
      "Time taken for the model to run finish: 6.80 seconds\n",
      "Time taken to run finish the test: 0.03 seconds\n",
      "Test Accuracy: 0.7840\n"
     ]
    },
    {
     "name": "stderr",
     "output_type": "stream",
     "text": [
      "\n",
      " 32%|███▏      | 16/50 [00:06<00:14,  2.39it/s]"
     ]
    },
    {
     "name": "stdout",
     "output_type": "stream",
     "text": [
      "Early stopping at epoch (17) due to no improvement in accuracy.\n",
      "Time taken for the model to run finish: 6.71 seconds\n",
      "Time taken to run finish the test: 0.03 seconds\n",
      "Test Accuracy: 0.7780\n"
     ]
    },
    {
     "name": "stderr",
     "output_type": "stream",
     "text": [
      "\n",
      " 28%|██▊       | 14/50 [00:06<00:16,  2.24it/s]"
     ]
    },
    {
     "name": "stdout",
     "output_type": "stream",
     "text": [
      "Early stopping at epoch (15) due to no improvement in accuracy.\n",
      "Time taken for the model to run finish: 6.26 seconds\n",
      "Time taken to run finish the test: 0.03 seconds\n",
      "Test Accuracy: 0.7720\n"
     ]
    },
    {
     "name": "stderr",
     "output_type": "stream",
     "text": [
      "\n"
     ]
    },
    {
     "data": {
      "image/png": "[encoded data removed]",
      "text/plain": [
       "<Figure size 1000x400 with 2 Axes>"
      ]
     },
     "metadata": {},
     "output_type": "display_data"
    },
    {
     "name": "stdout",
     "output_type": "stream",
     "text": [
      "Best accuracy for Dropout Probability: 0.1, 0.79\n"
     ]
    }
   ],
   "source": [
    "batch_size = 128\n",
    "hidden_dim = 512\n",
    "embedding_dim = w2v.vector_size\n",
    "early_stopper = EarlyStopper(patience=3)\n",
    "device = get_device()\n",
    "epoch = 50\n",
    "learning_rate = 0.001\n",
    "# dropout_prob = 0.2\n",
    "mode = \"mean\"\n",
    "\n",
    "# Getting list of labels\n",
    "labels_list = train_df['label-coarse'].value_counts().index.tolist()\n",
    "print(labels_list)\n",
    "labels_dict = {label: i for i, label in enumerate(labels_list)}\n",
    "labels_dict_inverse = {i: label for i, label in enumerate(labels_list)}\n",
    "print(labels_dict)\n",
    "num_labels = len(labels_list)\n",
    "print(\"Length of num_labels: \", num_labels)\n",
    "\n",
    "acc, tt = [], []\n",
    "dropout_prob = [0.1, 0.2, 0.3, 0.4, 0.5]\n",
    "for dp in dropout_prob:\n",
    "    train_data_loader, validation_data_loader = get_training_data(batch_size, w2v, train_df, validation_df)\n",
    "    test_data_loader = get_test_data(batch_size, w2v, random_seed=random_seed)\n",
    "    model = get_model(embedding_dim, hidden_dim, num_labels, pretrained_embeddings, dropout_prob=dp)\n",
    "    early_stopper = EarlyStopper(patience=3)\n",
    "\n",
    "    _, _, _, _, time_taken = train_model(model, train_data_loader, validation_data_loader, mode= mode,\n",
    "                                        device=device, epochs=epoch, random_initial_state=False, \n",
    "                                        learning_rate=learning_rate, early_stopper=early_stopper, debug=False)\n",
    "    test_accuracy = test_model(model=model, test_data_loader=test_data_loader, mode=mode, device=device)\n",
    "    acc.append(test_accuracy)\n",
    "    tt.append(time_taken)\n",
    "\n",
    "plot_findings(dropout_prob, [acc, tt], \"Dropout Probability\")\n",
    "print(f\"Best accuracy for Dropout Probability: {dropout_prob[acc.index(max(acc))]}, {max(acc)}\")"
   ]
  },
  {
   "cell_type": "code",
   "execution_count": null,
   "metadata": {},
   "outputs": [],
   "source": []
  }
 ],
 "metadata": {
  "kernelspec": {
   "display_name": "Python 3",
   "language": "python",
   "name": "python3"
  },
  "language_info": {
   "codemirror_mode": {
    "name": "ipython",
    "version": 3
   },
   "file_extension": ".py",
   "mimetype": "text/x-python",
   "name": "python",
   "nbconvert_exporter": "python",
   "pygments_lexer": "ipython3",
   "version": "3.11.4"
  }
 },
 "nbformat": 4,
 "nbformat_minor": 2
}
